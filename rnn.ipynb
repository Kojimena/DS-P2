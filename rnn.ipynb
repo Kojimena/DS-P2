{
 "cells": [
  {
   "cell_type": "code",
   "execution_count": 19,
   "id": "initial_id",
   "metadata": {
    "ExecuteTime": {
     "end_time": "2024-10-24T02:23:31.031884Z",
     "start_time": "2024-10-24T02:23:31.027562Z"
    },
    "collapsed": true
   },
   "outputs": [],
   "source": [
    "import numpy as np\n",
    "import pandas as pd\n",
    "\n",
    "from sklearn.model_selection import train_test_split"
   ]
  },
  {
   "cell_type": "code",
   "execution_count": 20,
   "id": "f39e8e46aabfd718",
   "metadata": {
    "ExecuteTime": {
     "end_time": "2024-10-24T02:23:31.044660Z",
     "start_time": "2024-10-24T02:23:31.031884Z"
    }
   },
   "outputs": [],
   "source": [
    "from tensorflow.keras.preprocessing.text import Tokenizer\n",
    "from tensorflow.keras.preprocessing.sequence import pad_sequences"
   ]
  },
  {
   "cell_type": "code",
   "execution_count": 21,
   "id": "661eba0922649bb9",
   "metadata": {
    "ExecuteTime": {
     "end_time": "2024-10-24T02:23:31.118434Z",
     "start_time": "2024-10-24T02:23:31.067697Z"
    }
   },
   "outputs": [
    {
     "data": {
      "text/html": [
       "<div>\n",
       "<style scoped>\n",
       "    .dataframe tbody tr th:only-of-type {\n",
       "        vertical-align: middle;\n",
       "    }\n",
       "\n",
       "    .dataframe tbody tr th {\n",
       "        vertical-align: top;\n",
       "    }\n",
       "\n",
       "    .dataframe thead th {\n",
       "        text-align: right;\n",
       "    }\n",
       "</style>\n",
       "<table border=\"1\" class=\"dataframe\">\n",
       "  <thead>\n",
       "    <tr style=\"text-align: right;\">\n",
       "      <th></th>\n",
       "      <th>student_id</th>\n",
       "      <th>prompt_id</th>\n",
       "      <th>text</th>\n",
       "      <th>content</th>\n",
       "      <th>wording</th>\n",
       "      <th>prompt_question</th>\n",
       "      <th>prompt_title</th>\n",
       "      <th>prompt_text</th>\n",
       "      <th>text_length</th>\n",
       "      <th>word_count</th>\n",
       "      <th>number_count</th>\n",
       "      <th>punctuation_count</th>\n",
       "      <th>stopword_count</th>\n",
       "    </tr>\n",
       "  </thead>\n",
       "  <tbody>\n",
       "    <tr>\n",
       "      <th>0</th>\n",
       "      <td>000e8c3c7ddb</td>\n",
       "      <td>814d6b</td>\n",
       "      <td>The third wave was an experimentto see how peo...</td>\n",
       "      <td>0.205683</td>\n",
       "      <td>0.380538</td>\n",
       "      <td>Summarize how the Third Wave developed over su...</td>\n",
       "      <td>The Third Wave</td>\n",
       "      <td>Background \\r\\nThe Third Wave ex...</td>\n",
       "      <td>346</td>\n",
       "      <td>61</td>\n",
       "      <td>0</td>\n",
       "      <td>3</td>\n",
       "      <td>21</td>\n",
       "    </tr>\n",
       "    <tr>\n",
       "      <th>1</th>\n",
       "      <td>0070c9e7af47</td>\n",
       "      <td>814d6b</td>\n",
       "      <td>The Third Wave developed  rapidly because the ...</td>\n",
       "      <td>3.272894</td>\n",
       "      <td>3.219757</td>\n",
       "      <td>Summarize how the Third Wave developed over su...</td>\n",
       "      <td>The Third Wave</td>\n",
       "      <td>Background \\r\\nThe Third Wave ex...</td>\n",
       "      <td>1225</td>\n",
       "      <td>203</td>\n",
       "      <td>3</td>\n",
       "      <td>29</td>\n",
       "      <td>79</td>\n",
       "    </tr>\n",
       "    <tr>\n",
       "      <th>2</th>\n",
       "      <td>0095993991fe</td>\n",
       "      <td>814d6b</td>\n",
       "      <td>The third wave only started as an experiment w...</td>\n",
       "      <td>0.205683</td>\n",
       "      <td>0.380538</td>\n",
       "      <td>Summarize how the Third Wave developed over su...</td>\n",
       "      <td>The Third Wave</td>\n",
       "      <td>Background \\r\\nThe Third Wave ex...</td>\n",
       "      <td>345</td>\n",
       "      <td>60</td>\n",
       "      <td>0</td>\n",
       "      <td>9</td>\n",
       "      <td>24</td>\n",
       "    </tr>\n",
       "    <tr>\n",
       "      <th>3</th>\n",
       "      <td>00c20c6ddd23</td>\n",
       "      <td>814d6b</td>\n",
       "      <td>The experimen was orginally about how even whe...</td>\n",
       "      <td>0.567975</td>\n",
       "      <td>0.969062</td>\n",
       "      <td>Summarize how the Third Wave developed over su...</td>\n",
       "      <td>The Third Wave</td>\n",
       "      <td>Background \\r\\nThe Third Wave ex...</td>\n",
       "      <td>451</td>\n",
       "      <td>76</td>\n",
       "      <td>0</td>\n",
       "      <td>10</td>\n",
       "      <td>33</td>\n",
       "    </tr>\n",
       "    <tr>\n",
       "      <th>4</th>\n",
       "      <td>00d40ad10dc9</td>\n",
       "      <td>814d6b</td>\n",
       "      <td>The third wave developed so quickly due to the...</td>\n",
       "      <td>-0.910596</td>\n",
       "      <td>-0.081769</td>\n",
       "      <td>Summarize how the Third Wave developed over su...</td>\n",
       "      <td>The Third Wave</td>\n",
       "      <td>Background \\r\\nThe Third Wave ex...</td>\n",
       "      <td>145</td>\n",
       "      <td>27</td>\n",
       "      <td>0</td>\n",
       "      <td>2</td>\n",
       "      <td>10</td>\n",
       "    </tr>\n",
       "  </tbody>\n",
       "</table>\n",
       "</div>"
      ],
      "text/plain": [
       "     student_id prompt_id                                               text  \\\n",
       "0  000e8c3c7ddb    814d6b  The third wave was an experimentto see how peo...   \n",
       "1  0070c9e7af47    814d6b  The Third Wave developed  rapidly because the ...   \n",
       "2  0095993991fe    814d6b  The third wave only started as an experiment w...   \n",
       "3  00c20c6ddd23    814d6b  The experimen was orginally about how even whe...   \n",
       "4  00d40ad10dc9    814d6b  The third wave developed so quickly due to the...   \n",
       "\n",
       "    content   wording                                    prompt_question  \\\n",
       "0  0.205683  0.380538  Summarize how the Third Wave developed over su...   \n",
       "1  3.272894  3.219757  Summarize how the Third Wave developed over su...   \n",
       "2  0.205683  0.380538  Summarize how the Third Wave developed over su...   \n",
       "3  0.567975  0.969062  Summarize how the Third Wave developed over su...   \n",
       "4 -0.910596 -0.081769  Summarize how the Third Wave developed over su...   \n",
       "\n",
       "     prompt_title                          prompt_text  text_length  \\\n",
       "0  The Third Wave  Background \\r\\nThe Third Wave ex...          346   \n",
       "1  The Third Wave  Background \\r\\nThe Third Wave ex...         1225   \n",
       "2  The Third Wave  Background \\r\\nThe Third Wave ex...          345   \n",
       "3  The Third Wave  Background \\r\\nThe Third Wave ex...          451   \n",
       "4  The Third Wave  Background \\r\\nThe Third Wave ex...          145   \n",
       "\n",
       "   word_count  number_count  punctuation_count  stopword_count  \n",
       "0          61             0                  3              21  \n",
       "1         203             3                 29              79  \n",
       "2          60             0                  9              24  \n",
       "3          76             0                 10              33  \n",
       "4          27             0                  2              10  "
      ]
     },
     "execution_count": 21,
     "metadata": {},
     "output_type": "execute_result"
    }
   ],
   "source": [
    "data = pd.read_csv('data/Finaltrain.csv')\n",
    "data.head()"
   ]
  },
  {
   "cell_type": "code",
   "execution_count": 22,
   "id": "b04d5a0f2c2bb168",
   "metadata": {
    "ExecuteTime": {
     "end_time": "2024-10-24T02:23:31.175681Z",
     "start_time": "2024-10-24T02:23:31.167766Z"
    }
   },
   "outputs": [
    {
     "data": {
      "text/html": [
       "<div>\n",
       "<style scoped>\n",
       "    .dataframe tbody tr th:only-of-type {\n",
       "        vertical-align: middle;\n",
       "    }\n",
       "\n",
       "    .dataframe tbody tr th {\n",
       "        vertical-align: top;\n",
       "    }\n",
       "\n",
       "    .dataframe thead th {\n",
       "        text-align: right;\n",
       "    }\n",
       "</style>\n",
       "<table border=\"1\" class=\"dataframe\">\n",
       "  <thead>\n",
       "    <tr style=\"text-align: right;\">\n",
       "      <th></th>\n",
       "      <th>student_id</th>\n",
       "      <th>prompt_id</th>\n",
       "      <th>text</th>\n",
       "      <th>content</th>\n",
       "      <th>wording</th>\n",
       "      <th>prompt_question</th>\n",
       "      <th>prompt_title</th>\n",
       "      <th>prompt_text</th>\n",
       "      <th>text_length</th>\n",
       "      <th>word_count</th>\n",
       "      <th>number_count</th>\n",
       "      <th>punctuation_count</th>\n",
       "      <th>stopword_count</th>\n",
       "    </tr>\n",
       "  </thead>\n",
       "  <tbody>\n",
       "    <tr>\n",
       "      <th>0</th>\n",
       "      <td>28ee3cf5921f</td>\n",
       "      <td>39c16e</td>\n",
       "      <td>One element is of the protagonist. This must b...</td>\n",
       "      <td>1.921071</td>\n",
       "      <td>1.879425</td>\n",
       "      <td>Summarize at least 3 elements of an ideal trag...</td>\n",
       "      <td>On Tragedy</td>\n",
       "      <td>Chapter 13 \\r\\nAs the sequel to ...</td>\n",
       "      <td>856</td>\n",
       "      <td>153</td>\n",
       "      <td>0</td>\n",
       "      <td>19</td>\n",
       "      <td>67</td>\n",
       "    </tr>\n",
       "    <tr>\n",
       "      <th>1</th>\n",
       "      <td>b8c10b33f684</td>\n",
       "      <td>39c16e</td>\n",
       "      <td>One of the most important elements of an ideal...</td>\n",
       "      <td>1.140002</td>\n",
       "      <td>0.743618</td>\n",
       "      <td>Summarize at least 3 elements of an ideal trag...</td>\n",
       "      <td>On Tragedy</td>\n",
       "      <td>Chapter 13 \\r\\nAs the sequel to ...</td>\n",
       "      <td>489</td>\n",
       "      <td>91</td>\n",
       "      <td>0</td>\n",
       "      <td>4</td>\n",
       "      <td>46</td>\n",
       "    </tr>\n",
       "    <tr>\n",
       "      <th>2</th>\n",
       "      <td>8ec808cbb9ce</td>\n",
       "      <td>ebad26</td>\n",
       "      <td>The meat packing industry would cover up meat ...</td>\n",
       "      <td>-0.693773</td>\n",
       "      <td>-0.490571</td>\n",
       "      <td>Summarize the various ways the factory would u...</td>\n",
       "      <td>Excerpt from The Jungle</td>\n",
       "      <td>With one member trimming beef ...</td>\n",
       "      <td>223</td>\n",
       "      <td>44</td>\n",
       "      <td>0</td>\n",
       "      <td>1</td>\n",
       "      <td>18</td>\n",
       "    </tr>\n",
       "    <tr>\n",
       "      <th>3</th>\n",
       "      <td>02f3987d58a6</td>\n",
       "      <td>3b9047</td>\n",
       "      <td>The structure of the ancient Egyptians system ...</td>\n",
       "      <td>2.124984</td>\n",
       "      <td>-0.467720</td>\n",
       "      <td>In complete sentences, summarize the structure...</td>\n",
       "      <td>Egyptian Social Structure</td>\n",
       "      <td>Egyptian society was structure...</td>\n",
       "      <td>1678</td>\n",
       "      <td>275</td>\n",
       "      <td>0</td>\n",
       "      <td>53</td>\n",
       "      <td>106</td>\n",
       "    </tr>\n",
       "    <tr>\n",
       "      <th>4</th>\n",
       "      <td>3752d3f0f1ea</td>\n",
       "      <td>39c16e</td>\n",
       "      <td>An ideal tragedy should have a complex plot fu...</td>\n",
       "      <td>-1.072613</td>\n",
       "      <td>-0.999629</td>\n",
       "      <td>Summarize at least 3 elements of an ideal trag...</td>\n",
       "      <td>On Tragedy</td>\n",
       "      <td>Chapter 13 \\r\\nAs the sequel to ...</td>\n",
       "      <td>193</td>\n",
       "      <td>34</td>\n",
       "      <td>0</td>\n",
       "      <td>3</td>\n",
       "      <td>15</td>\n",
       "    </tr>\n",
       "  </tbody>\n",
       "</table>\n",
       "</div>"
      ],
      "text/plain": [
       "     student_id prompt_id                                               text  \\\n",
       "0  28ee3cf5921f    39c16e  One element is of the protagonist. This must b...   \n",
       "1  b8c10b33f684    39c16e  One of the most important elements of an ideal...   \n",
       "2  8ec808cbb9ce    ebad26  The meat packing industry would cover up meat ...   \n",
       "3  02f3987d58a6    3b9047  The structure of the ancient Egyptians system ...   \n",
       "4  3752d3f0f1ea    39c16e  An ideal tragedy should have a complex plot fu...   \n",
       "\n",
       "    content   wording                                    prompt_question  \\\n",
       "0  1.921071  1.879425  Summarize at least 3 elements of an ideal trag...   \n",
       "1  1.140002  0.743618  Summarize at least 3 elements of an ideal trag...   \n",
       "2 -0.693773 -0.490571  Summarize the various ways the factory would u...   \n",
       "3  2.124984 -0.467720  In complete sentences, summarize the structure...   \n",
       "4 -1.072613 -0.999629  Summarize at least 3 elements of an ideal trag...   \n",
       "\n",
       "                prompt_title                          prompt_text  \\\n",
       "0                 On Tragedy  Chapter 13 \\r\\nAs the sequel to ...   \n",
       "1                 On Tragedy  Chapter 13 \\r\\nAs the sequel to ...   \n",
       "2    Excerpt from The Jungle    With one member trimming beef ...   \n",
       "3  Egyptian Social Structure    Egyptian society was structure...   \n",
       "4                 On Tragedy  Chapter 13 \\r\\nAs the sequel to ...   \n",
       "\n",
       "   text_length  word_count  number_count  punctuation_count  stopword_count  \n",
       "0          856         153             0                 19              67  \n",
       "1          489          91             0                  4              46  \n",
       "2          223          44             0                  1              18  \n",
       "3         1678         275             0                 53             106  \n",
       "4          193          34             0                  3              15  "
      ]
     },
     "execution_count": 22,
     "metadata": {},
     "output_type": "execute_result"
    }
   ],
   "source": [
    "# randomize data\n",
    "data = data.sample(frac=1).reset_index(drop=True) # Mezclar los datos\n",
    "\n",
    "data.head()"
   ]
  },
  {
   "cell_type": "markdown",
   "id": "8da3a2a8a8271049",
   "metadata": {},
   "source": [
    "## Preprocesamiento"
   ]
  },
  {
   "cell_type": "code",
   "execution_count": 23,
   "id": "72e3c21973aecca2",
   "metadata": {
    "ExecuteTime": {
     "end_time": "2024-10-24T02:23:31.238240Z",
     "start_time": "2024-10-24T02:23:31.227131Z"
    }
   },
   "outputs": [
    {
     "data": {
      "text/html": [
       "<div>\n",
       "<style scoped>\n",
       "    .dataframe tbody tr th:only-of-type {\n",
       "        vertical-align: middle;\n",
       "    }\n",
       "\n",
       "    .dataframe tbody tr th {\n",
       "        vertical-align: top;\n",
       "    }\n",
       "\n",
       "    .dataframe thead th {\n",
       "        text-align: right;\n",
       "    }\n",
       "</style>\n",
       "<table border=\"1\" class=\"dataframe\">\n",
       "  <thead>\n",
       "    <tr style=\"text-align: right;\">\n",
       "      <th></th>\n",
       "      <th>student_id</th>\n",
       "      <th>prompt_id</th>\n",
       "      <th>text</th>\n",
       "      <th>content</th>\n",
       "      <th>wording</th>\n",
       "      <th>prompt_question</th>\n",
       "      <th>prompt_title</th>\n",
       "      <th>prompt_text</th>\n",
       "      <th>text_length</th>\n",
       "      <th>word_count</th>\n",
       "      <th>number_count</th>\n",
       "      <th>punctuation_count</th>\n",
       "      <th>stopword_count</th>\n",
       "    </tr>\n",
       "  </thead>\n",
       "  <tbody>\n",
       "    <tr>\n",
       "      <th>0</th>\n",
       "      <td>28ee3cf5921f</td>\n",
       "      <td>39c16e</td>\n",
       "      <td>One element is of the protagonist. This must b...</td>\n",
       "      <td>1.921071</td>\n",
       "      <td>1.879425</td>\n",
       "      <td>Summarize at least 3 elements of an ideal trag...</td>\n",
       "      <td>On Tragedy</td>\n",
       "      <td>Chapter 13 \\r\\nAs the sequel to ...</td>\n",
       "      <td>0.193936</td>\n",
       "      <td>0.2096</td>\n",
       "      <td>0.0</td>\n",
       "      <td>0.121019</td>\n",
       "      <td>0.224832</td>\n",
       "    </tr>\n",
       "    <tr>\n",
       "      <th>1</th>\n",
       "      <td>b8c10b33f684</td>\n",
       "      <td>39c16e</td>\n",
       "      <td>One of the most important elements of an ideal...</td>\n",
       "      <td>1.140002</td>\n",
       "      <td>0.743618</td>\n",
       "      <td>Summarize at least 3 elements of an ideal trag...</td>\n",
       "      <td>On Tragedy</td>\n",
       "      <td>Chapter 13 \\r\\nAs the sequel to ...</td>\n",
       "      <td>0.098014</td>\n",
       "      <td>0.1104</td>\n",
       "      <td>0.0</td>\n",
       "      <td>0.025478</td>\n",
       "      <td>0.154362</td>\n",
       "    </tr>\n",
       "    <tr>\n",
       "      <th>2</th>\n",
       "      <td>8ec808cbb9ce</td>\n",
       "      <td>ebad26</td>\n",
       "      <td>The meat packing industry would cover up meat ...</td>\n",
       "      <td>-0.693773</td>\n",
       "      <td>-0.490571</td>\n",
       "      <td>Summarize the various ways the factory would u...</td>\n",
       "      <td>Excerpt from The Jungle</td>\n",
       "      <td>With one member trimming beef ...</td>\n",
       "      <td>0.028489</td>\n",
       "      <td>0.0352</td>\n",
       "      <td>0.0</td>\n",
       "      <td>0.006369</td>\n",
       "      <td>0.060403</td>\n",
       "    </tr>\n",
       "    <tr>\n",
       "      <th>3</th>\n",
       "      <td>02f3987d58a6</td>\n",
       "      <td>3b9047</td>\n",
       "      <td>The structure of the ancient Egyptians system ...</td>\n",
       "      <td>2.124984</td>\n",
       "      <td>-0.467720</td>\n",
       "      <td>In complete sentences, summarize the structure...</td>\n",
       "      <td>Egyptian Social Structure</td>\n",
       "      <td>Egyptian society was structure...</td>\n",
       "      <td>0.408782</td>\n",
       "      <td>0.4048</td>\n",
       "      <td>0.0</td>\n",
       "      <td>0.337580</td>\n",
       "      <td>0.355705</td>\n",
       "    </tr>\n",
       "    <tr>\n",
       "      <th>4</th>\n",
       "      <td>3752d3f0f1ea</td>\n",
       "      <td>39c16e</td>\n",
       "      <td>An ideal tragedy should have a complex plot fu...</td>\n",
       "      <td>-1.072613</td>\n",
       "      <td>-0.999629</td>\n",
       "      <td>Summarize at least 3 elements of an ideal trag...</td>\n",
       "      <td>On Tragedy</td>\n",
       "      <td>Chapter 13 \\r\\nAs the sequel to ...</td>\n",
       "      <td>0.020648</td>\n",
       "      <td>0.0192</td>\n",
       "      <td>0.0</td>\n",
       "      <td>0.019108</td>\n",
       "      <td>0.050336</td>\n",
       "    </tr>\n",
       "  </tbody>\n",
       "</table>\n",
       "</div>"
      ],
      "text/plain": [
       "     student_id prompt_id                                               text  \\\n",
       "0  28ee3cf5921f    39c16e  One element is of the protagonist. This must b...   \n",
       "1  b8c10b33f684    39c16e  One of the most important elements of an ideal...   \n",
       "2  8ec808cbb9ce    ebad26  The meat packing industry would cover up meat ...   \n",
       "3  02f3987d58a6    3b9047  The structure of the ancient Egyptians system ...   \n",
       "4  3752d3f0f1ea    39c16e  An ideal tragedy should have a complex plot fu...   \n",
       "\n",
       "    content   wording                                    prompt_question  \\\n",
       "0  1.921071  1.879425  Summarize at least 3 elements of an ideal trag...   \n",
       "1  1.140002  0.743618  Summarize at least 3 elements of an ideal trag...   \n",
       "2 -0.693773 -0.490571  Summarize the various ways the factory would u...   \n",
       "3  2.124984 -0.467720  In complete sentences, summarize the structure...   \n",
       "4 -1.072613 -0.999629  Summarize at least 3 elements of an ideal trag...   \n",
       "\n",
       "                prompt_title                          prompt_text  \\\n",
       "0                 On Tragedy  Chapter 13 \\r\\nAs the sequel to ...   \n",
       "1                 On Tragedy  Chapter 13 \\r\\nAs the sequel to ...   \n",
       "2    Excerpt from The Jungle    With one member trimming beef ...   \n",
       "3  Egyptian Social Structure    Egyptian society was structure...   \n",
       "4                 On Tragedy  Chapter 13 \\r\\nAs the sequel to ...   \n",
       "\n",
       "   text_length  word_count  number_count  punctuation_count  stopword_count  \n",
       "0     0.193936      0.2096           0.0           0.121019        0.224832  \n",
       "1     0.098014      0.1104           0.0           0.025478        0.154362  \n",
       "2     0.028489      0.0352           0.0           0.006369        0.060403  \n",
       "3     0.408782      0.4048           0.0           0.337580        0.355705  \n",
       "4     0.020648      0.0192           0.0           0.019108        0.050336  "
      ]
     },
     "execution_count": 23,
     "metadata": {},
     "output_type": "execute_result"
    }
   ],
   "source": [
    "# normalizar variables numéricas\n",
    "from sklearn.preprocessing import MinMaxScaler\n",
    "\n",
    "scaler = MinMaxScaler()\n",
    "data[['text_length', 'word_count', 'number_count', 'punctuation_count', 'stopword_count']] = scaler.fit_transform(data[['text_length', 'word_count', 'number_count', 'punctuation_count', 'stopword_count']])\n",
    "\n",
    "data.head()"
   ]
  },
  {
   "cell_type": "code",
   "execution_count": 24,
   "id": "92933c854c485bc4",
   "metadata": {
    "ExecuteTime": {
     "end_time": "2024-10-24T02:23:31.588010Z",
     "start_time": "2024-10-24T02:23:31.333570Z"
    }
   },
   "outputs": [],
   "source": [
    "tokenizer = Tokenizer(num_words=10000)  # Limitar a las 10,000 palabras más comunes\n",
    "tokenizer.fit_on_texts(data['text'] + ' ' + data['prompt_text'])"
   ]
  },
  {
   "cell_type": "code",
   "execution_count": 25,
   "id": "d73b624270e1e5",
   "metadata": {
    "ExecuteTime": {
     "end_time": "2024-10-24T02:23:31.784728Z",
     "start_time": "2024-10-24T02:23:31.613429Z"
    }
   },
   "outputs": [],
   "source": [
    "sequences = tokenizer.texts_to_sequences(data['text'] + ' ' + data['prompt_text'])"
   ]
  },
  {
   "cell_type": "code",
   "execution_count": 26,
   "id": "e4cbb7cf0f66eef1",
   "metadata": {
    "ExecuteTime": {
     "end_time": "2024-10-24T02:23:31.841849Z",
     "start_time": "2024-10-24T02:23:31.815385Z"
    }
   },
   "outputs": [],
   "source": [
    "maxlen = 200  # Puedes ajustar este valor según la longitud promedio\n",
    "X = pad_sequences(sequences, maxlen=maxlen)"
   ]
  },
  {
   "cell_type": "code",
   "execution_count": 27,
   "id": "68b936b668663865",
   "metadata": {
    "ExecuteTime": {
     "end_time": "2024-10-24T02:23:31.850074Z",
     "start_time": "2024-10-24T02:23:31.841849Z"
    }
   },
   "outputs": [],
   "source": [
    "# Combinar las etiquetas en una matriz\n",
    "y = data[['content', 'wording']].values\n",
    "\n",
    "# Dividir los datos en entrenamiento y prueba\n",
    "X_train, X_test, y_train, y_test = train_test_split(X, y, test_size=0.2, random_state=42)"
   ]
  },
  {
   "cell_type": "code",
   "execution_count": 28,
   "id": "1331bf5d4844055d",
   "metadata": {
    "ExecuteTime": {
     "end_time": "2024-10-24T02:23:31.876348Z",
     "start_time": "2024-10-24T02:23:31.872382Z"
    }
   },
   "outputs": [],
   "source": [
    "# Separar las etiquetas después de la división\n",
    "y_content_train = y_train[:, 0]\n",
    "y_wording_train = y_train[:, 1]\n",
    "y_content_test = y_test[:, 0]\n",
    "y_wording_test = y_test[:,1]"
   ]
  },
  {
   "cell_type": "markdown",
   "id": "428a02fad50d9e68",
   "metadata": {},
   "source": [
    "## RNN"
   ]
  },
  {
   "cell_type": "code",
   "execution_count": 29,
   "id": "733c12f5c9ba4e24",
   "metadata": {
    "ExecuteTime": {
     "end_time": "2024-10-24T02:23:31.900973Z",
     "start_time": "2024-10-24T02:23:31.898221Z"
    }
   },
   "outputs": [],
   "source": [
    "from tensorflow.keras.models import Model\n",
    "from tensorflow.keras.layers import Input, Embedding, LSTM, Dense, Dropout\n"
   ]
  },
  {
   "cell_type": "code",
   "execution_count": 30,
   "id": "481ee8e748cf23d4",
   "metadata": {
    "ExecuteTime": {
     "end_time": "2024-10-24T02:23:31.985090Z",
     "start_time": "2024-10-24T02:23:31.925851Z"
    }
   },
   "outputs": [],
   "source": [
    "input_ = Input(shape=(maxlen,))\n",
    "\n",
    "x = Embedding(input_dim=10000, output_dim=128, input_length=maxlen)(input_)\n",
    "\n",
    "x = LSTM(256, return_sequences=True)(x)\n",
    "x = Dropout(0.5)(x)\n",
    "x = LSTM(128, return_sequences=True)(x)\n",
    "x = Dropout(0.5)(x)\n",
    "x = LSTM(64, return_sequences=False)(x)\n",
    "x = Dense(64, activation='relu')(x)\n",
    "x = Dropout(0.5)(x)\n",
    "x = Dense(32, activation='relu')(x)"
   ]
  },
  {
   "cell_type": "code",
   "execution_count": 31,
   "id": "6d59c81b315c82da",
   "metadata": {
    "ExecuteTime": {
     "end_time": "2024-10-24T02:23:32.019148Z",
     "start_time": "2024-10-24T02:23:32.009983Z"
    }
   },
   "outputs": [],
   "source": [
    "# Predicción de content\n",
    "content_output = Dense(1, activation='linear', name='content')(x)\n",
    "\n",
    "# Predicción de wording\n",
    "wording_output = Dense(1, activation='linear', name='wording')(x)"
   ]
  },
  {
   "cell_type": "code",
   "execution_count": 32,
   "id": "ae8ca111801ec0f0",
   "metadata": {
    "ExecuteTime": {
     "end_time": "2024-10-24T02:23:32.044817Z",
     "start_time": "2024-10-24T02:23:32.041771Z"
    }
   },
   "outputs": [],
   "source": [
    "optimizer = 'adam'\n",
    "loss = 'mean_squared_error'\n",
    "metrics = {\n",
    "    'content': ['mae'],   # Métrica para la salida 'content'\n",
    "    'wording': ['mae']    # Métrica para la salida 'wording'\n",
    "}\n",
    "epochs = 15\n",
    "batch_size = 256\n"
   ]
  },
  {
   "cell_type": "code",
   "execution_count": 33,
   "id": "fb53f9f3baf2a741",
   "metadata": {
    "ExecuteTime": {
     "end_time": "2024-10-24T02:23:32.071275Z",
     "start_time": "2024-10-24T02:23:32.067118Z"
    }
   },
   "outputs": [],
   "source": [
    "from tensorflow.keras.callbacks import EarlyStopping\n",
    "\n",
    "early_stopping = EarlyStopping(\n",
    "    monitor='val_loss',\n",
    "    patience=3,\n",
    "    restore_best_weights=True\n",
    ")"
   ]
  },
  {
   "cell_type": "code",
   "execution_count": 34,
   "id": "316122613939525e",
   "metadata": {
    "ExecuteTime": {
     "end_time": "2024-10-24T02:23:32.100619Z",
     "start_time": "2024-10-24T02:23:32.093874Z"
    }
   },
   "outputs": [],
   "source": [
    "model = Model(inputs=input_, outputs=[content_output, wording_output])\n",
    "model.compile(optimizer=optimizer, loss=loss, metrics=metrics)"
   ]
  },
  {
   "cell_type": "code",
   "execution_count": 35,
   "id": "8d9f7efbfc6ae07",
   "metadata": {
    "ExecuteTime": {
     "end_time": "2024-10-24T02:23:32.136879Z",
     "start_time": "2024-10-24T02:23:32.124219Z"
    }
   },
   "outputs": [
    {
     "name": "stdout",
     "output_type": "stream",
     "text": [
      "Model: \"model_1\"\n",
      "__________________________________________________________________________________________________\n",
      " Layer (type)                   Output Shape         Param #     Connected to                     \n",
      "==================================================================================================\n",
      " input_2 (InputLayer)           [(None, 200)]        0           []                               \n",
      "                                                                                                  \n",
      " embedding_1 (Embedding)        (None, 200, 128)     1280000     ['input_2[0][0]']                \n",
      "                                                                                                  \n",
      " lstm_3 (LSTM)                  (None, 200, 256)     394240      ['embedding_1[0][0]']            \n",
      "                                                                                                  \n",
      " dropout_3 (Dropout)            (None, 200, 256)     0           ['lstm_3[0][0]']                 \n",
      "                                                                                                  \n",
      " lstm_4 (LSTM)                  (None, 200, 128)     197120      ['dropout_3[0][0]']              \n",
      "                                                                                                  \n",
      " dropout_4 (Dropout)            (None, 200, 128)     0           ['lstm_4[0][0]']                 \n",
      "                                                                                                  \n",
      " lstm_5 (LSTM)                  (None, 64)           49408       ['dropout_4[0][0]']              \n",
      "                                                                                                  \n",
      " dense_2 (Dense)                (None, 64)           4160        ['lstm_5[0][0]']                 \n",
      "                                                                                                  \n",
      " dropout_5 (Dropout)            (None, 64)           0           ['dense_2[0][0]']                \n",
      "                                                                                                  \n",
      " dense_3 (Dense)                (None, 32)           2080        ['dropout_5[0][0]']              \n",
      "                                                                                                  \n",
      " content (Dense)                (None, 1)            33          ['dense_3[0][0]']                \n",
      "                                                                                                  \n",
      " wording (Dense)                (None, 1)            33          ['dense_3[0][0]']                \n",
      "                                                                                                  \n",
      "==================================================================================================\n",
      "Total params: 1,927,074\n",
      "Trainable params: 1,927,074\n",
      "Non-trainable params: 0\n",
      "__________________________________________________________________________________________________\n"
     ]
    }
   ],
   "source": [
    "model.summary()"
   ]
  },
  {
   "cell_type": "code",
   "execution_count": 36,
   "id": "f9a5dc831d140084",
   "metadata": {
    "ExecuteTime": {
     "end_time": "2024-10-24T02:29:57.630091Z",
     "start_time": "2024-10-24T02:23:32.161507Z"
    }
   },
   "outputs": [
    {
     "name": "stdout",
     "output_type": "stream",
     "text": [
      "Epoch 1/15\n",
      "23/23 - 51s - loss: 2.0170 - content_loss: 0.9990 - wording_loss: 1.0180 - content_mae: 0.7691 - wording_mae: 0.8020 - val_loss: 1.4072 - val_content_loss: 0.6455 - val_wording_loss: 0.7618 - val_content_mae: 0.5619 - val_wording_mae: 0.6714 - 51s/epoch - 2s/step\n",
      "Epoch 2/15\n",
      "23/23 - 40s - loss: 1.1747 - content_loss: 0.4962 - wording_loss: 0.6784 - content_mae: 0.5387 - wording_mae: 0.6450 - val_loss: 0.8233 - val_content_loss: 0.2727 - val_wording_loss: 0.5506 - val_content_mae: 0.4134 - val_wording_mae: 0.5760 - 40s/epoch - 2s/step\n",
      "Epoch 3/15\n",
      "23/23 - 39s - loss: 0.8881 - content_loss: 0.3535 - wording_loss: 0.5346 - content_mae: 0.4515 - wording_mae: 0.5698 - val_loss: 0.7416 - val_content_loss: 0.2616 - val_wording_loss: 0.4800 - val_content_mae: 0.3983 - val_wording_mae: 0.5411 - 39s/epoch - 2s/step\n",
      "Epoch 4/15\n",
      "23/23 - 40s - loss: 0.7394 - content_loss: 0.2912 - wording_loss: 0.4481 - content_mae: 0.4108 - wording_mae: 0.5148 - val_loss: 0.6915 - val_content_loss: 0.2426 - val_wording_loss: 0.4489 - val_content_mae: 0.3860 - val_wording_mae: 0.5149 - 40s/epoch - 2s/step\n",
      "Epoch 5/15\n",
      "23/23 - 39s - loss: 0.6399 - content_loss: 0.2526 - wording_loss: 0.3872 - content_mae: 0.3796 - wording_mae: 0.4732 - val_loss: 0.7368 - val_content_loss: 0.2949 - val_wording_loss: 0.4418 - val_content_mae: 0.4129 - val_wording_mae: 0.5164 - 39s/epoch - 2s/step\n",
      "Epoch 6/15\n",
      "23/23 - 39s - loss: 0.5587 - content_loss: 0.2289 - wording_loss: 0.3298 - content_mae: 0.3610 - wording_mae: 0.4350 - val_loss: 0.6655 - val_content_loss: 0.2194 - val_wording_loss: 0.4461 - val_content_mae: 0.3637 - val_wording_mae: 0.5137 - 39s/epoch - 2s/step\n",
      "Epoch 7/15\n",
      "23/23 - 39s - loss: 0.4812 - content_loss: 0.1994 - wording_loss: 0.2818 - content_mae: 0.3373 - wording_mae: 0.4050 - val_loss: 0.6648 - val_content_loss: 0.2200 - val_wording_loss: 0.4448 - val_content_mae: 0.3649 - val_wording_mae: 0.5140 - 39s/epoch - 2s/step\n",
      "Epoch 8/15\n",
      "23/23 - 39s - loss: 0.4245 - content_loss: 0.1808 - wording_loss: 0.2437 - content_mae: 0.3243 - wording_mae: 0.3770 - val_loss: 0.6871 - val_content_loss: 0.2219 - val_wording_loss: 0.4651 - val_content_mae: 0.3660 - val_wording_mae: 0.5232 - 39s/epoch - 2s/step\n",
      "Epoch 9/15\n",
      "23/23 - 39s - loss: 0.3861 - content_loss: 0.1713 - wording_loss: 0.2149 - content_mae: 0.3154 - wording_mae: 0.3534 - val_loss: 0.7114 - val_content_loss: 0.2220 - val_wording_loss: 0.4894 - val_content_mae: 0.3695 - val_wording_mae: 0.5368 - 39s/epoch - 2s/step\n",
      "Epoch 10/15\n",
      "23/23 - 39s - loss: 0.3669 - content_loss: 0.1638 - wording_loss: 0.2031 - content_mae: 0.3073 - wording_mae: 0.3418 - val_loss: 0.7255 - val_content_loss: 0.2218 - val_wording_loss: 0.5038 - val_content_mae: 0.3638 - val_wording_mae: 0.5449 - 39s/epoch - 2s/step\n"
     ]
    }
   ],
   "source": [
    "history = model.fit(\n",
    "    X_train, \n",
    "    [y_content_train, y_wording_train], \n",
    "    validation_data=(X_test, [y_content_test, y_wording_test]), \n",
    "    epochs=epochs,\n",
    "    batch_size=batch_size,\n",
    "    callbacks=[early_stopping],\n",
    "    verbose=2\n",
    ")"
   ]
  },
  {
   "cell_type": "code",
   "execution_count": 37,
   "id": "2510069cf3548ff5",
   "metadata": {
    "ExecuteTime": {
     "end_time": "2024-10-24T02:30:01.456355Z",
     "start_time": "2024-10-24T02:29:57.654422Z"
    }
   },
   "outputs": [
    {
     "name": "stdout",
     "output_type": "stream",
     "text": [
      "45/45 [==============================] - 9s 147ms/step\n",
      "MAE content: 0.3649053242456493\n",
      "MSE content: 0.21998610593701307\n",
      "R2 content: 0.7959761351827987\n",
      "\n",
      "MAE wording: 0.5139829865622014\n",
      "MSE wording: 0.4448255584534898\n",
      "R2 wording: 0.5931959297710021\n"
     ]
    }
   ],
   "source": [
    "from sklearn.metrics import mean_absolute_error, mean_squared_error, r2_score\n",
    "\n",
    "y_content_pred, y_wording_pred = model.predict(X_test)\n",
    "\n",
    "print('MAE content:', mean_absolute_error(y_content_test, y_content_pred))\n",
    "print('MSE content:', mean_squared_error(y_content_test, y_content_pred))\n",
    "print('R2 content:', r2_score(y_content_test, y_content_pred))\n",
    "\n",
    "print('\\nMAE wording:', mean_absolute_error(y_wording_test, y_wording_pred))\n",
    "print('MSE wording:', mean_squared_error(y_wording_test, y_wording_pred))\n",
    "print('R2 wording:', r2_score(y_wording_test, y_wording_pred))"
   ]
  },
  {
   "cell_type": "markdown",
   "id": "d65110d8",
   "metadata": {},
   "source": [
    "# Guardando el modelo"
   ]
  },
  {
   "cell_type": "code",
   "execution_count": 38,
   "id": "0b7aef4e",
   "metadata": {},
   "outputs": [
    {
     "name": "stderr",
     "output_type": "stream",
     "text": [
      "WARNING:absl:Found untraced functions such as lstm_cell_3_layer_call_fn, lstm_cell_3_layer_call_and_return_conditional_losses, lstm_cell_4_layer_call_fn, lstm_cell_4_layer_call_and_return_conditional_losses, lstm_cell_5_layer_call_fn while saving (showing 5 of 6). These functions will not be directly callable after loading.\n"
     ]
    },
    {
     "name": "stdout",
     "output_type": "stream",
     "text": [
      "INFO:tensorflow:Assets written to: rnn\\assets\n"
     ]
    },
    {
     "name": "stderr",
     "output_type": "stream",
     "text": [
      "INFO:tensorflow:Assets written to: rnn\\assets\n"
     ]
    }
   ],
   "source": [
    "model.save('rnn')"
   ]
  },
  {
   "cell_type": "code",
   "execution_count": 39,
   "id": "a2aff7fe0661b72d",
   "metadata": {
    "ExecuteTime": {
     "end_time": "2024-10-24T02:30:01.487049Z",
     "start_time": "2024-10-24T02:30:01.482454Z"
    }
   },
   "outputs": [],
   "source": [
    "import matplotlib.pyplot as plt"
   ]
  },
  {
   "cell_type": "code",
   "execution_count": 40,
   "id": "8d4dc17c3413a10e",
   "metadata": {
    "ExecuteTime": {
     "end_time": "2024-10-24T02:30:01.580329Z",
     "start_time": "2024-10-24T02:30:01.512076Z"
    }
   },
   "outputs": [
    {
     "data": {
      "image/png": "[encoded data removed]",
      "text/plain": [
       "<Figure size 640x480 with 1 Axes>"
      ]
     },
     "metadata": {},
     "output_type": "display_data"
    }
   ],
   "source": [
    "plt.plot(history.history['loss'])\n",
    "plt.plot(history.history['val_loss'])\n",
    "plt.title('Loss')\n",
    "plt.show()"
   ]
  },
  {
   "cell_type": "code",
   "execution_count": 41,
   "id": "68530c73651230bb",
   "metadata": {
    "ExecuteTime": {
     "end_time": "2024-10-24T02:30:01.674649Z",
     "start_time": "2024-10-24T02:30:01.604867Z"
    }
   },
   "outputs": [
    {
     "data": {
      "image/png": "[encoded data removed]",
      "text/plain": [
       "<Figure size 640x480 with 1 Axes>"
      ]
     },
     "metadata": {},
     "output_type": "display_data"
    }
   ],
   "source": [
    "plt.plot(history.history['content_mae'])\n",
    "plt.plot(history.history['val_content_mae'])\n",
    "plt.title('Content MAE')\n",
    "plt.show()"
   ]
  },
  {
   "cell_type": "code",
   "execution_count": 42,
   "id": "b63a5b888f5aa96a",
   "metadata": {
    "ExecuteTime": {
     "end_time": "2024-10-24T02:30:01.769082Z",
     "start_time": "2024-10-24T02:30:01.700564Z"
    }
   },
   "outputs": [
    {
     "data": {
      "image/png": "[encoded data removed]",
      "text/plain": [
       "<Figure size 640x480 with 1 Axes>"
      ]
     },
     "metadata": {},
     "output_type": "display_data"
    }
   ],
   "source": [
    "plt.plot(history.history['wording_mae'])\n",
    "plt.plot(history.history['val_wording_mae'])\n",
    "plt.title('Wording MAE')\n",
    "plt.show()"
   ]
  },
  {
   "cell_type": "markdown",
   "id": "daf391cc",
   "metadata": {},
   "source": [
    "# Cargando el modelo"
   ]
  },
  {
   "cell_type": "code",
   "execution_count": 43,
   "id": "c86d65717e93c8d0",
   "metadata": {
    "ExecuteTime": {
     "end_time": "2024-10-24T02:30:01.796965Z",
     "start_time": "2024-10-24T02:30:01.794776Z"
    }
   },
   "outputs": [],
   "source": [
    "from tensorflow.keras.models import load_model\n",
    "\n",
    "model = load_model('rnn')"
   ]
  }
 ],
 "metadata": {
  "kernelspec": {
   "display_name": "tf",
   "language": "python",
   "name": "python3"
  },
  "language_info": {
   "codemirror_mode": {
    "name": "ipython",
    "version": 3
   },
   "file_extension": ".py",
   "mimetype": "text/x-python",
   "name": "python",
   "nbconvert_exporter": "python",
   "pygments_lexer": "ipython3",
   "version": "3.10.13"
  }
 },
 "nbformat": 4,
 "nbformat_minor": 5
}
