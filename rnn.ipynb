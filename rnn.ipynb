{
 "cells": [
  {
   "cell_type": "code",
   "id": "initial_id",
   "metadata": {
    "collapsed": true,
    "ExecuteTime": {
     "end_time": "2024-10-24T02:15:56.103642Z",
     "start_time": "2024-10-24T02:15:56.094899Z"
    }
   },
   "source": [
    "import numpy as np\n",
    "import pandas as pd\n",
    "\n",
    "from sklearn.model_selection import train_test_split"
   ],
   "outputs": [],
   "execution_count": 214
  },
  {
   "metadata": {
    "ExecuteTime": {
     "end_time": "2024-10-24T02:15:56.113998Z",
     "start_time": "2024-10-24T02:15:56.110671Z"
    }
   },
   "cell_type": "code",
   "source": [
    "from tensorflow.keras.preprocessing.text import Tokenizer\n",
    "from tensorflow.keras.preprocessing.sequence import pad_sequences"
   ],
   "id": "f39e8e46aabfd718",
   "outputs": [],
   "execution_count": 215
  },
  {
   "metadata": {
    "ExecuteTime": {
     "end_time": "2024-10-24T02:15:56.190598Z",
     "start_time": "2024-10-24T02:15:56.136244Z"
    }
   },
   "cell_type": "code",
   "source": [
    "data = pd.read_csv('data/Finaltrain.csv')\n",
    "data.head()"
   ],
   "id": "661eba0922649bb9",
   "outputs": [
    {
     "data": {
      "text/plain": [
       "     student_id prompt_id                                               text  \\\n",
       "0  000e8c3c7ddb    814d6b  The third wave was an experimentto see how peo...   \n",
       "1  0070c9e7af47    814d6b  The Third Wave developed  rapidly because the ...   \n",
       "2  0095993991fe    814d6b  The third wave only started as an experiment w...   \n",
       "3  00c20c6ddd23    814d6b  The experimen was orginally about how even whe...   \n",
       "4  00d40ad10dc9    814d6b  The third wave developed so quickly due to the...   \n",
       "\n",
       "    content   wording                                    prompt_question  \\\n",
       "0  0.205683  0.380538  Summarize how the Third Wave developed over su...   \n",
       "1  3.272894  3.219757  Summarize how the Third Wave developed over su...   \n",
       "2  0.205683  0.380538  Summarize how the Third Wave developed over su...   \n",
       "3  0.567975  0.969062  Summarize how the Third Wave developed over su...   \n",
       "4 -0.910596 -0.081769  Summarize how the Third Wave developed over su...   \n",
       "\n",
       "     prompt_title                          prompt_text  text_length  \\\n",
       "0  The Third Wave  Background \\r\\nThe Third Wave ex...          346   \n",
       "1  The Third Wave  Background \\r\\nThe Third Wave ex...         1225   \n",
       "2  The Third Wave  Background \\r\\nThe Third Wave ex...          345   \n",
       "3  The Third Wave  Background \\r\\nThe Third Wave ex...          451   \n",
       "4  The Third Wave  Background \\r\\nThe Third Wave ex...          145   \n",
       "\n",
       "   word_count  number_count  punctuation_count  stopword_count  \n",
       "0          61             0                  3              21  \n",
       "1         203             3                 29              79  \n",
       "2          60             0                  9              24  \n",
       "3          76             0                 10              33  \n",
       "4          27             0                  2              10  "
      ],
      "text/html": [
       "<div>\n",
       "<style scoped>\n",
       "    .dataframe tbody tr th:only-of-type {\n",
       "        vertical-align: middle;\n",
       "    }\n",
       "\n",
       "    .dataframe tbody tr th {\n",
       "        vertical-align: top;\n",
       "    }\n",
       "\n",
       "    .dataframe thead th {\n",
       "        text-align: right;\n",
       "    }\n",
       "</style>\n",
       "<table border=\"1\" class=\"dataframe\">\n",
       "  <thead>\n",
       "    <tr style=\"text-align: right;\">\n",
       "      <th></th>\n",
       "      <th>student_id</th>\n",
       "      <th>prompt_id</th>\n",
       "      <th>text</th>\n",
       "      <th>content</th>\n",
       "      <th>wording</th>\n",
       "      <th>prompt_question</th>\n",
       "      <th>prompt_title</th>\n",
       "      <th>prompt_text</th>\n",
       "      <th>text_length</th>\n",
       "      <th>word_count</th>\n",
       "      <th>number_count</th>\n",
       "      <th>punctuation_count</th>\n",
       "      <th>stopword_count</th>\n",
       "    </tr>\n",
       "  </thead>\n",
       "  <tbody>\n",
       "    <tr>\n",
       "      <th>0</th>\n",
       "      <td>000e8c3c7ddb</td>\n",
       "      <td>814d6b</td>\n",
       "      <td>The third wave was an experimentto see how peo...</td>\n",
       "      <td>0.205683</td>\n",
       "      <td>0.380538</td>\n",
       "      <td>Summarize how the Third Wave developed over su...</td>\n",
       "      <td>The Third Wave</td>\n",
       "      <td>Background \\r\\nThe Third Wave ex...</td>\n",
       "      <td>346</td>\n",
       "      <td>61</td>\n",
       "      <td>0</td>\n",
       "      <td>3</td>\n",
       "      <td>21</td>\n",
       "    </tr>\n",
       "    <tr>\n",
       "      <th>1</th>\n",
       "      <td>0070c9e7af47</td>\n",
       "      <td>814d6b</td>\n",
       "      <td>The Third Wave developed  rapidly because the ...</td>\n",
       "      <td>3.272894</td>\n",
       "      <td>3.219757</td>\n",
       "      <td>Summarize how the Third Wave developed over su...</td>\n",
       "      <td>The Third Wave</td>\n",
       "      <td>Background \\r\\nThe Third Wave ex...</td>\n",
       "      <td>1225</td>\n",
       "      <td>203</td>\n",
       "      <td>3</td>\n",
       "      <td>29</td>\n",
       "      <td>79</td>\n",
       "    </tr>\n",
       "    <tr>\n",
       "      <th>2</th>\n",
       "      <td>0095993991fe</td>\n",
       "      <td>814d6b</td>\n",
       "      <td>The third wave only started as an experiment w...</td>\n",
       "      <td>0.205683</td>\n",
       "      <td>0.380538</td>\n",
       "      <td>Summarize how the Third Wave developed over su...</td>\n",
       "      <td>The Third Wave</td>\n",
       "      <td>Background \\r\\nThe Third Wave ex...</td>\n",
       "      <td>345</td>\n",
       "      <td>60</td>\n",
       "      <td>0</td>\n",
       "      <td>9</td>\n",
       "      <td>24</td>\n",
       "    </tr>\n",
       "    <tr>\n",
       "      <th>3</th>\n",
       "      <td>00c20c6ddd23</td>\n",
       "      <td>814d6b</td>\n",
       "      <td>The experimen was orginally about how even whe...</td>\n",
       "      <td>0.567975</td>\n",
       "      <td>0.969062</td>\n",
       "      <td>Summarize how the Third Wave developed over su...</td>\n",
       "      <td>The Third Wave</td>\n",
       "      <td>Background \\r\\nThe Third Wave ex...</td>\n",
       "      <td>451</td>\n",
       "      <td>76</td>\n",
       "      <td>0</td>\n",
       "      <td>10</td>\n",
       "      <td>33</td>\n",
       "    </tr>\n",
       "    <tr>\n",
       "      <th>4</th>\n",
       "      <td>00d40ad10dc9</td>\n",
       "      <td>814d6b</td>\n",
       "      <td>The third wave developed so quickly due to the...</td>\n",
       "      <td>-0.910596</td>\n",
       "      <td>-0.081769</td>\n",
       "      <td>Summarize how the Third Wave developed over su...</td>\n",
       "      <td>The Third Wave</td>\n",
       "      <td>Background \\r\\nThe Third Wave ex...</td>\n",
       "      <td>145</td>\n",
       "      <td>27</td>\n",
       "      <td>0</td>\n",
       "      <td>2</td>\n",
       "      <td>10</td>\n",
       "    </tr>\n",
       "  </tbody>\n",
       "</table>\n",
       "</div>"
      ]
     },
     "execution_count": 216,
     "metadata": {},
     "output_type": "execute_result"
    }
   ],
   "execution_count": 216
  },
  {
   "metadata": {
    "ExecuteTime": {
     "end_time": "2024-10-24T02:15:56.247692Z",
     "start_time": "2024-10-24T02:15:56.238423Z"
    }
   },
   "cell_type": "code",
   "source": [
    "# randomize data\n",
    "data = data.sample(frac=1).reset_index(drop=True) # Mezclar los datos\n",
    "\n",
    "data.head()"
   ],
   "id": "b04d5a0f2c2bb168",
   "outputs": [
    {
     "data": {
      "text/plain": [
       "     student_id prompt_id                                               text  \\\n",
       "0  e32a76187192    814d6b  The Third Wave developed over such a short tim...   \n",
       "1  c6ead27f5d8a    ebad26  The ways the factory would various would use t...   \n",
       "2  18604e817df1    3b9047      The anchent egyptian goverment structure i...   \n",
       "3  b5852dc9ed02    ebad26  \"Jonas had told them how the meat that was tak...   \n",
       "4  25c8be5ac274    814d6b  The Third Wave was an experiment and or moveme...   \n",
       "\n",
       "    content   wording                                    prompt_question  \\\n",
       "0  0.997243  1.880386  Summarize how the Third Wave developed over su...   \n",
       "1 -0.387791 -0.584181  Summarize the various ways the factory would u...   \n",
       "2  0.879476 -0.335857  In complete sentences, summarize the structure...   \n",
       "3 -1.547163 -1.461245  Summarize the various ways the factory would u...   \n",
       "4 -0.922831 -1.338911  Summarize how the Third Wave developed over su...   \n",
       "\n",
       "                prompt_title                          prompt_text  \\\n",
       "0             The Third Wave  Background \\r\\nThe Third Wave ex...   \n",
       "1    Excerpt from The Jungle    With one member trimming beef ...   \n",
       "2  Egyptian Social Structure    Egyptian society was structure...   \n",
       "3    Excerpt from The Jungle    With one member trimming beef ...   \n",
       "4             The Third Wave  Background \\r\\nThe Third Wave ex...   \n",
       "\n",
       "   text_length  word_count  number_count  punctuation_count  stopword_count  \n",
       "0          504          89             0                  6              49  \n",
       "1          411          77             0                  5              32  \n",
       "2          507          83             0                 14              37  \n",
       "3          203          41             0                  5              22  \n",
       "4          246          41             0                  1              20  "
      ],
      "text/html": [
       "<div>\n",
       "<style scoped>\n",
       "    .dataframe tbody tr th:only-of-type {\n",
       "        vertical-align: middle;\n",
       "    }\n",
       "\n",
       "    .dataframe tbody tr th {\n",
       "        vertical-align: top;\n",
       "    }\n",
       "\n",
       "    .dataframe thead th {\n",
       "        text-align: right;\n",
       "    }\n",
       "</style>\n",
       "<table border=\"1\" class=\"dataframe\">\n",
       "  <thead>\n",
       "    <tr style=\"text-align: right;\">\n",
       "      <th></th>\n",
       "      <th>student_id</th>\n",
       "      <th>prompt_id</th>\n",
       "      <th>text</th>\n",
       "      <th>content</th>\n",
       "      <th>wording</th>\n",
       "      <th>prompt_question</th>\n",
       "      <th>prompt_title</th>\n",
       "      <th>prompt_text</th>\n",
       "      <th>text_length</th>\n",
       "      <th>word_count</th>\n",
       "      <th>number_count</th>\n",
       "      <th>punctuation_count</th>\n",
       "      <th>stopword_count</th>\n",
       "    </tr>\n",
       "  </thead>\n",
       "  <tbody>\n",
       "    <tr>\n",
       "      <th>0</th>\n",
       "      <td>e32a76187192</td>\n",
       "      <td>814d6b</td>\n",
       "      <td>The Third Wave developed over such a short tim...</td>\n",
       "      <td>0.997243</td>\n",
       "      <td>1.880386</td>\n",
       "      <td>Summarize how the Third Wave developed over su...</td>\n",
       "      <td>The Third Wave</td>\n",
       "      <td>Background \\r\\nThe Third Wave ex...</td>\n",
       "      <td>504</td>\n",
       "      <td>89</td>\n",
       "      <td>0</td>\n",
       "      <td>6</td>\n",
       "      <td>49</td>\n",
       "    </tr>\n",
       "    <tr>\n",
       "      <th>1</th>\n",
       "      <td>c6ead27f5d8a</td>\n",
       "      <td>ebad26</td>\n",
       "      <td>The ways the factory would various would use t...</td>\n",
       "      <td>-0.387791</td>\n",
       "      <td>-0.584181</td>\n",
       "      <td>Summarize the various ways the factory would u...</td>\n",
       "      <td>Excerpt from The Jungle</td>\n",
       "      <td>With one member trimming beef ...</td>\n",
       "      <td>411</td>\n",
       "      <td>77</td>\n",
       "      <td>0</td>\n",
       "      <td>5</td>\n",
       "      <td>32</td>\n",
       "    </tr>\n",
       "    <tr>\n",
       "      <th>2</th>\n",
       "      <td>18604e817df1</td>\n",
       "      <td>3b9047</td>\n",
       "      <td>The anchent egyptian goverment structure i...</td>\n",
       "      <td>0.879476</td>\n",
       "      <td>-0.335857</td>\n",
       "      <td>In complete sentences, summarize the structure...</td>\n",
       "      <td>Egyptian Social Structure</td>\n",
       "      <td>Egyptian society was structure...</td>\n",
       "      <td>507</td>\n",
       "      <td>83</td>\n",
       "      <td>0</td>\n",
       "      <td>14</td>\n",
       "      <td>37</td>\n",
       "    </tr>\n",
       "    <tr>\n",
       "      <th>3</th>\n",
       "      <td>b5852dc9ed02</td>\n",
       "      <td>ebad26</td>\n",
       "      <td>\"Jonas had told them how the meat that was tak...</td>\n",
       "      <td>-1.547163</td>\n",
       "      <td>-1.461245</td>\n",
       "      <td>Summarize the various ways the factory would u...</td>\n",
       "      <td>Excerpt from The Jungle</td>\n",
       "      <td>With one member trimming beef ...</td>\n",
       "      <td>203</td>\n",
       "      <td>41</td>\n",
       "      <td>0</td>\n",
       "      <td>5</td>\n",
       "      <td>22</td>\n",
       "    </tr>\n",
       "    <tr>\n",
       "      <th>4</th>\n",
       "      <td>25c8be5ac274</td>\n",
       "      <td>814d6b</td>\n",
       "      <td>The Third Wave was an experiment and or moveme...</td>\n",
       "      <td>-0.922831</td>\n",
       "      <td>-1.338911</td>\n",
       "      <td>Summarize how the Third Wave developed over su...</td>\n",
       "      <td>The Third Wave</td>\n",
       "      <td>Background \\r\\nThe Third Wave ex...</td>\n",
       "      <td>246</td>\n",
       "      <td>41</td>\n",
       "      <td>0</td>\n",
       "      <td>1</td>\n",
       "      <td>20</td>\n",
       "    </tr>\n",
       "  </tbody>\n",
       "</table>\n",
       "</div>"
      ]
     },
     "execution_count": 217,
     "metadata": {},
     "output_type": "execute_result"
    }
   ],
   "execution_count": 217
  },
  {
   "metadata": {},
   "cell_type": "markdown",
   "source": "## Preprocesamiento",
   "id": "8da3a2a8a8271049"
  },
  {
   "metadata": {
    "ExecuteTime": {
     "end_time": "2024-10-24T02:15:56.312578Z",
     "start_time": "2024-10-24T02:15:56.301187Z"
    }
   },
   "cell_type": "code",
   "source": [
    "# normalizar variables numéricas\n",
    "from sklearn.preprocessing import MinMaxScaler\n",
    "\n",
    "scaler = MinMaxScaler()\n",
    "data[['text_length', 'word_count', 'number_count', 'punctuation_count', 'stopword_count']] = scaler.fit_transform(data[['text_length', 'word_count', 'number_count', 'punctuation_count', 'stopword_count']])\n",
    "\n",
    "data.head()"
   ],
   "id": "72e3c21973aecca2",
   "outputs": [
    {
     "data": {
      "text/plain": [
       "     student_id prompt_id                                               text  \\\n",
       "0  e32a76187192    814d6b  The Third Wave developed over such a short tim...   \n",
       "1  c6ead27f5d8a    ebad26  The ways the factory would various would use t...   \n",
       "2  18604e817df1    3b9047      The anchent egyptian goverment structure i...   \n",
       "3  b5852dc9ed02    ebad26  \"Jonas had told them how the meat that was tak...   \n",
       "4  25c8be5ac274    814d6b  The Third Wave was an experiment and or moveme...   \n",
       "\n",
       "    content   wording                                    prompt_question  \\\n",
       "0  0.997243  1.880386  Summarize how the Third Wave developed over su...   \n",
       "1 -0.387791 -0.584181  Summarize the various ways the factory would u...   \n",
       "2  0.879476 -0.335857  In complete sentences, summarize the structure...   \n",
       "3 -1.547163 -1.461245  Summarize the various ways the factory would u...   \n",
       "4 -0.922831 -1.338911  Summarize how the Third Wave developed over su...   \n",
       "\n",
       "                prompt_title                          prompt_text  \\\n",
       "0             The Third Wave  Background \\r\\nThe Third Wave ex...   \n",
       "1    Excerpt from The Jungle    With one member trimming beef ...   \n",
       "2  Egyptian Social Structure    Egyptian society was structure...   \n",
       "3    Excerpt from The Jungle    With one member trimming beef ...   \n",
       "4             The Third Wave  Background \\r\\nThe Third Wave ex...   \n",
       "\n",
       "   text_length  word_count  number_count  punctuation_count  stopword_count  \n",
       "0     0.101934      0.1072           0.0           0.038217        0.164430  \n",
       "1     0.077627      0.0880           0.0           0.031847        0.107383  \n",
       "2     0.102718      0.0976           0.0           0.089172        0.124161  \n",
       "3     0.023262      0.0304           0.0           0.031847        0.073826  \n",
       "4     0.034501      0.0304           0.0           0.006369        0.067114  "
      ],
      "text/html": [
       "<div>\n",
       "<style scoped>\n",
       "    .dataframe tbody tr th:only-of-type {\n",
       "        vertical-align: middle;\n",
       "    }\n",
       "\n",
       "    .dataframe tbody tr th {\n",
       "        vertical-align: top;\n",
       "    }\n",
       "\n",
       "    .dataframe thead th {\n",
       "        text-align: right;\n",
       "    }\n",
       "</style>\n",
       "<table border=\"1\" class=\"dataframe\">\n",
       "  <thead>\n",
       "    <tr style=\"text-align: right;\">\n",
       "      <th></th>\n",
       "      <th>student_id</th>\n",
       "      <th>prompt_id</th>\n",
       "      <th>text</th>\n",
       "      <th>content</th>\n",
       "      <th>wording</th>\n",
       "      <th>prompt_question</th>\n",
       "      <th>prompt_title</th>\n",
       "      <th>prompt_text</th>\n",
       "      <th>text_length</th>\n",
       "      <th>word_count</th>\n",
       "      <th>number_count</th>\n",
       "      <th>punctuation_count</th>\n",
       "      <th>stopword_count</th>\n",
       "    </tr>\n",
       "  </thead>\n",
       "  <tbody>\n",
       "    <tr>\n",
       "      <th>0</th>\n",
       "      <td>e32a76187192</td>\n",
       "      <td>814d6b</td>\n",
       "      <td>The Third Wave developed over such a short tim...</td>\n",
       "      <td>0.997243</td>\n",
       "      <td>1.880386</td>\n",
       "      <td>Summarize how the Third Wave developed over su...</td>\n",
       "      <td>The Third Wave</td>\n",
       "      <td>Background \\r\\nThe Third Wave ex...</td>\n",
       "      <td>0.101934</td>\n",
       "      <td>0.1072</td>\n",
       "      <td>0.0</td>\n",
       "      <td>0.038217</td>\n",
       "      <td>0.164430</td>\n",
       "    </tr>\n",
       "    <tr>\n",
       "      <th>1</th>\n",
       "      <td>c6ead27f5d8a</td>\n",
       "      <td>ebad26</td>\n",
       "      <td>The ways the factory would various would use t...</td>\n",
       "      <td>-0.387791</td>\n",
       "      <td>-0.584181</td>\n",
       "      <td>Summarize the various ways the factory would u...</td>\n",
       "      <td>Excerpt from The Jungle</td>\n",
       "      <td>With one member trimming beef ...</td>\n",
       "      <td>0.077627</td>\n",
       "      <td>0.0880</td>\n",
       "      <td>0.0</td>\n",
       "      <td>0.031847</td>\n",
       "      <td>0.107383</td>\n",
       "    </tr>\n",
       "    <tr>\n",
       "      <th>2</th>\n",
       "      <td>18604e817df1</td>\n",
       "      <td>3b9047</td>\n",
       "      <td>The anchent egyptian goverment structure i...</td>\n",
       "      <td>0.879476</td>\n",
       "      <td>-0.335857</td>\n",
       "      <td>In complete sentences, summarize the structure...</td>\n",
       "      <td>Egyptian Social Structure</td>\n",
       "      <td>Egyptian society was structure...</td>\n",
       "      <td>0.102718</td>\n",
       "      <td>0.0976</td>\n",
       "      <td>0.0</td>\n",
       "      <td>0.089172</td>\n",
       "      <td>0.124161</td>\n",
       "    </tr>\n",
       "    <tr>\n",
       "      <th>3</th>\n",
       "      <td>b5852dc9ed02</td>\n",
       "      <td>ebad26</td>\n",
       "      <td>\"Jonas had told them how the meat that was tak...</td>\n",
       "      <td>-1.547163</td>\n",
       "      <td>-1.461245</td>\n",
       "      <td>Summarize the various ways the factory would u...</td>\n",
       "      <td>Excerpt from The Jungle</td>\n",
       "      <td>With one member trimming beef ...</td>\n",
       "      <td>0.023262</td>\n",
       "      <td>0.0304</td>\n",
       "      <td>0.0</td>\n",
       "      <td>0.031847</td>\n",
       "      <td>0.073826</td>\n",
       "    </tr>\n",
       "    <tr>\n",
       "      <th>4</th>\n",
       "      <td>25c8be5ac274</td>\n",
       "      <td>814d6b</td>\n",
       "      <td>The Third Wave was an experiment and or moveme...</td>\n",
       "      <td>-0.922831</td>\n",
       "      <td>-1.338911</td>\n",
       "      <td>Summarize how the Third Wave developed over su...</td>\n",
       "      <td>The Third Wave</td>\n",
       "      <td>Background \\r\\nThe Third Wave ex...</td>\n",
       "      <td>0.034501</td>\n",
       "      <td>0.0304</td>\n",
       "      <td>0.0</td>\n",
       "      <td>0.006369</td>\n",
       "      <td>0.067114</td>\n",
       "    </tr>\n",
       "  </tbody>\n",
       "</table>\n",
       "</div>"
      ]
     },
     "execution_count": 218,
     "metadata": {},
     "output_type": "execute_result"
    }
   ],
   "execution_count": 218
  },
  {
   "metadata": {
    "ExecuteTime": {
     "end_time": "2024-10-24T02:15:56.674042Z",
     "start_time": "2024-10-24T02:15:56.396584Z"
    }
   },
   "cell_type": "code",
   "source": [
    "tokenizer = Tokenizer(num_words=10000)  # Limitar a las 10,000 palabras más comunes\n",
    "tokenizer.fit_on_texts(data['text'] + ' ' + data['prompt_text'])"
   ],
   "id": "92933c854c485bc4",
   "outputs": [],
   "execution_count": 219
  },
  {
   "metadata": {
    "ExecuteTime": {
     "end_time": "2024-10-24T02:15:56.887321Z",
     "start_time": "2024-10-24T02:15:56.703461Z"
    }
   },
   "cell_type": "code",
   "source": "sequences = tokenizer.texts_to_sequences(data['text'] + ' ' + data['prompt_text'])",
   "id": "d73b624270e1e5",
   "outputs": [],
   "execution_count": 220
  },
  {
   "metadata": {
    "ExecuteTime": {
     "end_time": "2024-10-24T02:15:56.917839Z",
     "start_time": "2024-10-24T02:15:56.887321Z"
    }
   },
   "cell_type": "code",
   "source": [
    "maxlen = 200  # Puedes ajustar este valor según la longitud promedio\n",
    "X = pad_sequences(sequences, maxlen=maxlen)"
   ],
   "id": "e4cbb7cf0f66eef1",
   "outputs": [],
   "execution_count": 221
  },
  {
   "metadata": {
    "ExecuteTime": {
     "end_time": "2024-10-24T02:15:56.950764Z",
     "start_time": "2024-10-24T02:15:56.944634Z"
    }
   },
   "cell_type": "code",
   "source": [
    "# Combinar las etiquetas en una matriz\n",
    "y = data[['content', 'wording']].values\n",
    "\n",
    "# Dividir los datos en entrenamiento y prueba\n",
    "X_train, X_test, y_train, y_test = train_test_split(X, y, test_size=0.2, random_state=42)"
   ],
   "id": "68b936b668663865",
   "outputs": [],
   "execution_count": 222
  },
  {
   "metadata": {
    "ExecuteTime": {
     "end_time": "2024-10-24T02:15:56.978641Z",
     "start_time": "2024-10-24T02:15:56.975449Z"
    }
   },
   "cell_type": "code",
   "source": [
    "# Separar las etiquetas después de la división\n",
    "y_content_train = y_train[:, 0]\n",
    "y_wording_train = y_train[:, 1]\n",
    "y_content_test = y_test[:, 0]\n",
    "y_wording_test = y_test[:,1]"
   ],
   "id": "1331bf5d4844055d",
   "outputs": [],
   "execution_count": 223
  },
  {
   "metadata": {},
   "cell_type": "markdown",
   "source": "## RNN",
   "id": "428a02fad50d9e68"
  },
  {
   "metadata": {
    "ExecuteTime": {
     "end_time": "2024-10-24T02:15:57.004287Z",
     "start_time": "2024-10-24T02:15:57.000939Z"
    }
   },
   "cell_type": "code",
   "source": [
    "from tensorflow.keras.models import Model\n",
    "from tensorflow.keras.layers import Input, Embedding, LSTM, Dense, Dropout\n"
   ],
   "id": "733c12f5c9ba4e24",
   "outputs": [],
   "execution_count": 224
  },
  {
   "metadata": {
    "ExecuteTime": {
     "end_time": "2024-10-24T02:15:57.085593Z",
     "start_time": "2024-10-24T02:15:57.026740Z"
    }
   },
   "cell_type": "code",
   "source": [
    "input_ = Input(shape=(maxlen,))\n",
    "\n",
    "x = Embedding(input_dim=10000, output_dim=128, input_length=maxlen)(input_)\n",
    "\n",
    "x = LSTM(256, return_sequences=True)(x)\n",
    "x = Dropout(0.5)(x)\n",
    "x = LSTM(128, return_sequences=True)(x)\n",
    "x = Dropout(0.5)(x)\n",
    "x = LSTM(64, return_sequences=False)(x)\n",
    "x = Dense(64, activation='relu')(x)\n",
    "x = Dropout(0.5)(x)\n",
    "x = Dense(32, activation='relu')(x)"
   ],
   "id": "481ee8e748cf23d4",
   "outputs": [
    {
     "name": "stderr",
     "output_type": "stream",
     "text": [
      "C:\\Users\\marka\\anaconda3\\envs\\DataMining11\\Lib\\site-packages\\keras\\src\\layers\\core\\embedding.py:90: UserWarning: Argument `input_length` is deprecated. Just remove it.\n",
      "  warnings.warn(\n"
     ]
    }
   ],
   "execution_count": 225
  },
  {
   "metadata": {
    "ExecuteTime": {
     "end_time": "2024-10-24T02:15:57.128862Z",
     "start_time": "2024-10-24T02:15:57.118896Z"
    }
   },
   "cell_type": "code",
   "source": [
    "# Predicción de content\n",
    "content_output = Dense(1, activation='linear', name='content')(x)\n",
    "\n",
    "# Predicción de wording\n",
    "wording_output = Dense(1, activation='linear', name='wording')(x)"
   ],
   "id": "6d59c81b315c82da",
   "outputs": [],
   "execution_count": 226
  },
  {
   "metadata": {
    "ExecuteTime": {
     "end_time": "2024-10-24T02:15:57.154491Z",
     "start_time": "2024-10-24T02:15:57.150954Z"
    }
   },
   "cell_type": "code",
   "source": [
    "optimizer = 'adam'\n",
    "loss = 'mean_squared_error'\n",
    "metrics = ['mae', 'mae']\n",
    "epochs = 15\n",
    "batch_size = 256"
   ],
   "id": "ae8ca111801ec0f0",
   "outputs": [],
   "execution_count": 227
  },
  {
   "metadata": {
    "ExecuteTime": {
     "end_time": "2024-10-24T02:15:57.185397Z",
     "start_time": "2024-10-24T02:15:57.176864Z"
    }
   },
   "cell_type": "code",
   "source": [
    "model = Model(inputs=input_, outputs=[content_output, wording_output])\n",
    "model.compile(optimizer=optimizer, loss=loss, metrics=metrics)"
   ],
   "id": "316122613939525e",
   "outputs": [],
   "execution_count": 228
  },
  {
   "metadata": {
    "ExecuteTime": {
     "end_time": "2024-10-24T02:15:57.220490Z",
     "start_time": "2024-10-24T02:15:57.208048Z"
    }
   },
   "cell_type": "code",
   "source": "model.summary()",
   "id": "8d9f7efbfc6ae07",
   "outputs": [
    {
     "data": {
      "text/plain": [
       "\u001B[1mModel: \"functional_17\"\u001B[0m\n"
      ],
      "text/html": [
       "<pre style=\"white-space:pre;overflow-x:auto;line-height:normal;font-family:Menlo,'DejaVu Sans Mono',consolas,'Courier New',monospace\"><span style=\"font-weight: bold\">Model: \"functional_17\"</span>\n",
       "</pre>\n"
      ]
     },
     "metadata": {},
     "output_type": "display_data"
    },
    {
     "data": {
      "text/plain": [
       "┏━━━━━━━━━━━━━━━━━━━━━┳━━━━━━━━━━━━━━━━━━━┳━━━━━━━━━━━━┳━━━━━━━━━━━━━━━━━━━┓\n",
       "┃\u001B[1m \u001B[0m\u001B[1mLayer (type)       \u001B[0m\u001B[1m \u001B[0m┃\u001B[1m \u001B[0m\u001B[1mOutput Shape     \u001B[0m\u001B[1m \u001B[0m┃\u001B[1m \u001B[0m\u001B[1m   Param #\u001B[0m\u001B[1m \u001B[0m┃\u001B[1m \u001B[0m\u001B[1mConnected to     \u001B[0m\u001B[1m \u001B[0m┃\n",
       "┡━━━━━━━━━━━━━━━━━━━━━╇━━━━━━━━━━━━━━━━━━━╇━━━━━━━━━━━━╇━━━━━━━━━━━━━━━━━━━┩\n",
       "│ input_layer_12      │ (\u001B[38;5;45mNone\u001B[0m, \u001B[38;5;34m200\u001B[0m)       │          \u001B[38;5;34m0\u001B[0m │ -                 │\n",
       "│ (\u001B[38;5;33mInputLayer\u001B[0m)        │                   │            │                   │\n",
       "├─────────────────────┼───────────────────┼────────────┼───────────────────┤\n",
       "│ embedding_12        │ (\u001B[38;5;45mNone\u001B[0m, \u001B[38;5;34m200\u001B[0m, \u001B[38;5;34m128\u001B[0m)  │  \u001B[38;5;34m1,280,000\u001B[0m │ input_layer_12[\u001B[38;5;34m0\u001B[0m… │\n",
       "│ (\u001B[38;5;33mEmbedding\u001B[0m)         │                   │            │                   │\n",
       "├─────────────────────┼───────────────────┼────────────┼───────────────────┤\n",
       "│ lstm_26 (\u001B[38;5;33mLSTM\u001B[0m)      │ (\u001B[38;5;45mNone\u001B[0m, \u001B[38;5;34m200\u001B[0m, \u001B[38;5;34m256\u001B[0m)  │    \u001B[38;5;34m394,240\u001B[0m │ embedding_12[\u001B[38;5;34m0\u001B[0m][\u001B[38;5;34m…\u001B[0m │\n",
       "├─────────────────────┼───────────────────┼────────────┼───────────────────┤\n",
       "│ dropout_22          │ (\u001B[38;5;45mNone\u001B[0m, \u001B[38;5;34m200\u001B[0m, \u001B[38;5;34m256\u001B[0m)  │          \u001B[38;5;34m0\u001B[0m │ lstm_26[\u001B[38;5;34m0\u001B[0m][\u001B[38;5;34m0\u001B[0m]     │\n",
       "│ (\u001B[38;5;33mDropout\u001B[0m)           │                   │            │                   │\n",
       "├─────────────────────┼───────────────────┼────────────┼───────────────────┤\n",
       "│ lstm_27 (\u001B[38;5;33mLSTM\u001B[0m)      │ (\u001B[38;5;45mNone\u001B[0m, \u001B[38;5;34m200\u001B[0m, \u001B[38;5;34m128\u001B[0m)  │    \u001B[38;5;34m197,120\u001B[0m │ dropout_22[\u001B[38;5;34m0\u001B[0m][\u001B[38;5;34m0\u001B[0m]  │\n",
       "├─────────────────────┼───────────────────┼────────────┼───────────────────┤\n",
       "│ dropout_23          │ (\u001B[38;5;45mNone\u001B[0m, \u001B[38;5;34m200\u001B[0m, \u001B[38;5;34m128\u001B[0m)  │          \u001B[38;5;34m0\u001B[0m │ lstm_27[\u001B[38;5;34m0\u001B[0m][\u001B[38;5;34m0\u001B[0m]     │\n",
       "│ (\u001B[38;5;33mDropout\u001B[0m)           │                   │            │                   │\n",
       "├─────────────────────┼───────────────────┼────────────┼───────────────────┤\n",
       "│ lstm_28 (\u001B[38;5;33mLSTM\u001B[0m)      │ (\u001B[38;5;45mNone\u001B[0m, \u001B[38;5;34m64\u001B[0m)        │     \u001B[38;5;34m49,408\u001B[0m │ dropout_23[\u001B[38;5;34m0\u001B[0m][\u001B[38;5;34m0\u001B[0m]  │\n",
       "├─────────────────────┼───────────────────┼────────────┼───────────────────┤\n",
       "│ dense_16 (\u001B[38;5;33mDense\u001B[0m)    │ (\u001B[38;5;45mNone\u001B[0m, \u001B[38;5;34m64\u001B[0m)        │      \u001B[38;5;34m4,160\u001B[0m │ lstm_28[\u001B[38;5;34m0\u001B[0m][\u001B[38;5;34m0\u001B[0m]     │\n",
       "├─────────────────────┼───────────────────┼────────────┼───────────────────┤\n",
       "│ dropout_24          │ (\u001B[38;5;45mNone\u001B[0m, \u001B[38;5;34m64\u001B[0m)        │          \u001B[38;5;34m0\u001B[0m │ dense_16[\u001B[38;5;34m0\u001B[0m][\u001B[38;5;34m0\u001B[0m]    │\n",
       "│ (\u001B[38;5;33mDropout\u001B[0m)           │                   │            │                   │\n",
       "├─────────────────────┼───────────────────┼────────────┼───────────────────┤\n",
       "│ dense_17 (\u001B[38;5;33mDense\u001B[0m)    │ (\u001B[38;5;45mNone\u001B[0m, \u001B[38;5;34m32\u001B[0m)        │      \u001B[38;5;34m2,080\u001B[0m │ dropout_24[\u001B[38;5;34m0\u001B[0m][\u001B[38;5;34m0\u001B[0m]  │\n",
       "├─────────────────────┼───────────────────┼────────────┼───────────────────┤\n",
       "│ content (\u001B[38;5;33mDense\u001B[0m)     │ (\u001B[38;5;45mNone\u001B[0m, \u001B[38;5;34m1\u001B[0m)         │         \u001B[38;5;34m33\u001B[0m │ dense_17[\u001B[38;5;34m0\u001B[0m][\u001B[38;5;34m0\u001B[0m]    │\n",
       "├─────────────────────┼───────────────────┼────────────┼───────────────────┤\n",
       "│ wording (\u001B[38;5;33mDense\u001B[0m)     │ (\u001B[38;5;45mNone\u001B[0m, \u001B[38;5;34m1\u001B[0m)         │         \u001B[38;5;34m33\u001B[0m │ dense_17[\u001B[38;5;34m0\u001B[0m][\u001B[38;5;34m0\u001B[0m]    │\n",
       "└─────────────────────┴───────────────────┴────────────┴───────────────────┘\n"
      ],
      "text/html": [
       "<pre style=\"white-space:pre;overflow-x:auto;line-height:normal;font-family:Menlo,'DejaVu Sans Mono',consolas,'Courier New',monospace\">┏━━━━━━━━━━━━━━━━━━━━━┳━━━━━━━━━━━━━━━━━━━┳━━━━━━━━━━━━┳━━━━━━━━━━━━━━━━━━━┓\n",
       "┃<span style=\"font-weight: bold\"> Layer (type)        </span>┃<span style=\"font-weight: bold\"> Output Shape      </span>┃<span style=\"font-weight: bold\">    Param # </span>┃<span style=\"font-weight: bold\"> Connected to      </span>┃\n",
       "┡━━━━━━━━━━━━━━━━━━━━━╇━━━━━━━━━━━━━━━━━━━╇━━━━━━━━━━━━╇━━━━━━━━━━━━━━━━━━━┩\n",
       "│ input_layer_12      │ (<span style=\"color: #00d7ff; text-decoration-color: #00d7ff\">None</span>, <span style=\"color: #00af00; text-decoration-color: #00af00\">200</span>)       │          <span style=\"color: #00af00; text-decoration-color: #00af00\">0</span> │ -                 │\n",
       "│ (<span style=\"color: #0087ff; text-decoration-color: #0087ff\">InputLayer</span>)        │                   │            │                   │\n",
       "├─────────────────────┼───────────────────┼────────────┼───────────────────┤\n",
       "│ embedding_12        │ (<span style=\"color: #00d7ff; text-decoration-color: #00d7ff\">None</span>, <span style=\"color: #00af00; text-decoration-color: #00af00\">200</span>, <span style=\"color: #00af00; text-decoration-color: #00af00\">128</span>)  │  <span style=\"color: #00af00; text-decoration-color: #00af00\">1,280,000</span> │ input_layer_12[<span style=\"color: #00af00; text-decoration-color: #00af00\">0</span>… │\n",
       "│ (<span style=\"color: #0087ff; text-decoration-color: #0087ff\">Embedding</span>)         │                   │            │                   │\n",
       "├─────────────────────┼───────────────────┼────────────┼───────────────────┤\n",
       "│ lstm_26 (<span style=\"color: #0087ff; text-decoration-color: #0087ff\">LSTM</span>)      │ (<span style=\"color: #00d7ff; text-decoration-color: #00d7ff\">None</span>, <span style=\"color: #00af00; text-decoration-color: #00af00\">200</span>, <span style=\"color: #00af00; text-decoration-color: #00af00\">256</span>)  │    <span style=\"color: #00af00; text-decoration-color: #00af00\">394,240</span> │ embedding_12[<span style=\"color: #00af00; text-decoration-color: #00af00\">0</span>][<span style=\"color: #00af00; text-decoration-color: #00af00\">…</span> │\n",
       "├─────────────────────┼───────────────────┼────────────┼───────────────────┤\n",
       "│ dropout_22          │ (<span style=\"color: #00d7ff; text-decoration-color: #00d7ff\">None</span>, <span style=\"color: #00af00; text-decoration-color: #00af00\">200</span>, <span style=\"color: #00af00; text-decoration-color: #00af00\">256</span>)  │          <span style=\"color: #00af00; text-decoration-color: #00af00\">0</span> │ lstm_26[<span style=\"color: #00af00; text-decoration-color: #00af00\">0</span>][<span style=\"color: #00af00; text-decoration-color: #00af00\">0</span>]     │\n",
       "│ (<span style=\"color: #0087ff; text-decoration-color: #0087ff\">Dropout</span>)           │                   │            │                   │\n",
       "├─────────────────────┼───────────────────┼────────────┼───────────────────┤\n",
       "│ lstm_27 (<span style=\"color: #0087ff; text-decoration-color: #0087ff\">LSTM</span>)      │ (<span style=\"color: #00d7ff; text-decoration-color: #00d7ff\">None</span>, <span style=\"color: #00af00; text-decoration-color: #00af00\">200</span>, <span style=\"color: #00af00; text-decoration-color: #00af00\">128</span>)  │    <span style=\"color: #00af00; text-decoration-color: #00af00\">197,120</span> │ dropout_22[<span style=\"color: #00af00; text-decoration-color: #00af00\">0</span>][<span style=\"color: #00af00; text-decoration-color: #00af00\">0</span>]  │\n",
       "├─────────────────────┼───────────────────┼────────────┼───────────────────┤\n",
       "│ dropout_23          │ (<span style=\"color: #00d7ff; text-decoration-color: #00d7ff\">None</span>, <span style=\"color: #00af00; text-decoration-color: #00af00\">200</span>, <span style=\"color: #00af00; text-decoration-color: #00af00\">128</span>)  │          <span style=\"color: #00af00; text-decoration-color: #00af00\">0</span> │ lstm_27[<span style=\"color: #00af00; text-decoration-color: #00af00\">0</span>][<span style=\"color: #00af00; text-decoration-color: #00af00\">0</span>]     │\n",
       "│ (<span style=\"color: #0087ff; text-decoration-color: #0087ff\">Dropout</span>)           │                   │            │                   │\n",
       "├─────────────────────┼───────────────────┼────────────┼───────────────────┤\n",
       "│ lstm_28 (<span style=\"color: #0087ff; text-decoration-color: #0087ff\">LSTM</span>)      │ (<span style=\"color: #00d7ff; text-decoration-color: #00d7ff\">None</span>, <span style=\"color: #00af00; text-decoration-color: #00af00\">64</span>)        │     <span style=\"color: #00af00; text-decoration-color: #00af00\">49,408</span> │ dropout_23[<span style=\"color: #00af00; text-decoration-color: #00af00\">0</span>][<span style=\"color: #00af00; text-decoration-color: #00af00\">0</span>]  │\n",
       "├─────────────────────┼───────────────────┼────────────┼───────────────────┤\n",
       "│ dense_16 (<span style=\"color: #0087ff; text-decoration-color: #0087ff\">Dense</span>)    │ (<span style=\"color: #00d7ff; text-decoration-color: #00d7ff\">None</span>, <span style=\"color: #00af00; text-decoration-color: #00af00\">64</span>)        │      <span style=\"color: #00af00; text-decoration-color: #00af00\">4,160</span> │ lstm_28[<span style=\"color: #00af00; text-decoration-color: #00af00\">0</span>][<span style=\"color: #00af00; text-decoration-color: #00af00\">0</span>]     │\n",
       "├─────────────────────┼───────────────────┼────────────┼───────────────────┤\n",
       "│ dropout_24          │ (<span style=\"color: #00d7ff; text-decoration-color: #00d7ff\">None</span>, <span style=\"color: #00af00; text-decoration-color: #00af00\">64</span>)        │          <span style=\"color: #00af00; text-decoration-color: #00af00\">0</span> │ dense_16[<span style=\"color: #00af00; text-decoration-color: #00af00\">0</span>][<span style=\"color: #00af00; text-decoration-color: #00af00\">0</span>]    │\n",
       "│ (<span style=\"color: #0087ff; text-decoration-color: #0087ff\">Dropout</span>)           │                   │            │                   │\n",
       "├─────────────────────┼───────────────────┼────────────┼───────────────────┤\n",
       "│ dense_17 (<span style=\"color: #0087ff; text-decoration-color: #0087ff\">Dense</span>)    │ (<span style=\"color: #00d7ff; text-decoration-color: #00d7ff\">None</span>, <span style=\"color: #00af00; text-decoration-color: #00af00\">32</span>)        │      <span style=\"color: #00af00; text-decoration-color: #00af00\">2,080</span> │ dropout_24[<span style=\"color: #00af00; text-decoration-color: #00af00\">0</span>][<span style=\"color: #00af00; text-decoration-color: #00af00\">0</span>]  │\n",
       "├─────────────────────┼───────────────────┼────────────┼───────────────────┤\n",
       "│ content (<span style=\"color: #0087ff; text-decoration-color: #0087ff\">Dense</span>)     │ (<span style=\"color: #00d7ff; text-decoration-color: #00d7ff\">None</span>, <span style=\"color: #00af00; text-decoration-color: #00af00\">1</span>)         │         <span style=\"color: #00af00; text-decoration-color: #00af00\">33</span> │ dense_17[<span style=\"color: #00af00; text-decoration-color: #00af00\">0</span>][<span style=\"color: #00af00; text-decoration-color: #00af00\">0</span>]    │\n",
       "├─────────────────────┼───────────────────┼────────────┼───────────────────┤\n",
       "│ wording (<span style=\"color: #0087ff; text-decoration-color: #0087ff\">Dense</span>)     │ (<span style=\"color: #00d7ff; text-decoration-color: #00d7ff\">None</span>, <span style=\"color: #00af00; text-decoration-color: #00af00\">1</span>)         │         <span style=\"color: #00af00; text-decoration-color: #00af00\">33</span> │ dense_17[<span style=\"color: #00af00; text-decoration-color: #00af00\">0</span>][<span style=\"color: #00af00; text-decoration-color: #00af00\">0</span>]    │\n",
       "└─────────────────────┴───────────────────┴────────────┴───────────────────┘\n",
       "</pre>\n"
      ]
     },
     "metadata": {},
     "output_type": "display_data"
    },
    {
     "data": {
      "text/plain": [
       "\u001B[1m Total params: \u001B[0m\u001B[38;5;34m1,927,074\u001B[0m (7.35 MB)\n"
      ],
      "text/html": [
       "<pre style=\"white-space:pre;overflow-x:auto;line-height:normal;font-family:Menlo,'DejaVu Sans Mono',consolas,'Courier New',monospace\"><span style=\"font-weight: bold\"> Total params: </span><span style=\"color: #00af00; text-decoration-color: #00af00\">1,927,074</span> (7.35 MB)\n",
       "</pre>\n"
      ]
     },
     "metadata": {},
     "output_type": "display_data"
    },
    {
     "data": {
      "text/plain": [
       "\u001B[1m Trainable params: \u001B[0m\u001B[38;5;34m1,927,074\u001B[0m (7.35 MB)\n"
      ],
      "text/html": [
       "<pre style=\"white-space:pre;overflow-x:auto;line-height:normal;font-family:Menlo,'DejaVu Sans Mono',consolas,'Courier New',monospace\"><span style=\"font-weight: bold\"> Trainable params: </span><span style=\"color: #00af00; text-decoration-color: #00af00\">1,927,074</span> (7.35 MB)\n",
       "</pre>\n"
      ]
     },
     "metadata": {},
     "output_type": "display_data"
    },
    {
     "data": {
      "text/plain": [
       "\u001B[1m Non-trainable params: \u001B[0m\u001B[38;5;34m0\u001B[0m (0.00 B)\n"
      ],
      "text/html": [
       "<pre style=\"white-space:pre;overflow-x:auto;line-height:normal;font-family:Menlo,'DejaVu Sans Mono',consolas,'Courier New',monospace\"><span style=\"font-weight: bold\"> Non-trainable params: </span><span style=\"color: #00af00; text-decoration-color: #00af00\">0</span> (0.00 B)\n",
       "</pre>\n"
      ]
     },
     "metadata": {},
     "output_type": "display_data"
    }
   ],
   "execution_count": 229
  },
  {
   "metadata": {
    "ExecuteTime": {
     "end_time": "2024-10-24T02:21:59.160601Z",
     "start_time": "2024-10-24T02:15:57.243853Z"
    }
   },
   "cell_type": "code",
   "source": [
    "history = model.fit(\n",
    "    X_train, \n",
    "    [y_content_train, y_wording_train], \n",
    "    validation_data=(X_test, [y_content_test, y_wording_test]), \n",
    "    epochs=epochs,\n",
    "    batch_size=batch_size,\n",
    "    verbose=2\n",
    ")"
   ],
   "id": "f9a5dc831d140084",
   "outputs": [
    {
     "name": "stdout",
     "output_type": "stream",
     "text": [
      "Epoch 1/15\n",
      "23/23 - 28s - 1s/step - content_mae: 0.6548 - loss: 1.6239 - wording_mae: 0.7587 - val_content_mae: 0.4954 - val_loss: 1.0842 - val_wording_mae: 0.6469\n",
      "Epoch 2/15\n",
      "23/23 - 25s - 1s/step - content_mae: 0.4511 - loss: 0.9451 - wording_mae: 0.6059 - val_content_mae: 0.4206 - val_loss: 0.8387 - val_wording_mae: 0.5701\n",
      "Epoch 3/15\n",
      "23/23 - 23s - 1s/step - content_mae: 0.4249 - loss: 0.8395 - wording_mae: 0.5665 - val_content_mae: 0.4105 - val_loss: 0.7847 - val_wording_mae: 0.5541\n",
      "Epoch 4/15\n",
      "23/23 - 25s - 1s/step - content_mae: 0.4007 - loss: 0.7267 - wording_mae: 0.5207 - val_content_mae: 0.4327 - val_loss: 0.7980 - val_wording_mae: 0.5305\n",
      "Epoch 5/15\n",
      "23/23 - 26s - 1s/step - content_mae: 0.3784 - loss: 0.6326 - wording_mae: 0.4852 - val_content_mae: 0.3869 - val_loss: 0.6962 - val_wording_mae: 0.5236\n",
      "Epoch 6/15\n",
      "23/23 - 24s - 1s/step - content_mae: 0.3667 - loss: 0.5748 - wording_mae: 0.4597 - val_content_mae: 0.3870 - val_loss: 0.6908 - val_wording_mae: 0.5147\n",
      "Epoch 7/15\n",
      "23/23 - 23s - 1s/step - content_mae: 0.3555 - loss: 0.5188 - wording_mae: 0.4326 - val_content_mae: 0.3848 - val_loss: 0.6864 - val_wording_mae: 0.5153\n",
      "Epoch 8/15\n",
      "23/23 - 23s - 982ms/step - content_mae: 0.3356 - loss: 0.4672 - wording_mae: 0.4069 - val_content_mae: 0.3994 - val_loss: 0.6978 - val_wording_mae: 0.5130\n",
      "Epoch 9/15\n",
      "23/23 - 24s - 1s/step - content_mae: 0.3301 - loss: 0.4288 - wording_mae: 0.3800 - val_content_mae: 0.3905 - val_loss: 0.7499 - val_wording_mae: 0.5356\n",
      "Epoch 10/15\n",
      "23/23 - 25s - 1s/step - content_mae: 0.3258 - loss: 0.4249 - wording_mae: 0.3788 - val_content_mae: 0.4188 - val_loss: 0.7645 - val_wording_mae: 0.5297\n",
      "Epoch 11/15\n",
      "23/23 - 24s - 1s/step - content_mae: 0.3239 - loss: 0.3986 - wording_mae: 0.3642 - val_content_mae: 0.3837 - val_loss: 0.6841 - val_wording_mae: 0.5205\n",
      "Epoch 12/15\n",
      "23/23 - 24s - 1s/step - content_mae: 0.3028 - loss: 0.3652 - wording_mae: 0.3460 - val_content_mae: 0.3789 - val_loss: 0.6998 - val_wording_mae: 0.5243\n",
      "Epoch 13/15\n",
      "23/23 - 24s - 1s/step - content_mae: 0.2932 - loss: 0.3342 - wording_mae: 0.3303 - val_content_mae: 0.3926 - val_loss: 0.7203 - val_wording_mae: 0.5223\n",
      "Epoch 14/15\n",
      "23/23 - 23s - 989ms/step - content_mae: 0.2825 - loss: 0.3083 - wording_mae: 0.3157 - val_content_mae: 0.3965 - val_loss: 0.7367 - val_wording_mae: 0.5379\n",
      "Epoch 15/15\n",
      "23/23 - 23s - 979ms/step - content_mae: 0.2909 - loss: 0.3142 - wording_mae: 0.3136 - val_content_mae: 0.3958 - val_loss: 0.7436 - val_wording_mae: 0.5321\n"
     ]
    }
   ],
   "execution_count": 230
  },
  {
   "metadata": {
    "ExecuteTime": {
     "end_time": "2024-10-24T02:22:03.481059Z",
     "start_time": "2024-10-24T02:21:59.185920Z"
    }
   },
   "cell_type": "code",
   "source": [
    "from sklearn.metrics import mean_absolute_error, mean_squared_error, r2_score\n",
    "\n",
    "y_content_pred, y_wording_pred = model.predict(X_test)\n",
    "\n",
    "print('MAE content:', mean_absolute_error(y_content_test, y_content_pred))\n",
    "print('MSE content:', mean_squared_error(y_content_test, y_content_pred))\n",
    "print('R2 content:', r2_score(y_content_test, y_content_pred))\n",
    "\n",
    "print('\\nMAE wording:', mean_absolute_error(y_wording_test, y_wording_pred))\n",
    "print('MSE wording:', mean_squared_error(y_wording_test, y_wording_pred))\n",
    "print('R2 wording:', r2_score(y_wording_test, y_wording_pred))"
   ],
   "id": "2510069cf3548ff5",
   "outputs": [
    {
     "name": "stdout",
     "output_type": "stream",
     "text": [
      "\u001B[1m45/45\u001B[0m \u001B[32m━━━━━━━━━━━━━━━━━━━━\u001B[0m\u001B[37m\u001B[0m \u001B[1m4s\u001B[0m 80ms/step\n",
      "MAE content: 0.3957955900311342\n",
      "MSE content: 0.2680095987524747\n",
      "R2 content: 0.7751061078488849\n",
      "\n",
      "MAE wording: 0.5320961924474421\n",
      "MSE wording: 0.47555511580038934\n",
      "R2 wording: 0.58640306212602\n"
     ]
    }
   ],
   "execution_count": 231
  },
  {
   "metadata": {
    "ExecuteTime": {
     "end_time": "2024-10-24T02:22:03.508132Z",
     "start_time": "2024-10-24T02:22:03.504167Z"
    }
   },
   "cell_type": "code",
   "source": "import matplotlib.pyplot as plt",
   "id": "a2aff7fe0661b72d",
   "outputs": [],
   "execution_count": 232
  },
  {
   "metadata": {
    "ExecuteTime": {
     "end_time": "2024-10-24T02:22:03.602024Z",
     "start_time": "2024-10-24T02:22:03.530619Z"
    }
   },
   "cell_type": "code",
   "source": [
    "plt.plot(history.history['loss'])\n",
    "plt.plot(history.history['val_loss'])\n",
    "plt.title('Loss')\n",
    "plt.show()"
   ],
   "id": "8d4dc17c3413a10e",
   "outputs": [
    {
     "data": {
      "text/plain": [
       "<Figure size 640x480 with 1 Axes>"
      ],
      "image/png": "[encoded data removed]"
     },
     "metadata": {},
     "output_type": "display_data"
    }
   ],
   "execution_count": 233
  },
  {
   "metadata": {
    "ExecuteTime": {
     "end_time": "2024-10-24T02:22:54.425361Z",
     "start_time": "2024-10-24T02:22:54.343197Z"
    }
   },
   "cell_type": "code",
   "source": [
    "plt.plot(history.history['content_mae'])\n",
    "plt.plot(history.history['val_content_mae'])\n",
    "plt.title('Content MAE')\n",
    "plt.show()"
   ],
   "id": "68530c73651230bb",
   "outputs": [
    {
     "data": {
      "text/plain": [
       "<Figure size 640x480 with 1 Axes>"
      ],
      "image/png": "[encoded data removed]"
     },
     "metadata": {},
     "output_type": "display_data"
    }
   ],
   "execution_count": 236
  },
  {
   "metadata": {
    "ExecuteTime": {
     "end_time": "2024-10-24T02:22:54.608293Z",
     "start_time": "2024-10-24T02:22:54.535884Z"
    }
   },
   "cell_type": "code",
   "source": [
    "plt.plot(history.history['wording_mae'])\n",
    "plt.plot(history.history['val_wording_mae'])\n",
    "plt.title('Wording MAE')\n",
    "plt.show()"
   ],
   "id": "b63a5b888f5aa96a",
   "outputs": [
    {
     "data": {
      "text/plain": [
       "<Figure size 640x480 with 1 Axes>"
      ],
      "image/png": "[encoded data removed]"
     },
     "metadata": {},
     "output_type": "display_data"
    }
   ],
   "execution_count": 237
  },
  {
   "metadata": {
    "ExecuteTime": {
     "end_time": "2024-10-24T02:22:03.819181Z",
     "start_time": "2024-10-24T02:22:03.815929Z"
    }
   },
   "cell_type": "code",
   "source": "",
   "id": "c86d65717e93c8d0",
   "outputs": [],
   "execution_count": null
  }
 ],
 "metadata": {
  "kernelspec": {
   "display_name": "Python 3",
   "language": "python",
   "name": "python3"
  },
  "language_info": {
   "codemirror_mode": {
    "name": "ipython",
    "version": 2
   },
   "file_extension": ".py",
   "mimetype": "text/x-python",
   "name": "python",
   "nbconvert_exporter": "python",
   "pygments_lexer": "ipython2",
   "version": "2.7.6"
  }
 },
 "nbformat": 4,
 "nbformat_minor": 5
}
