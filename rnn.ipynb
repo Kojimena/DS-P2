{
 "cells": [
  {
   "cell_type": "code",
   "id": "initial_id",
   "metadata": {
    "collapsed": true,
    "ExecuteTime": {
     "end_time": "2024-10-24T01:22:34.731179Z",
     "start_time": "2024-10-24T01:22:34.727793Z"
    }
   },
   "source": [
    "import numpy as np\n",
    "import pandas as pd\n",
    "\n",
    "from sklearn.model_selection import train_test_split"
   ],
   "outputs": [],
   "execution_count": 87
  },
  {
   "metadata": {
    "ExecuteTime": {
     "end_time": "2024-10-24T01:22:34.737812Z",
     "start_time": "2024-10-24T01:22:34.733931Z"
    }
   },
   "cell_type": "code",
   "source": [
    "from tensorflow.keras.preprocessing.text import Tokenizer\n",
    "from tensorflow.keras.preprocessing.sequence import pad_sequences"
   ],
   "id": "f39e8e46aabfd718",
   "outputs": [],
   "execution_count": 88
  },
  {
   "metadata": {
    "ExecuteTime": {
     "end_time": "2024-10-24T01:22:34.806614Z",
     "start_time": "2024-10-24T01:22:34.753356Z"
    }
   },
   "cell_type": "code",
   "source": [
    "data = pd.read_csv('data/Finaltrain.csv')\n",
    "data.head()"
   ],
   "id": "661eba0922649bb9",
   "outputs": [
    {
     "data": {
      "text/plain": [
       "     student_id prompt_id                                               text  \\\n",
       "0  000e8c3c7ddb    814d6b  The third wave was an experimentto see how peo...   \n",
       "1  0070c9e7af47    814d6b  The Third Wave developed  rapidly because the ...   \n",
       "2  0095993991fe    814d6b  The third wave only started as an experiment w...   \n",
       "3  00c20c6ddd23    814d6b  The experimen was orginally about how even whe...   \n",
       "4  00d40ad10dc9    814d6b  The third wave developed so quickly due to the...   \n",
       "\n",
       "    content   wording                                    prompt_question  \\\n",
       "0  0.205683  0.380538  Summarize how the Third Wave developed over su...   \n",
       "1  3.272894  3.219757  Summarize how the Third Wave developed over su...   \n",
       "2  0.205683  0.380538  Summarize how the Third Wave developed over su...   \n",
       "3  0.567975  0.969062  Summarize how the Third Wave developed over su...   \n",
       "4 -0.910596 -0.081769  Summarize how the Third Wave developed over su...   \n",
       "\n",
       "     prompt_title                          prompt_text  text_length  \\\n",
       "0  The Third Wave  Background \\r\\nThe Third Wave ex...          346   \n",
       "1  The Third Wave  Background \\r\\nThe Third Wave ex...         1225   \n",
       "2  The Third Wave  Background \\r\\nThe Third Wave ex...          345   \n",
       "3  The Third Wave  Background \\r\\nThe Third Wave ex...          451   \n",
       "4  The Third Wave  Background \\r\\nThe Third Wave ex...          145   \n",
       "\n",
       "   word_count  number_count  punctuation_count  stopword_count  \n",
       "0          61             0                  3              21  \n",
       "1         203             3                 29              79  \n",
       "2          60             0                  9              24  \n",
       "3          76             0                 10              33  \n",
       "4          27             0                  2              10  "
      ],
      "text/html": [
       "<div>\n",
       "<style scoped>\n",
       "    .dataframe tbody tr th:only-of-type {\n",
       "        vertical-align: middle;\n",
       "    }\n",
       "\n",
       "    .dataframe tbody tr th {\n",
       "        vertical-align: top;\n",
       "    }\n",
       "\n",
       "    .dataframe thead th {\n",
       "        text-align: right;\n",
       "    }\n",
       "</style>\n",
       "<table border=\"1\" class=\"dataframe\">\n",
       "  <thead>\n",
       "    <tr style=\"text-align: right;\">\n",
       "      <th></th>\n",
       "      <th>student_id</th>\n",
       "      <th>prompt_id</th>\n",
       "      <th>text</th>\n",
       "      <th>content</th>\n",
       "      <th>wording</th>\n",
       "      <th>prompt_question</th>\n",
       "      <th>prompt_title</th>\n",
       "      <th>prompt_text</th>\n",
       "      <th>text_length</th>\n",
       "      <th>word_count</th>\n",
       "      <th>number_count</th>\n",
       "      <th>punctuation_count</th>\n",
       "      <th>stopword_count</th>\n",
       "    </tr>\n",
       "  </thead>\n",
       "  <tbody>\n",
       "    <tr>\n",
       "      <th>0</th>\n",
       "      <td>000e8c3c7ddb</td>\n",
       "      <td>814d6b</td>\n",
       "      <td>The third wave was an experimentto see how peo...</td>\n",
       "      <td>0.205683</td>\n",
       "      <td>0.380538</td>\n",
       "      <td>Summarize how the Third Wave developed over su...</td>\n",
       "      <td>The Third Wave</td>\n",
       "      <td>Background \\r\\nThe Third Wave ex...</td>\n",
       "      <td>346</td>\n",
       "      <td>61</td>\n",
       "      <td>0</td>\n",
       "      <td>3</td>\n",
       "      <td>21</td>\n",
       "    </tr>\n",
       "    <tr>\n",
       "      <th>1</th>\n",
       "      <td>0070c9e7af47</td>\n",
       "      <td>814d6b</td>\n",
       "      <td>The Third Wave developed  rapidly because the ...</td>\n",
       "      <td>3.272894</td>\n",
       "      <td>3.219757</td>\n",
       "      <td>Summarize how the Third Wave developed over su...</td>\n",
       "      <td>The Third Wave</td>\n",
       "      <td>Background \\r\\nThe Third Wave ex...</td>\n",
       "      <td>1225</td>\n",
       "      <td>203</td>\n",
       "      <td>3</td>\n",
       "      <td>29</td>\n",
       "      <td>79</td>\n",
       "    </tr>\n",
       "    <tr>\n",
       "      <th>2</th>\n",
       "      <td>0095993991fe</td>\n",
       "      <td>814d6b</td>\n",
       "      <td>The third wave only started as an experiment w...</td>\n",
       "      <td>0.205683</td>\n",
       "      <td>0.380538</td>\n",
       "      <td>Summarize how the Third Wave developed over su...</td>\n",
       "      <td>The Third Wave</td>\n",
       "      <td>Background \\r\\nThe Third Wave ex...</td>\n",
       "      <td>345</td>\n",
       "      <td>60</td>\n",
       "      <td>0</td>\n",
       "      <td>9</td>\n",
       "      <td>24</td>\n",
       "    </tr>\n",
       "    <tr>\n",
       "      <th>3</th>\n",
       "      <td>00c20c6ddd23</td>\n",
       "      <td>814d6b</td>\n",
       "      <td>The experimen was orginally about how even whe...</td>\n",
       "      <td>0.567975</td>\n",
       "      <td>0.969062</td>\n",
       "      <td>Summarize how the Third Wave developed over su...</td>\n",
       "      <td>The Third Wave</td>\n",
       "      <td>Background \\r\\nThe Third Wave ex...</td>\n",
       "      <td>451</td>\n",
       "      <td>76</td>\n",
       "      <td>0</td>\n",
       "      <td>10</td>\n",
       "      <td>33</td>\n",
       "    </tr>\n",
       "    <tr>\n",
       "      <th>4</th>\n",
       "      <td>00d40ad10dc9</td>\n",
       "      <td>814d6b</td>\n",
       "      <td>The third wave developed so quickly due to the...</td>\n",
       "      <td>-0.910596</td>\n",
       "      <td>-0.081769</td>\n",
       "      <td>Summarize how the Third Wave developed over su...</td>\n",
       "      <td>The Third Wave</td>\n",
       "      <td>Background \\r\\nThe Third Wave ex...</td>\n",
       "      <td>145</td>\n",
       "      <td>27</td>\n",
       "      <td>0</td>\n",
       "      <td>2</td>\n",
       "      <td>10</td>\n",
       "    </tr>\n",
       "  </tbody>\n",
       "</table>\n",
       "</div>"
      ]
     },
     "execution_count": 89,
     "metadata": {},
     "output_type": "execute_result"
    }
   ],
   "execution_count": 89
  },
  {
   "metadata": {
    "ExecuteTime": {
     "end_time": "2024-10-24T01:22:34.856077Z",
     "start_time": "2024-10-24T01:22:34.847667Z"
    }
   },
   "cell_type": "code",
   "source": [
    "# randomize data\n",
    "data = data.sample(frac=1).reset_index(drop=True) # Mezclar los datos\n",
    "\n",
    "data.head()"
   ],
   "id": "b04d5a0f2c2bb168",
   "outputs": [
    {
     "data": {
      "text/plain": [
       "     student_id prompt_id                                               text  \\\n",
       "0  6923e693cf86    814d6b  The third wave developed over a short amount o...   \n",
       "1  a2b3cfc9e081    3b9047  Different social status's did different jobs. ...   \n",
       "2  f598d54f05b5    ebad26  Some ways factories would cover up spoiled mea...   \n",
       "3  0f87b4ef1699    39c16e  The three elements that makes a great tragedy,...   \n",
       "4  9b988975c8c6    814d6b  The third wave started growing in popularity a...   \n",
       "\n",
       "    content   wording                                    prompt_question  \\\n",
       "0 -0.393310  0.627128  Summarize how the Third Wave developed over su...   \n",
       "1  0.297031 -0.168734  In complete sentences, summarize the structure...   \n",
       "2  0.942272  0.375963  Summarize the various ways the factory would u...   \n",
       "3 -0.431734 -0.956762  Summarize at least 3 elements of an ideal trag...   \n",
       "4 -0.766631 -1.093238  Summarize how the Third Wave developed over su...   \n",
       "\n",
       "                prompt_title                          prompt_text  \\\n",
       "0             The Third Wave  Background \\r\\nThe Third Wave ex...   \n",
       "1  Egyptian Social Structure    Egyptian society was structure...   \n",
       "2    Excerpt from The Jungle    With one member trimming beef ...   \n",
       "3                 On Tragedy  Chapter 13 \\r\\nAs the sequel to ...   \n",
       "4             The Third Wave  Background \\r\\nThe Third Wave ex...   \n",
       "\n",
       "   text_length  word_count  number_count  punctuation_count  stopword_count  \n",
       "0          328          58             0                  5              28  \n",
       "1          642         104             0                 24              36  \n",
       "2          713         138             0                 12              61  \n",
       "3          362          65             0                  7              37  \n",
       "4          197          32             0                  2              13  "
      ],
      "text/html": [
       "<div>\n",
       "<style scoped>\n",
       "    .dataframe tbody tr th:only-of-type {\n",
       "        vertical-align: middle;\n",
       "    }\n",
       "\n",
       "    .dataframe tbody tr th {\n",
       "        vertical-align: top;\n",
       "    }\n",
       "\n",
       "    .dataframe thead th {\n",
       "        text-align: right;\n",
       "    }\n",
       "</style>\n",
       "<table border=\"1\" class=\"dataframe\">\n",
       "  <thead>\n",
       "    <tr style=\"text-align: right;\">\n",
       "      <th></th>\n",
       "      <th>student_id</th>\n",
       "      <th>prompt_id</th>\n",
       "      <th>text</th>\n",
       "      <th>content</th>\n",
       "      <th>wording</th>\n",
       "      <th>prompt_question</th>\n",
       "      <th>prompt_title</th>\n",
       "      <th>prompt_text</th>\n",
       "      <th>text_length</th>\n",
       "      <th>word_count</th>\n",
       "      <th>number_count</th>\n",
       "      <th>punctuation_count</th>\n",
       "      <th>stopword_count</th>\n",
       "    </tr>\n",
       "  </thead>\n",
       "  <tbody>\n",
       "    <tr>\n",
       "      <th>0</th>\n",
       "      <td>6923e693cf86</td>\n",
       "      <td>814d6b</td>\n",
       "      <td>The third wave developed over a short amount o...</td>\n",
       "      <td>-0.393310</td>\n",
       "      <td>0.627128</td>\n",
       "      <td>Summarize how the Third Wave developed over su...</td>\n",
       "      <td>The Third Wave</td>\n",
       "      <td>Background \\r\\nThe Third Wave ex...</td>\n",
       "      <td>328</td>\n",
       "      <td>58</td>\n",
       "      <td>0</td>\n",
       "      <td>5</td>\n",
       "      <td>28</td>\n",
       "    </tr>\n",
       "    <tr>\n",
       "      <th>1</th>\n",
       "      <td>a2b3cfc9e081</td>\n",
       "      <td>3b9047</td>\n",
       "      <td>Different social status's did different jobs. ...</td>\n",
       "      <td>0.297031</td>\n",
       "      <td>-0.168734</td>\n",
       "      <td>In complete sentences, summarize the structure...</td>\n",
       "      <td>Egyptian Social Structure</td>\n",
       "      <td>Egyptian society was structure...</td>\n",
       "      <td>642</td>\n",
       "      <td>104</td>\n",
       "      <td>0</td>\n",
       "      <td>24</td>\n",
       "      <td>36</td>\n",
       "    </tr>\n",
       "    <tr>\n",
       "      <th>2</th>\n",
       "      <td>f598d54f05b5</td>\n",
       "      <td>ebad26</td>\n",
       "      <td>Some ways factories would cover up spoiled mea...</td>\n",
       "      <td>0.942272</td>\n",
       "      <td>0.375963</td>\n",
       "      <td>Summarize the various ways the factory would u...</td>\n",
       "      <td>Excerpt from The Jungle</td>\n",
       "      <td>With one member trimming beef ...</td>\n",
       "      <td>713</td>\n",
       "      <td>138</td>\n",
       "      <td>0</td>\n",
       "      <td>12</td>\n",
       "      <td>61</td>\n",
       "    </tr>\n",
       "    <tr>\n",
       "      <th>3</th>\n",
       "      <td>0f87b4ef1699</td>\n",
       "      <td>39c16e</td>\n",
       "      <td>The three elements that makes a great tragedy,...</td>\n",
       "      <td>-0.431734</td>\n",
       "      <td>-0.956762</td>\n",
       "      <td>Summarize at least 3 elements of an ideal trag...</td>\n",
       "      <td>On Tragedy</td>\n",
       "      <td>Chapter 13 \\r\\nAs the sequel to ...</td>\n",
       "      <td>362</td>\n",
       "      <td>65</td>\n",
       "      <td>0</td>\n",
       "      <td>7</td>\n",
       "      <td>37</td>\n",
       "    </tr>\n",
       "    <tr>\n",
       "      <th>4</th>\n",
       "      <td>9b988975c8c6</td>\n",
       "      <td>814d6b</td>\n",
       "      <td>The third wave started growing in popularity a...</td>\n",
       "      <td>-0.766631</td>\n",
       "      <td>-1.093238</td>\n",
       "      <td>Summarize how the Third Wave developed over su...</td>\n",
       "      <td>The Third Wave</td>\n",
       "      <td>Background \\r\\nThe Third Wave ex...</td>\n",
       "      <td>197</td>\n",
       "      <td>32</td>\n",
       "      <td>0</td>\n",
       "      <td>2</td>\n",
       "      <td>13</td>\n",
       "    </tr>\n",
       "  </tbody>\n",
       "</table>\n",
       "</div>"
      ]
     },
     "execution_count": 90,
     "metadata": {},
     "output_type": "execute_result"
    }
   ],
   "execution_count": 90
  },
  {
   "metadata": {
    "ExecuteTime": {
     "end_time": "2024-10-24T01:22:35.174382Z",
     "start_time": "2024-10-24T01:22:34.919798Z"
    }
   },
   "cell_type": "code",
   "source": [
    "tokenizer = Tokenizer(num_words=10000)  # Limitar a las 10,000 palabras más comunes\n",
    "tokenizer.fit_on_texts(data['text'] + ' ' + data['prompt_text'])"
   ],
   "id": "92933c854c485bc4",
   "outputs": [],
   "execution_count": 91
  },
  {
   "metadata": {
    "ExecuteTime": {
     "end_time": "2024-10-24T01:22:35.377966Z",
     "start_time": "2024-10-24T01:22:35.201889Z"
    }
   },
   "cell_type": "code",
   "source": "sequences = tokenizer.texts_to_sequences(data['text'] + ' ' + data['prompt_text'])",
   "id": "d73b624270e1e5",
   "outputs": [],
   "execution_count": 92
  },
  {
   "metadata": {
    "ExecuteTime": {
     "end_time": "2024-10-24T01:22:35.407447Z",
     "start_time": "2024-10-24T01:22:35.380860Z"
    }
   },
   "cell_type": "code",
   "source": [
    "maxlen = 200  # Puedes ajustar este valor según la longitud promedio\n",
    "X = pad_sequences(sequences, maxlen=maxlen)"
   ],
   "id": "e4cbb7cf0f66eef1",
   "outputs": [],
   "execution_count": 93
  },
  {
   "metadata": {
    "ExecuteTime": {
     "end_time": "2024-10-24T01:22:35.424927Z",
     "start_time": "2024-10-24T01:22:35.421621Z"
    }
   },
   "cell_type": "code",
   "source": [
    "y_content = data['content'].values\n",
    "y_wording = data['wording'].values"
   ],
   "id": "68b936b668663865",
   "outputs": [],
   "execution_count": 94
  },
  {
   "metadata": {
    "ExecuteTime": {
     "end_time": "2024-10-24T01:22:35.449489Z",
     "start_time": "2024-10-24T01:22:35.441431Z"
    }
   },
   "cell_type": "code",
   "source": [
    "X_train, X_test, y_content_train, y_content_test = train_test_split(X, y_content, test_size=0.3)\n",
    "X_train, X_test, y_wording_train, y_wording_test = train_test_split(X, y_wording, test_size=0.3)"
   ],
   "id": "78a696ed886e97de",
   "outputs": [],
   "execution_count": 95
  },
  {
   "metadata": {},
   "cell_type": "markdown",
   "source": "## RNN",
   "id": "428a02fad50d9e68"
  },
  {
   "metadata": {
    "ExecuteTime": {
     "end_time": "2024-10-24T01:22:35.468357Z",
     "start_time": "2024-10-24T01:22:35.465689Z"
    }
   },
   "cell_type": "code",
   "source": [
    "from tensorflow.keras.models import Model\n",
    "from tensorflow.keras.layers import Input, Embedding, LSTM, Dense, Dropout\n"
   ],
   "id": "733c12f5c9ba4e24",
   "outputs": [],
   "execution_count": 96
  },
  {
   "metadata": {
    "ExecuteTime": {
     "end_time": "2024-10-24T01:22:35.536391Z",
     "start_time": "2024-10-24T01:22:35.483981Z"
    }
   },
   "cell_type": "code",
   "source": [
    "input_ = Input(shape=(maxlen,))\n",
    "\n",
    "x = Embedding(input_dim=10000, output_dim=128, input_length=maxlen)(input_)\n",
    "\n",
    "x = LSTM(128, return_sequences=True)(x)\n",
    "x = Dropout(0.5)(x)\n",
    "x = LSTM(64, return_sequences=True)(x)\n",
    "x = Dropout(0.5)(x)\n",
    "x = LSTM(64, return_sequences=False)(x)\n",
    "x = Dense(64, activation='relu')(x)\n",
    "x = Dropout(0.5)(x)\n",
    "x = Dense(32, activation='relu')(x)"
   ],
   "id": "481ee8e748cf23d4",
   "outputs": [
    {
     "name": "stderr",
     "output_type": "stream",
     "text": [
      "C:\\Users\\marka\\anaconda3\\envs\\DataMining11\\Lib\\site-packages\\keras\\src\\layers\\core\\embedding.py:90: UserWarning: Argument `input_length` is deprecated. Just remove it.\n",
      "  warnings.warn(\n"
     ]
    }
   ],
   "execution_count": 97
  },
  {
   "metadata": {
    "ExecuteTime": {
     "end_time": "2024-10-24T01:22:35.612660Z",
     "start_time": "2024-10-24T01:22:35.598204Z"
    }
   },
   "cell_type": "code",
   "source": [
    "# Predicción de content\n",
    "content_output = Dense(1, activation='linear', name='content')(x)\n",
    "\n",
    "# Predicción de wording\n",
    "wording_output = Dense(1, activation='linear', name='wording')(x)"
   ],
   "id": "6d59c81b315c82da",
   "outputs": [],
   "execution_count": 98
  },
  {
   "metadata": {
    "ExecuteTime": {
     "end_time": "2024-10-24T01:22:35.631765Z",
     "start_time": "2024-10-24T01:22:35.629396Z"
    }
   },
   "cell_type": "code",
   "source": [
    "optimizer = 'adam'\n",
    "loss = 'mean_squared_error'\n",
    "metrics = ['mse', 'mse']\n",
    "epochs = 15\n",
    "batch_size = 32"
   ],
   "id": "ae8ca111801ec0f0",
   "outputs": [],
   "execution_count": 99
  },
  {
   "metadata": {
    "ExecuteTime": {
     "end_time": "2024-10-24T01:22:35.654760Z",
     "start_time": "2024-10-24T01:22:35.648383Z"
    }
   },
   "cell_type": "code",
   "source": [
    "model = Model(inputs=input_, outputs=[content_output, wording_output])\n",
    "\n",
    "# Compilar el modelo\n",
    "model.compile(optimizer=optimizer, loss=loss, metrics=metrics)"
   ],
   "id": "316122613939525e",
   "outputs": [],
   "execution_count": 100
  },
  {
   "metadata": {
    "ExecuteTime": {
     "end_time": "2024-10-24T01:22:35.684126Z",
     "start_time": "2024-10-24T01:22:35.671460Z"
    }
   },
   "cell_type": "code",
   "source": "model.summary()",
   "id": "8d9f7efbfc6ae07",
   "outputs": [
    {
     "data": {
      "text/plain": [
       "\u001B[1mModel: \"functional_5\"\u001B[0m\n"
      ],
      "text/html": [
       "<pre style=\"white-space:pre;overflow-x:auto;line-height:normal;font-family:Menlo,'DejaVu Sans Mono',consolas,'Courier New',monospace\"><span style=\"font-weight: bold\">Model: \"functional_5\"</span>\n",
       "</pre>\n"
      ]
     },
     "metadata": {},
     "output_type": "display_data"
    },
    {
     "data": {
      "text/plain": [
       "┏━━━━━━━━━━━━━━━━━━━━━┳━━━━━━━━━━━━━━━━━━━┳━━━━━━━━━━━━┳━━━━━━━━━━━━━━━━━━━┓\n",
       "┃\u001B[1m \u001B[0m\u001B[1mLayer (type)       \u001B[0m\u001B[1m \u001B[0m┃\u001B[1m \u001B[0m\u001B[1mOutput Shape     \u001B[0m\u001B[1m \u001B[0m┃\u001B[1m \u001B[0m\u001B[1m   Param #\u001B[0m\u001B[1m \u001B[0m┃\u001B[1m \u001B[0m\u001B[1mConnected to     \u001B[0m\u001B[1m \u001B[0m┃\n",
       "┡━━━━━━━━━━━━━━━━━━━━━╇━━━━━━━━━━━━━━━━━━━╇━━━━━━━━━━━━╇━━━━━━━━━━━━━━━━━━━┩\n",
       "│ input_layer_6       │ (\u001B[38;5;45mNone\u001B[0m, \u001B[38;5;34m200\u001B[0m)       │          \u001B[38;5;34m0\u001B[0m │ -                 │\n",
       "│ (\u001B[38;5;33mInputLayer\u001B[0m)        │                   │            │                   │\n",
       "├─────────────────────┼───────────────────┼────────────┼───────────────────┤\n",
       "│ embedding_6         │ (\u001B[38;5;45mNone\u001B[0m, \u001B[38;5;34m200\u001B[0m, \u001B[38;5;34m128\u001B[0m)  │  \u001B[38;5;34m1,280,000\u001B[0m │ input_layer_6[\u001B[38;5;34m0\u001B[0m]… │\n",
       "│ (\u001B[38;5;33mEmbedding\u001B[0m)         │                   │            │                   │\n",
       "├─────────────────────┼───────────────────┼────────────┼───────────────────┤\n",
       "│ lstm_8 (\u001B[38;5;33mLSTM\u001B[0m)       │ (\u001B[38;5;45mNone\u001B[0m, \u001B[38;5;34m200\u001B[0m, \u001B[38;5;34m128\u001B[0m)  │    \u001B[38;5;34m131,584\u001B[0m │ embedding_6[\u001B[38;5;34m0\u001B[0m][\u001B[38;5;34m0\u001B[0m] │\n",
       "├─────────────────────┼───────────────────┼────────────┼───────────────────┤\n",
       "│ dropout_4 (\u001B[38;5;33mDropout\u001B[0m) │ (\u001B[38;5;45mNone\u001B[0m, \u001B[38;5;34m200\u001B[0m, \u001B[38;5;34m128\u001B[0m)  │          \u001B[38;5;34m0\u001B[0m │ lstm_8[\u001B[38;5;34m0\u001B[0m][\u001B[38;5;34m0\u001B[0m]      │\n",
       "├─────────────────────┼───────────────────┼────────────┼───────────────────┤\n",
       "│ lstm_9 (\u001B[38;5;33mLSTM\u001B[0m)       │ (\u001B[38;5;45mNone\u001B[0m, \u001B[38;5;34m200\u001B[0m, \u001B[38;5;34m64\u001B[0m)   │     \u001B[38;5;34m49,408\u001B[0m │ dropout_4[\u001B[38;5;34m0\u001B[0m][\u001B[38;5;34m0\u001B[0m]   │\n",
       "├─────────────────────┼───────────────────┼────────────┼───────────────────┤\n",
       "│ dropout_5 (\u001B[38;5;33mDropout\u001B[0m) │ (\u001B[38;5;45mNone\u001B[0m, \u001B[38;5;34m200\u001B[0m, \u001B[38;5;34m64\u001B[0m)   │          \u001B[38;5;34m0\u001B[0m │ lstm_9[\u001B[38;5;34m0\u001B[0m][\u001B[38;5;34m0\u001B[0m]      │\n",
       "├─────────────────────┼───────────────────┼────────────┼───────────────────┤\n",
       "│ lstm_10 (\u001B[38;5;33mLSTM\u001B[0m)      │ (\u001B[38;5;45mNone\u001B[0m, \u001B[38;5;34m64\u001B[0m)        │     \u001B[38;5;34m33,024\u001B[0m │ dropout_5[\u001B[38;5;34m0\u001B[0m][\u001B[38;5;34m0\u001B[0m]   │\n",
       "├─────────────────────┼───────────────────┼────────────┼───────────────────┤\n",
       "│ dense_4 (\u001B[38;5;33mDense\u001B[0m)     │ (\u001B[38;5;45mNone\u001B[0m, \u001B[38;5;34m64\u001B[0m)        │      \u001B[38;5;34m4,160\u001B[0m │ lstm_10[\u001B[38;5;34m0\u001B[0m][\u001B[38;5;34m0\u001B[0m]     │\n",
       "├─────────────────────┼───────────────────┼────────────┼───────────────────┤\n",
       "│ dropout_6 (\u001B[38;5;33mDropout\u001B[0m) │ (\u001B[38;5;45mNone\u001B[0m, \u001B[38;5;34m64\u001B[0m)        │          \u001B[38;5;34m0\u001B[0m │ dense_4[\u001B[38;5;34m0\u001B[0m][\u001B[38;5;34m0\u001B[0m]     │\n",
       "├─────────────────────┼───────────────────┼────────────┼───────────────────┤\n",
       "│ dense_5 (\u001B[38;5;33mDense\u001B[0m)     │ (\u001B[38;5;45mNone\u001B[0m, \u001B[38;5;34m32\u001B[0m)        │      \u001B[38;5;34m2,080\u001B[0m │ dropout_6[\u001B[38;5;34m0\u001B[0m][\u001B[38;5;34m0\u001B[0m]   │\n",
       "├─────────────────────┼───────────────────┼────────────┼───────────────────┤\n",
       "│ content (\u001B[38;5;33mDense\u001B[0m)     │ (\u001B[38;5;45mNone\u001B[0m, \u001B[38;5;34m1\u001B[0m)         │         \u001B[38;5;34m33\u001B[0m │ dense_5[\u001B[38;5;34m0\u001B[0m][\u001B[38;5;34m0\u001B[0m]     │\n",
       "├─────────────────────┼───────────────────┼────────────┼───────────────────┤\n",
       "│ wording (\u001B[38;5;33mDense\u001B[0m)     │ (\u001B[38;5;45mNone\u001B[0m, \u001B[38;5;34m1\u001B[0m)         │         \u001B[38;5;34m33\u001B[0m │ dense_5[\u001B[38;5;34m0\u001B[0m][\u001B[38;5;34m0\u001B[0m]     │\n",
       "└─────────────────────┴───────────────────┴────────────┴───────────────────┘\n"
      ],
      "text/html": [
       "<pre style=\"white-space:pre;overflow-x:auto;line-height:normal;font-family:Menlo,'DejaVu Sans Mono',consolas,'Courier New',monospace\">┏━━━━━━━━━━━━━━━━━━━━━┳━━━━━━━━━━━━━━━━━━━┳━━━━━━━━━━━━┳━━━━━━━━━━━━━━━━━━━┓\n",
       "┃<span style=\"font-weight: bold\"> Layer (type)        </span>┃<span style=\"font-weight: bold\"> Output Shape      </span>┃<span style=\"font-weight: bold\">    Param # </span>┃<span style=\"font-weight: bold\"> Connected to      </span>┃\n",
       "┡━━━━━━━━━━━━━━━━━━━━━╇━━━━━━━━━━━━━━━━━━━╇━━━━━━━━━━━━╇━━━━━━━━━━━━━━━━━━━┩\n",
       "│ input_layer_6       │ (<span style=\"color: #00d7ff; text-decoration-color: #00d7ff\">None</span>, <span style=\"color: #00af00; text-decoration-color: #00af00\">200</span>)       │          <span style=\"color: #00af00; text-decoration-color: #00af00\">0</span> │ -                 │\n",
       "│ (<span style=\"color: #0087ff; text-decoration-color: #0087ff\">InputLayer</span>)        │                   │            │                   │\n",
       "├─────────────────────┼───────────────────┼────────────┼───────────────────┤\n",
       "│ embedding_6         │ (<span style=\"color: #00d7ff; text-decoration-color: #00d7ff\">None</span>, <span style=\"color: #00af00; text-decoration-color: #00af00\">200</span>, <span style=\"color: #00af00; text-decoration-color: #00af00\">128</span>)  │  <span style=\"color: #00af00; text-decoration-color: #00af00\">1,280,000</span> │ input_layer_6[<span style=\"color: #00af00; text-decoration-color: #00af00\">0</span>]… │\n",
       "│ (<span style=\"color: #0087ff; text-decoration-color: #0087ff\">Embedding</span>)         │                   │            │                   │\n",
       "├─────────────────────┼───────────────────┼────────────┼───────────────────┤\n",
       "│ lstm_8 (<span style=\"color: #0087ff; text-decoration-color: #0087ff\">LSTM</span>)       │ (<span style=\"color: #00d7ff; text-decoration-color: #00d7ff\">None</span>, <span style=\"color: #00af00; text-decoration-color: #00af00\">200</span>, <span style=\"color: #00af00; text-decoration-color: #00af00\">128</span>)  │    <span style=\"color: #00af00; text-decoration-color: #00af00\">131,584</span> │ embedding_6[<span style=\"color: #00af00; text-decoration-color: #00af00\">0</span>][<span style=\"color: #00af00; text-decoration-color: #00af00\">0</span>] │\n",
       "├─────────────────────┼───────────────────┼────────────┼───────────────────┤\n",
       "│ dropout_4 (<span style=\"color: #0087ff; text-decoration-color: #0087ff\">Dropout</span>) │ (<span style=\"color: #00d7ff; text-decoration-color: #00d7ff\">None</span>, <span style=\"color: #00af00; text-decoration-color: #00af00\">200</span>, <span style=\"color: #00af00; text-decoration-color: #00af00\">128</span>)  │          <span style=\"color: #00af00; text-decoration-color: #00af00\">0</span> │ lstm_8[<span style=\"color: #00af00; text-decoration-color: #00af00\">0</span>][<span style=\"color: #00af00; text-decoration-color: #00af00\">0</span>]      │\n",
       "├─────────────────────┼───────────────────┼────────────┼───────────────────┤\n",
       "│ lstm_9 (<span style=\"color: #0087ff; text-decoration-color: #0087ff\">LSTM</span>)       │ (<span style=\"color: #00d7ff; text-decoration-color: #00d7ff\">None</span>, <span style=\"color: #00af00; text-decoration-color: #00af00\">200</span>, <span style=\"color: #00af00; text-decoration-color: #00af00\">64</span>)   │     <span style=\"color: #00af00; text-decoration-color: #00af00\">49,408</span> │ dropout_4[<span style=\"color: #00af00; text-decoration-color: #00af00\">0</span>][<span style=\"color: #00af00; text-decoration-color: #00af00\">0</span>]   │\n",
       "├─────────────────────┼───────────────────┼────────────┼───────────────────┤\n",
       "│ dropout_5 (<span style=\"color: #0087ff; text-decoration-color: #0087ff\">Dropout</span>) │ (<span style=\"color: #00d7ff; text-decoration-color: #00d7ff\">None</span>, <span style=\"color: #00af00; text-decoration-color: #00af00\">200</span>, <span style=\"color: #00af00; text-decoration-color: #00af00\">64</span>)   │          <span style=\"color: #00af00; text-decoration-color: #00af00\">0</span> │ lstm_9[<span style=\"color: #00af00; text-decoration-color: #00af00\">0</span>][<span style=\"color: #00af00; text-decoration-color: #00af00\">0</span>]      │\n",
       "├─────────────────────┼───────────────────┼────────────┼───────────────────┤\n",
       "│ lstm_10 (<span style=\"color: #0087ff; text-decoration-color: #0087ff\">LSTM</span>)      │ (<span style=\"color: #00d7ff; text-decoration-color: #00d7ff\">None</span>, <span style=\"color: #00af00; text-decoration-color: #00af00\">64</span>)        │     <span style=\"color: #00af00; text-decoration-color: #00af00\">33,024</span> │ dropout_5[<span style=\"color: #00af00; text-decoration-color: #00af00\">0</span>][<span style=\"color: #00af00; text-decoration-color: #00af00\">0</span>]   │\n",
       "├─────────────────────┼───────────────────┼────────────┼───────────────────┤\n",
       "│ dense_4 (<span style=\"color: #0087ff; text-decoration-color: #0087ff\">Dense</span>)     │ (<span style=\"color: #00d7ff; text-decoration-color: #00d7ff\">None</span>, <span style=\"color: #00af00; text-decoration-color: #00af00\">64</span>)        │      <span style=\"color: #00af00; text-decoration-color: #00af00\">4,160</span> │ lstm_10[<span style=\"color: #00af00; text-decoration-color: #00af00\">0</span>][<span style=\"color: #00af00; text-decoration-color: #00af00\">0</span>]     │\n",
       "├─────────────────────┼───────────────────┼────────────┼───────────────────┤\n",
       "│ dropout_6 (<span style=\"color: #0087ff; text-decoration-color: #0087ff\">Dropout</span>) │ (<span style=\"color: #00d7ff; text-decoration-color: #00d7ff\">None</span>, <span style=\"color: #00af00; text-decoration-color: #00af00\">64</span>)        │          <span style=\"color: #00af00; text-decoration-color: #00af00\">0</span> │ dense_4[<span style=\"color: #00af00; text-decoration-color: #00af00\">0</span>][<span style=\"color: #00af00; text-decoration-color: #00af00\">0</span>]     │\n",
       "├─────────────────────┼───────────────────┼────────────┼───────────────────┤\n",
       "│ dense_5 (<span style=\"color: #0087ff; text-decoration-color: #0087ff\">Dense</span>)     │ (<span style=\"color: #00d7ff; text-decoration-color: #00d7ff\">None</span>, <span style=\"color: #00af00; text-decoration-color: #00af00\">32</span>)        │      <span style=\"color: #00af00; text-decoration-color: #00af00\">2,080</span> │ dropout_6[<span style=\"color: #00af00; text-decoration-color: #00af00\">0</span>][<span style=\"color: #00af00; text-decoration-color: #00af00\">0</span>]   │\n",
       "├─────────────────────┼───────────────────┼────────────┼───────────────────┤\n",
       "│ content (<span style=\"color: #0087ff; text-decoration-color: #0087ff\">Dense</span>)     │ (<span style=\"color: #00d7ff; text-decoration-color: #00d7ff\">None</span>, <span style=\"color: #00af00; text-decoration-color: #00af00\">1</span>)         │         <span style=\"color: #00af00; text-decoration-color: #00af00\">33</span> │ dense_5[<span style=\"color: #00af00; text-decoration-color: #00af00\">0</span>][<span style=\"color: #00af00; text-decoration-color: #00af00\">0</span>]     │\n",
       "├─────────────────────┼───────────────────┼────────────┼───────────────────┤\n",
       "│ wording (<span style=\"color: #0087ff; text-decoration-color: #0087ff\">Dense</span>)     │ (<span style=\"color: #00d7ff; text-decoration-color: #00d7ff\">None</span>, <span style=\"color: #00af00; text-decoration-color: #00af00\">1</span>)         │         <span style=\"color: #00af00; text-decoration-color: #00af00\">33</span> │ dense_5[<span style=\"color: #00af00; text-decoration-color: #00af00\">0</span>][<span style=\"color: #00af00; text-decoration-color: #00af00\">0</span>]     │\n",
       "└─────────────────────┴───────────────────┴────────────┴───────────────────┘\n",
       "</pre>\n"
      ]
     },
     "metadata": {},
     "output_type": "display_data"
    },
    {
     "data": {
      "text/plain": [
       "\u001B[1m Total params: \u001B[0m\u001B[38;5;34m1,500,322\u001B[0m (5.72 MB)\n"
      ],
      "text/html": [
       "<pre style=\"white-space:pre;overflow-x:auto;line-height:normal;font-family:Menlo,'DejaVu Sans Mono',consolas,'Courier New',monospace\"><span style=\"font-weight: bold\"> Total params: </span><span style=\"color: #00af00; text-decoration-color: #00af00\">1,500,322</span> (5.72 MB)\n",
       "</pre>\n"
      ]
     },
     "metadata": {},
     "output_type": "display_data"
    },
    {
     "data": {
      "text/plain": [
       "\u001B[1m Trainable params: \u001B[0m\u001B[38;5;34m1,500,322\u001B[0m (5.72 MB)\n"
      ],
      "text/html": [
       "<pre style=\"white-space:pre;overflow-x:auto;line-height:normal;font-family:Menlo,'DejaVu Sans Mono',consolas,'Courier New',monospace\"><span style=\"font-weight: bold\"> Trainable params: </span><span style=\"color: #00af00; text-decoration-color: #00af00\">1,500,322</span> (5.72 MB)\n",
       "</pre>\n"
      ]
     },
     "metadata": {},
     "output_type": "display_data"
    },
    {
     "data": {
      "text/plain": [
       "\u001B[1m Non-trainable params: \u001B[0m\u001B[38;5;34m0\u001B[0m (0.00 B)\n"
      ],
      "text/html": [
       "<pre style=\"white-space:pre;overflow-x:auto;line-height:normal;font-family:Menlo,'DejaVu Sans Mono',consolas,'Courier New',monospace\"><span style=\"font-weight: bold\"> Non-trainable params: </span><span style=\"color: #00af00; text-decoration-color: #00af00\">0</span> (0.00 B)\n",
       "</pre>\n"
      ]
     },
     "metadata": {},
     "output_type": "display_data"
    }
   ],
   "execution_count": 101
  },
  {
   "metadata": {
    "ExecuteTime": {
     "end_time": "2024-10-24T01:27:07.701300Z",
     "start_time": "2024-10-24T01:22:35.719618Z"
    }
   },
   "cell_type": "code",
   "source": [
    "history = model.fit(\n",
    "    X_train, \n",
    "    [y_content_train, y_wording_train], \n",
    "    validation_data=(X_test, [y_content_test, y_wording_test]), \n",
    "    epochs=epochs,\n",
    "    batch_size=batch_size,\n",
    "    verbose=2\n",
    ")"
   ],
   "id": "f9a5dc831d140084",
   "outputs": [
    {
     "name": "stdout",
     "output_type": "stream",
     "text": [
      "Epoch 1/15\n",
      "157/157 - 21s - 135ms/step - content_mse: 1.0993 - loss: 1.8358 - wording_mse: 0.7364 - val_content_mse: 1.1039 - val_loss: 1.5828 - val_wording_mse: 0.4789\n",
      "Epoch 2/15\n",
      "157/157 - 18s - 114ms/step - content_mse: 1.0919 - loss: 1.5790 - wording_mse: 0.4871 - val_content_mse: 1.1104 - val_loss: 1.5678 - val_wording_mse: 0.4574\n",
      "Epoch 3/15\n",
      "157/157 - 18s - 114ms/step - content_mse: 1.0940 - loss: 1.4804 - wording_mse: 0.3864 - val_content_mse: 1.1063 - val_loss: 1.5270 - val_wording_mse: 0.4207\n",
      "Epoch 4/15\n",
      "157/157 - 18s - 114ms/step - content_mse: 1.0895 - loss: 1.3972 - wording_mse: 0.3077 - val_content_mse: 1.1038 - val_loss: 1.5458 - val_wording_mse: 0.4420\n",
      "Epoch 5/15\n",
      "157/157 - 18s - 115ms/step - content_mse: 1.0817 - loss: 1.3376 - wording_mse: 0.2559 - val_content_mse: 1.1050 - val_loss: 1.5919 - val_wording_mse: 0.4869\n",
      "Epoch 6/15\n",
      "157/157 - 18s - 115ms/step - content_mse: 1.0824 - loss: 1.3067 - wording_mse: 0.2243 - val_content_mse: 1.1063 - val_loss: 1.6087 - val_wording_mse: 0.5024\n",
      "Epoch 7/15\n",
      "157/157 - 18s - 113ms/step - content_mse: 1.0614 - loss: 1.2772 - wording_mse: 0.2158 - val_content_mse: 1.1297 - val_loss: 1.6332 - val_wording_mse: 0.5034\n",
      "Epoch 8/15\n",
      "157/157 - 17s - 111ms/step - content_mse: 1.0260 - loss: 1.2479 - wording_mse: 0.2218 - val_content_mse: 1.1296 - val_loss: 1.6098 - val_wording_mse: 0.4802\n",
      "Epoch 9/15\n",
      "157/157 - 18s - 112ms/step - content_mse: 0.9515 - loss: 1.1630 - wording_mse: 0.2115 - val_content_mse: 1.1444 - val_loss: 1.6349 - val_wording_mse: 0.4904\n",
      "Epoch 10/15\n",
      "157/157 - 18s - 112ms/step - content_mse: 0.8770 - loss: 1.0668 - wording_mse: 0.1897 - val_content_mse: 1.2426 - val_loss: 1.7464 - val_wording_mse: 0.5038\n",
      "Epoch 11/15\n",
      "157/157 - 18s - 112ms/step - content_mse: 0.7841 - loss: 0.9717 - wording_mse: 0.1875 - val_content_mse: 1.3291 - val_loss: 1.9252 - val_wording_mse: 0.5962\n",
      "Epoch 12/15\n",
      "157/157 - 17s - 111ms/step - content_mse: 0.7245 - loss: 0.9062 - wording_mse: 0.1817 - val_content_mse: 1.3195 - val_loss: 1.8095 - val_wording_mse: 0.4900\n",
      "Epoch 13/15\n",
      "157/157 - 18s - 112ms/step - content_mse: 0.6540 - loss: 0.8295 - wording_mse: 0.1756 - val_content_mse: 1.3032 - val_loss: 1.8022 - val_wording_mse: 0.4990\n",
      "Epoch 14/15\n",
      "157/157 - 18s - 117ms/step - content_mse: 0.5966 - loss: 0.7495 - wording_mse: 0.1530 - val_content_mse: 1.5101 - val_loss: 2.0252 - val_wording_mse: 0.5150\n",
      "Epoch 15/15\n",
      "157/157 - 20s - 127ms/step - content_mse: 0.5592 - loss: 0.7315 - wording_mse: 0.1723 - val_content_mse: 1.3811 - val_loss: 1.8868 - val_wording_mse: 0.5058\n"
     ]
    }
   ],
   "execution_count": 102
  },
  {
   "metadata": {
    "ExecuteTime": {
     "end_time": "2024-10-24T01:27:10.632767Z",
     "start_time": "2024-10-24T01:27:07.711201Z"
    }
   },
   "cell_type": "code",
   "source": [
    "from sklearn.metrics import mean_absolute_error, mean_squared_error, r2_score\n",
    "\n",
    "y_content_pred, y_wording_pred = model.predict(X_test)\n",
    "\n",
    "print('MAE content:', mean_absolute_error(y_content_test, y_content_pred))\n",
    "print('MSE content:', mean_squared_error(y_content_test, y_content_pred))\n",
    "print('R2 content:', r2_score(y_content_test, y_content_pred))\n",
    "\n",
    "print('\\nMAE wording:', mean_absolute_error(y_wording_test, y_wording_pred))\n",
    "print('MSE wording:', mean_squared_error(y_wording_test, y_wording_pred))\n",
    "print('R2 wording:', r2_score(y_wording_test, y_wording_pred))"
   ],
   "id": "2510069cf3548ff5",
   "outputs": [
    {
     "name": "stdout",
     "output_type": "stream",
     "text": [
      "\u001B[1m68/68\u001B[0m \u001B[32m━━━━━━━━━━━━━━━━━━━━\u001B[0m\u001B[37m\u001B[0m \u001B[1m3s\u001B[0m 39ms/step\n",
      "MAE content: 0.9128906197917981\n",
      "MSE content: 1.3810628170192978\n",
      "R2 content: -0.25442719168955863\n",
      "\n",
      "MAE wording: 0.5646793733701783\n",
      "MSE wording: 0.5057557478962018\n",
      "R2 wording: 0.5179230421421899\n"
     ]
    }
   ],
   "execution_count": 103
  },
  {
   "metadata": {
    "ExecuteTime": {
     "end_time": "2024-10-24T01:27:10.654565Z",
     "start_time": "2024-10-24T01:27:10.649300Z"
    }
   },
   "cell_type": "code",
   "source": "import matplotlib.pyplot as plt",
   "id": "a2aff7fe0661b72d",
   "outputs": [],
   "execution_count": 104
  },
  {
   "metadata": {
    "ExecuteTime": {
     "end_time": "2024-10-24T01:27:10.764405Z",
     "start_time": "2024-10-24T01:27:10.673643Z"
    }
   },
   "cell_type": "code",
   "source": [
    "plt.plot(history.history['loss'])\n",
    "plt.plot(history.history['val_loss'])\n",
    "plt.title('Loss')\n",
    "plt.show()"
   ],
   "id": "8d4dc17c3413a10e",
   "outputs": [
    {
     "data": {
      "text/plain": [
       "<Figure size 640x480 with 1 Axes>"
      ],
      "image/png": "[encoded data removed]"
     },
     "metadata": {},
     "output_type": "display_data"
    }
   ],
   "execution_count": 105
  },
  {
   "metadata": {
    "ExecuteTime": {
     "end_time": "2024-10-24T01:27:10.855996Z",
     "start_time": "2024-10-24T01:27:10.783219Z"
    }
   },
   "cell_type": "code",
   "source": [
    "plt.plot(history.history['content_mse'])\n",
    "plt.plot(history.history['val_content_mse'])\n",
    "plt.title('MSE')\n",
    "plt.show()"
   ],
   "id": "68530c73651230bb",
   "outputs": [
    {
     "data": {
      "text/plain": [
       "<Figure size 640x480 with 1 Axes>"
      ],
      "image/png": "[encoded data removed]"
     },
     "metadata": {},
     "output_type": "display_data"
    }
   ],
   "execution_count": 106
  },
  {
   "metadata": {
    "ExecuteTime": {
     "end_time": "2024-10-24T01:27:10.947526Z",
     "start_time": "2024-10-24T01:27:10.874139Z"
    }
   },
   "cell_type": "code",
   "source": [
    "plt.plot(history.history['wording_mse'])\n",
    "plt.plot(history.history['val_wording_mse'])\n",
    "plt.title('MSE')\n",
    "plt.show()"
   ],
   "id": "b63a5b888f5aa96a",
   "outputs": [
    {
     "data": {
      "text/plain": [
       "<Figure size 640x480 with 1 Axes>"
      ],
      "image/png": "[encoded data removed]"
     },
     "metadata": {},
     "output_type": "display_data"
    }
   ],
   "execution_count": 107
  },
  {
   "metadata": {
    "ExecuteTime": {
     "end_time": "2024-10-24T01:27:10.967884Z",
     "start_time": "2024-10-24T01:27:10.965879Z"
    }
   },
   "cell_type": "code",
   "source": "",
   "id": "c86d65717e93c8d0",
   "outputs": [],
   "execution_count": null
  }
 ],
 "metadata": {
  "kernelspec": {
   "display_name": "Python 3",
   "language": "python",
   "name": "python3"
  },
  "language_info": {
   "codemirror_mode": {
    "name": "ipython",
    "version": 2
   },
   "file_extension": ".py",
   "mimetype": "text/x-python",
   "name": "python",
   "nbconvert_exporter": "python",
   "pygments_lexer": "ipython2",
   "version": "2.7.6"
  }
 },
 "nbformat": 4,
 "nbformat_minor": 5
}
