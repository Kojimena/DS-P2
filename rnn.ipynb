{
 "cells": [
  {
   "cell_type": "code",
   "id": "initial_id",
   "metadata": {
    "collapsed": true,
    "ExecuteTime": {
     "end_time": "2024-10-24T02:07:59.151047Z",
     "start_time": "2024-10-24T02:07:59.146858Z"
    }
   },
   "source": [
    "import numpy as np\n",
    "import pandas as pd\n",
    "\n",
    "from sklearn.model_selection import train_test_split"
   ],
   "outputs": [],
   "execution_count": 192
  },
  {
   "metadata": {
    "ExecuteTime": {
     "end_time": "2024-10-24T02:07:59.157006Z",
     "start_time": "2024-10-24T02:07:59.151047Z"
    }
   },
   "cell_type": "code",
   "source": [
    "from tensorflow.keras.preprocessing.text import Tokenizer\n",
    "from tensorflow.keras.preprocessing.sequence import pad_sequences"
   ],
   "id": "f39e8e46aabfd718",
   "outputs": [],
   "execution_count": 193
  },
  {
   "metadata": {
    "ExecuteTime": {
     "end_time": "2024-10-24T02:07:59.227852Z",
     "start_time": "2024-10-24T02:07:59.178371Z"
    }
   },
   "cell_type": "code",
   "source": [
    "data = pd.read_csv('data/Finaltrain.csv')\n",
    "data.head()"
   ],
   "id": "661eba0922649bb9",
   "outputs": [
    {
     "data": {
      "text/plain": [
       "     student_id prompt_id                                               text  \\\n",
       "0  000e8c3c7ddb    814d6b  The third wave was an experimentto see how peo...   \n",
       "1  0070c9e7af47    814d6b  The Third Wave developed  rapidly because the ...   \n",
       "2  0095993991fe    814d6b  The third wave only started as an experiment w...   \n",
       "3  00c20c6ddd23    814d6b  The experimen was orginally about how even whe...   \n",
       "4  00d40ad10dc9    814d6b  The third wave developed so quickly due to the...   \n",
       "\n",
       "    content   wording                                    prompt_question  \\\n",
       "0  0.205683  0.380538  Summarize how the Third Wave developed over su...   \n",
       "1  3.272894  3.219757  Summarize how the Third Wave developed over su...   \n",
       "2  0.205683  0.380538  Summarize how the Third Wave developed over su...   \n",
       "3  0.567975  0.969062  Summarize how the Third Wave developed over su...   \n",
       "4 -0.910596 -0.081769  Summarize how the Third Wave developed over su...   \n",
       "\n",
       "     prompt_title                          prompt_text  text_length  \\\n",
       "0  The Third Wave  Background \\r\\nThe Third Wave ex...          346   \n",
       "1  The Third Wave  Background \\r\\nThe Third Wave ex...         1225   \n",
       "2  The Third Wave  Background \\r\\nThe Third Wave ex...          345   \n",
       "3  The Third Wave  Background \\r\\nThe Third Wave ex...          451   \n",
       "4  The Third Wave  Background \\r\\nThe Third Wave ex...          145   \n",
       "\n",
       "   word_count  number_count  punctuation_count  stopword_count  \n",
       "0          61             0                  3              21  \n",
       "1         203             3                 29              79  \n",
       "2          60             0                  9              24  \n",
       "3          76             0                 10              33  \n",
       "4          27             0                  2              10  "
      ],
      "text/html": [
       "<div>\n",
       "<style scoped>\n",
       "    .dataframe tbody tr th:only-of-type {\n",
       "        vertical-align: middle;\n",
       "    }\n",
       "\n",
       "    .dataframe tbody tr th {\n",
       "        vertical-align: top;\n",
       "    }\n",
       "\n",
       "    .dataframe thead th {\n",
       "        text-align: right;\n",
       "    }\n",
       "</style>\n",
       "<table border=\"1\" class=\"dataframe\">\n",
       "  <thead>\n",
       "    <tr style=\"text-align: right;\">\n",
       "      <th></th>\n",
       "      <th>student_id</th>\n",
       "      <th>prompt_id</th>\n",
       "      <th>text</th>\n",
       "      <th>content</th>\n",
       "      <th>wording</th>\n",
       "      <th>prompt_question</th>\n",
       "      <th>prompt_title</th>\n",
       "      <th>prompt_text</th>\n",
       "      <th>text_length</th>\n",
       "      <th>word_count</th>\n",
       "      <th>number_count</th>\n",
       "      <th>punctuation_count</th>\n",
       "      <th>stopword_count</th>\n",
       "    </tr>\n",
       "  </thead>\n",
       "  <tbody>\n",
       "    <tr>\n",
       "      <th>0</th>\n",
       "      <td>000e8c3c7ddb</td>\n",
       "      <td>814d6b</td>\n",
       "      <td>The third wave was an experimentto see how peo...</td>\n",
       "      <td>0.205683</td>\n",
       "      <td>0.380538</td>\n",
       "      <td>Summarize how the Third Wave developed over su...</td>\n",
       "      <td>The Third Wave</td>\n",
       "      <td>Background \\r\\nThe Third Wave ex...</td>\n",
       "      <td>346</td>\n",
       "      <td>61</td>\n",
       "      <td>0</td>\n",
       "      <td>3</td>\n",
       "      <td>21</td>\n",
       "    </tr>\n",
       "    <tr>\n",
       "      <th>1</th>\n",
       "      <td>0070c9e7af47</td>\n",
       "      <td>814d6b</td>\n",
       "      <td>The Third Wave developed  rapidly because the ...</td>\n",
       "      <td>3.272894</td>\n",
       "      <td>3.219757</td>\n",
       "      <td>Summarize how the Third Wave developed over su...</td>\n",
       "      <td>The Third Wave</td>\n",
       "      <td>Background \\r\\nThe Third Wave ex...</td>\n",
       "      <td>1225</td>\n",
       "      <td>203</td>\n",
       "      <td>3</td>\n",
       "      <td>29</td>\n",
       "      <td>79</td>\n",
       "    </tr>\n",
       "    <tr>\n",
       "      <th>2</th>\n",
       "      <td>0095993991fe</td>\n",
       "      <td>814d6b</td>\n",
       "      <td>The third wave only started as an experiment w...</td>\n",
       "      <td>0.205683</td>\n",
       "      <td>0.380538</td>\n",
       "      <td>Summarize how the Third Wave developed over su...</td>\n",
       "      <td>The Third Wave</td>\n",
       "      <td>Background \\r\\nThe Third Wave ex...</td>\n",
       "      <td>345</td>\n",
       "      <td>60</td>\n",
       "      <td>0</td>\n",
       "      <td>9</td>\n",
       "      <td>24</td>\n",
       "    </tr>\n",
       "    <tr>\n",
       "      <th>3</th>\n",
       "      <td>00c20c6ddd23</td>\n",
       "      <td>814d6b</td>\n",
       "      <td>The experimen was orginally about how even whe...</td>\n",
       "      <td>0.567975</td>\n",
       "      <td>0.969062</td>\n",
       "      <td>Summarize how the Third Wave developed over su...</td>\n",
       "      <td>The Third Wave</td>\n",
       "      <td>Background \\r\\nThe Third Wave ex...</td>\n",
       "      <td>451</td>\n",
       "      <td>76</td>\n",
       "      <td>0</td>\n",
       "      <td>10</td>\n",
       "      <td>33</td>\n",
       "    </tr>\n",
       "    <tr>\n",
       "      <th>4</th>\n",
       "      <td>00d40ad10dc9</td>\n",
       "      <td>814d6b</td>\n",
       "      <td>The third wave developed so quickly due to the...</td>\n",
       "      <td>-0.910596</td>\n",
       "      <td>-0.081769</td>\n",
       "      <td>Summarize how the Third Wave developed over su...</td>\n",
       "      <td>The Third Wave</td>\n",
       "      <td>Background \\r\\nThe Third Wave ex...</td>\n",
       "      <td>145</td>\n",
       "      <td>27</td>\n",
       "      <td>0</td>\n",
       "      <td>2</td>\n",
       "      <td>10</td>\n",
       "    </tr>\n",
       "  </tbody>\n",
       "</table>\n",
       "</div>"
      ]
     },
     "execution_count": 194,
     "metadata": {},
     "output_type": "execute_result"
    }
   ],
   "execution_count": 194
  },
  {
   "metadata": {
    "ExecuteTime": {
     "end_time": "2024-10-24T02:07:59.281407Z",
     "start_time": "2024-10-24T02:07:59.272880Z"
    }
   },
   "cell_type": "code",
   "source": [
    "# randomize data\n",
    "data = data.sample(frac=1).reset_index(drop=True) # Mezclar los datos\n",
    "\n",
    "data.head()"
   ],
   "id": "b04d5a0f2c2bb168",
   "outputs": [
    {
     "data": {
      "text/plain": [
       "     student_id prompt_id                                               text  \\\n",
       "0  448e68637138    ebad26  Some of the ways the factory would cover up sp...   \n",
       "1  3cd258671166    3b9047  It was hard for the people  to pay taxes becua...   \n",
       "2  7f09d9ceac6c    39c16e  One element of a tragedy is a complex plot. It...   \n",
       "3  3ba16640478a    39c16e      One of the first notions of tragedy Aristo...   \n",
       "4  f06668e3066c    ebad26  The meat for canning and sausage was piled on ...   \n",
       "\n",
       "    content   wording                                    prompt_question  \\\n",
       "0  1.530847  0.071051  Summarize the various ways the factory would u...   \n",
       "1 -1.427883 -0.790667  In complete sentences, summarize the structure...   \n",
       "2 -0.921625 -1.213611  Summarize at least 3 elements of an ideal trag...   \n",
       "3  0.205683  0.380538  Summarize at least 3 elements of an ideal trag...   \n",
       "4 -0.140912 -0.245279  Summarize the various ways the factory would u...   \n",
       "\n",
       "                prompt_title                          prompt_text  \\\n",
       "0    Excerpt from The Jungle    With one member trimming beef ...   \n",
       "1  Egyptian Social Structure    Egyptian society was structure...   \n",
       "2                 On Tragedy  Chapter 13 \\r\\nAs the sequel to ...   \n",
       "3                 On Tragedy  Chapter 13 \\r\\nAs the sequel to ...   \n",
       "4    Excerpt from The Jungle    With one member trimming beef ...   \n",
       "\n",
       "   text_length  word_count  number_count  punctuation_count  stopword_count  \n",
       "0         1084         208             0                 35             100  \n",
       "1          153          31             0                  2              15  \n",
       "2          155          28             0                  3              13  \n",
       "3          367          66             0                  4              32  \n",
       "4          314          53             0                  9              17  "
      ],
      "text/html": [
       "<div>\n",
       "<style scoped>\n",
       "    .dataframe tbody tr th:only-of-type {\n",
       "        vertical-align: middle;\n",
       "    }\n",
       "\n",
       "    .dataframe tbody tr th {\n",
       "        vertical-align: top;\n",
       "    }\n",
       "\n",
       "    .dataframe thead th {\n",
       "        text-align: right;\n",
       "    }\n",
       "</style>\n",
       "<table border=\"1\" class=\"dataframe\">\n",
       "  <thead>\n",
       "    <tr style=\"text-align: right;\">\n",
       "      <th></th>\n",
       "      <th>student_id</th>\n",
       "      <th>prompt_id</th>\n",
       "      <th>text</th>\n",
       "      <th>content</th>\n",
       "      <th>wording</th>\n",
       "      <th>prompt_question</th>\n",
       "      <th>prompt_title</th>\n",
       "      <th>prompt_text</th>\n",
       "      <th>text_length</th>\n",
       "      <th>word_count</th>\n",
       "      <th>number_count</th>\n",
       "      <th>punctuation_count</th>\n",
       "      <th>stopword_count</th>\n",
       "    </tr>\n",
       "  </thead>\n",
       "  <tbody>\n",
       "    <tr>\n",
       "      <th>0</th>\n",
       "      <td>448e68637138</td>\n",
       "      <td>ebad26</td>\n",
       "      <td>Some of the ways the factory would cover up sp...</td>\n",
       "      <td>1.530847</td>\n",
       "      <td>0.071051</td>\n",
       "      <td>Summarize the various ways the factory would u...</td>\n",
       "      <td>Excerpt from The Jungle</td>\n",
       "      <td>With one member trimming beef ...</td>\n",
       "      <td>1084</td>\n",
       "      <td>208</td>\n",
       "      <td>0</td>\n",
       "      <td>35</td>\n",
       "      <td>100</td>\n",
       "    </tr>\n",
       "    <tr>\n",
       "      <th>1</th>\n",
       "      <td>3cd258671166</td>\n",
       "      <td>3b9047</td>\n",
       "      <td>It was hard for the people  to pay taxes becua...</td>\n",
       "      <td>-1.427883</td>\n",
       "      <td>-0.790667</td>\n",
       "      <td>In complete sentences, summarize the structure...</td>\n",
       "      <td>Egyptian Social Structure</td>\n",
       "      <td>Egyptian society was structure...</td>\n",
       "      <td>153</td>\n",
       "      <td>31</td>\n",
       "      <td>0</td>\n",
       "      <td>2</td>\n",
       "      <td>15</td>\n",
       "    </tr>\n",
       "    <tr>\n",
       "      <th>2</th>\n",
       "      <td>7f09d9ceac6c</td>\n",
       "      <td>39c16e</td>\n",
       "      <td>One element of a tragedy is a complex plot. It...</td>\n",
       "      <td>-0.921625</td>\n",
       "      <td>-1.213611</td>\n",
       "      <td>Summarize at least 3 elements of an ideal trag...</td>\n",
       "      <td>On Tragedy</td>\n",
       "      <td>Chapter 13 \\r\\nAs the sequel to ...</td>\n",
       "      <td>155</td>\n",
       "      <td>28</td>\n",
       "      <td>0</td>\n",
       "      <td>3</td>\n",
       "      <td>13</td>\n",
       "    </tr>\n",
       "    <tr>\n",
       "      <th>3</th>\n",
       "      <td>3ba16640478a</td>\n",
       "      <td>39c16e</td>\n",
       "      <td>One of the first notions of tragedy Aristo...</td>\n",
       "      <td>0.205683</td>\n",
       "      <td>0.380538</td>\n",
       "      <td>Summarize at least 3 elements of an ideal trag...</td>\n",
       "      <td>On Tragedy</td>\n",
       "      <td>Chapter 13 \\r\\nAs the sequel to ...</td>\n",
       "      <td>367</td>\n",
       "      <td>66</td>\n",
       "      <td>0</td>\n",
       "      <td>4</td>\n",
       "      <td>32</td>\n",
       "    </tr>\n",
       "    <tr>\n",
       "      <th>4</th>\n",
       "      <td>f06668e3066c</td>\n",
       "      <td>ebad26</td>\n",
       "      <td>The meat for canning and sausage was piled on ...</td>\n",
       "      <td>-0.140912</td>\n",
       "      <td>-0.245279</td>\n",
       "      <td>Summarize the various ways the factory would u...</td>\n",
       "      <td>Excerpt from The Jungle</td>\n",
       "      <td>With one member trimming beef ...</td>\n",
       "      <td>314</td>\n",
       "      <td>53</td>\n",
       "      <td>0</td>\n",
       "      <td>9</td>\n",
       "      <td>17</td>\n",
       "    </tr>\n",
       "  </tbody>\n",
       "</table>\n",
       "</div>"
      ]
     },
     "execution_count": 195,
     "metadata": {},
     "output_type": "execute_result"
    }
   ],
   "execution_count": 195
  },
  {
   "metadata": {},
   "cell_type": "markdown",
   "source": "## Preprocesamiento",
   "id": "8da3a2a8a8271049"
  },
  {
   "metadata": {
    "ExecuteTime": {
     "end_time": "2024-10-24T02:07:59.348560Z",
     "start_time": "2024-10-24T02:07:59.334653Z"
    }
   },
   "cell_type": "code",
   "source": [
    "# normalizar variables numéricas\n",
    "from sklearn.preprocessing import MinMaxScaler\n",
    "\n",
    "scaler = MinMaxScaler()\n",
    "data[['text_length', 'word_count', 'number_count', 'punctuation_count', 'stopword_count']] = scaler.fit_transform(data[['text_length', 'word_count', 'number_count', 'punctuation_count', 'stopword_count']])\n",
    "\n",
    "data.head()"
   ],
   "id": "72e3c21973aecca2",
   "outputs": [
    {
     "data": {
      "text/plain": [
       "     student_id prompt_id                                               text  \\\n",
       "0  448e68637138    ebad26  Some of the ways the factory would cover up sp...   \n",
       "1  3cd258671166    3b9047  It was hard for the people  to pay taxes becua...   \n",
       "2  7f09d9ceac6c    39c16e  One element of a tragedy is a complex plot. It...   \n",
       "3  3ba16640478a    39c16e      One of the first notions of tragedy Aristo...   \n",
       "4  f06668e3066c    ebad26  The meat for canning and sausage was piled on ...   \n",
       "\n",
       "    content   wording                                    prompt_question  \\\n",
       "0  1.530847  0.071051  Summarize the various ways the factory would u...   \n",
       "1 -1.427883 -0.790667  In complete sentences, summarize the structure...   \n",
       "2 -0.921625 -1.213611  Summarize at least 3 elements of an ideal trag...   \n",
       "3  0.205683  0.380538  Summarize at least 3 elements of an ideal trag...   \n",
       "4 -0.140912 -0.245279  Summarize the various ways the factory would u...   \n",
       "\n",
       "                prompt_title                          prompt_text  \\\n",
       "0    Excerpt from The Jungle    With one member trimming beef ...   \n",
       "1  Egyptian Social Structure    Egyptian society was structure...   \n",
       "2                 On Tragedy  Chapter 13 \\r\\nAs the sequel to ...   \n",
       "3                 On Tragedy  Chapter 13 \\r\\nAs the sequel to ...   \n",
       "4    Excerpt from The Jungle    With one member trimming beef ...   \n",
       "\n",
       "   text_length  word_count  number_count  punctuation_count  stopword_count  \n",
       "0     0.253528      0.2976           0.0           0.222930        0.335570  \n",
       "1     0.010193      0.0144           0.0           0.012739        0.050336  \n",
       "2     0.010716      0.0096           0.0           0.019108        0.043624  \n",
       "3     0.066127      0.0704           0.0           0.025478        0.107383  \n",
       "4     0.052274      0.0496           0.0           0.057325        0.057047  "
      ],
      "text/html": [
       "<div>\n",
       "<style scoped>\n",
       "    .dataframe tbody tr th:only-of-type {\n",
       "        vertical-align: middle;\n",
       "    }\n",
       "\n",
       "    .dataframe tbody tr th {\n",
       "        vertical-align: top;\n",
       "    }\n",
       "\n",
       "    .dataframe thead th {\n",
       "        text-align: right;\n",
       "    }\n",
       "</style>\n",
       "<table border=\"1\" class=\"dataframe\">\n",
       "  <thead>\n",
       "    <tr style=\"text-align: right;\">\n",
       "      <th></th>\n",
       "      <th>student_id</th>\n",
       "      <th>prompt_id</th>\n",
       "      <th>text</th>\n",
       "      <th>content</th>\n",
       "      <th>wording</th>\n",
       "      <th>prompt_question</th>\n",
       "      <th>prompt_title</th>\n",
       "      <th>prompt_text</th>\n",
       "      <th>text_length</th>\n",
       "      <th>word_count</th>\n",
       "      <th>number_count</th>\n",
       "      <th>punctuation_count</th>\n",
       "      <th>stopword_count</th>\n",
       "    </tr>\n",
       "  </thead>\n",
       "  <tbody>\n",
       "    <tr>\n",
       "      <th>0</th>\n",
       "      <td>448e68637138</td>\n",
       "      <td>ebad26</td>\n",
       "      <td>Some of the ways the factory would cover up sp...</td>\n",
       "      <td>1.530847</td>\n",
       "      <td>0.071051</td>\n",
       "      <td>Summarize the various ways the factory would u...</td>\n",
       "      <td>Excerpt from The Jungle</td>\n",
       "      <td>With one member trimming beef ...</td>\n",
       "      <td>0.253528</td>\n",
       "      <td>0.2976</td>\n",
       "      <td>0.0</td>\n",
       "      <td>0.222930</td>\n",
       "      <td>0.335570</td>\n",
       "    </tr>\n",
       "    <tr>\n",
       "      <th>1</th>\n",
       "      <td>3cd258671166</td>\n",
       "      <td>3b9047</td>\n",
       "      <td>It was hard for the people  to pay taxes becua...</td>\n",
       "      <td>-1.427883</td>\n",
       "      <td>-0.790667</td>\n",
       "      <td>In complete sentences, summarize the structure...</td>\n",
       "      <td>Egyptian Social Structure</td>\n",
       "      <td>Egyptian society was structure...</td>\n",
       "      <td>0.010193</td>\n",
       "      <td>0.0144</td>\n",
       "      <td>0.0</td>\n",
       "      <td>0.012739</td>\n",
       "      <td>0.050336</td>\n",
       "    </tr>\n",
       "    <tr>\n",
       "      <th>2</th>\n",
       "      <td>7f09d9ceac6c</td>\n",
       "      <td>39c16e</td>\n",
       "      <td>One element of a tragedy is a complex plot. It...</td>\n",
       "      <td>-0.921625</td>\n",
       "      <td>-1.213611</td>\n",
       "      <td>Summarize at least 3 elements of an ideal trag...</td>\n",
       "      <td>On Tragedy</td>\n",
       "      <td>Chapter 13 \\r\\nAs the sequel to ...</td>\n",
       "      <td>0.010716</td>\n",
       "      <td>0.0096</td>\n",
       "      <td>0.0</td>\n",
       "      <td>0.019108</td>\n",
       "      <td>0.043624</td>\n",
       "    </tr>\n",
       "    <tr>\n",
       "      <th>3</th>\n",
       "      <td>3ba16640478a</td>\n",
       "      <td>39c16e</td>\n",
       "      <td>One of the first notions of tragedy Aristo...</td>\n",
       "      <td>0.205683</td>\n",
       "      <td>0.380538</td>\n",
       "      <td>Summarize at least 3 elements of an ideal trag...</td>\n",
       "      <td>On Tragedy</td>\n",
       "      <td>Chapter 13 \\r\\nAs the sequel to ...</td>\n",
       "      <td>0.066127</td>\n",
       "      <td>0.0704</td>\n",
       "      <td>0.0</td>\n",
       "      <td>0.025478</td>\n",
       "      <td>0.107383</td>\n",
       "    </tr>\n",
       "    <tr>\n",
       "      <th>4</th>\n",
       "      <td>f06668e3066c</td>\n",
       "      <td>ebad26</td>\n",
       "      <td>The meat for canning and sausage was piled on ...</td>\n",
       "      <td>-0.140912</td>\n",
       "      <td>-0.245279</td>\n",
       "      <td>Summarize the various ways the factory would u...</td>\n",
       "      <td>Excerpt from The Jungle</td>\n",
       "      <td>With one member trimming beef ...</td>\n",
       "      <td>0.052274</td>\n",
       "      <td>0.0496</td>\n",
       "      <td>0.0</td>\n",
       "      <td>0.057325</td>\n",
       "      <td>0.057047</td>\n",
       "    </tr>\n",
       "  </tbody>\n",
       "</table>\n",
       "</div>"
      ]
     },
     "execution_count": 196,
     "metadata": {},
     "output_type": "execute_result"
    }
   ],
   "execution_count": 196
  },
  {
   "metadata": {
    "ExecuteTime": {
     "end_time": "2024-10-24T02:07:59.662159Z",
     "start_time": "2024-10-24T02:07:59.411955Z"
    }
   },
   "cell_type": "code",
   "source": [
    "tokenizer = Tokenizer(num_words=10000)  # Limitar a las 10,000 palabras más comunes\n",
    "tokenizer.fit_on_texts(data['text'] + ' ' + data['prompt_text'])"
   ],
   "id": "92933c854c485bc4",
   "outputs": [],
   "execution_count": 197
  },
  {
   "metadata": {
    "ExecuteTime": {
     "end_time": "2024-10-24T02:07:59.866938Z",
     "start_time": "2024-10-24T02:07:59.686940Z"
    }
   },
   "cell_type": "code",
   "source": "sequences = tokenizer.texts_to_sequences(data['text'] + ' ' + data['prompt_text'])",
   "id": "d73b624270e1e5",
   "outputs": [],
   "execution_count": 198
  },
  {
   "metadata": {
    "ExecuteTime": {
     "end_time": "2024-10-24T02:07:59.895053Z",
     "start_time": "2024-10-24T02:07:59.869884Z"
    }
   },
   "cell_type": "code",
   "source": [
    "maxlen = 200  # Puedes ajustar este valor según la longitud promedio\n",
    "X = pad_sequences(sequences, maxlen=maxlen)"
   ],
   "id": "e4cbb7cf0f66eef1",
   "outputs": [],
   "execution_count": 199
  },
  {
   "metadata": {
    "ExecuteTime": {
     "end_time": "2024-10-24T02:07:59.924655Z",
     "start_time": "2024-10-24T02:07:59.917417Z"
    }
   },
   "cell_type": "code",
   "source": [
    "# Combinar las etiquetas en una matriz\n",
    "y = data[['content', 'wording']].values\n",
    "\n",
    "# Dividir los datos en entrenamiento y prueba\n",
    "X_train, X_test, y_train, y_test = train_test_split(X, y, test_size=0.2, random_state=42)"
   ],
   "id": "68b936b668663865",
   "outputs": [],
   "execution_count": 200
  },
  {
   "metadata": {
    "ExecuteTime": {
     "end_time": "2024-10-24T02:07:59.953970Z",
     "start_time": "2024-10-24T02:07:59.950480Z"
    }
   },
   "cell_type": "code",
   "source": [
    "# Separar las etiquetas después de la división\n",
    "y_content_train = y_train[:, 0]\n",
    "y_wording_train = y_train[:, 1]\n",
    "y_content_test = y_test[:, 0]\n",
    "y_wording_test = y_test[:,1]"
   ],
   "id": "1331bf5d4844055d",
   "outputs": [],
   "execution_count": 201
  },
  {
   "metadata": {},
   "cell_type": "markdown",
   "source": "## RNN",
   "id": "428a02fad50d9e68"
  },
  {
   "metadata": {
    "ExecuteTime": {
     "end_time": "2024-10-24T02:07:59.979495Z",
     "start_time": "2024-10-24T02:07:59.976275Z"
    }
   },
   "cell_type": "code",
   "source": [
    "from tensorflow.keras.models import Model\n",
    "from tensorflow.keras.layers import Input, Embedding, LSTM, Dense, Dropout\n"
   ],
   "id": "733c12f5c9ba4e24",
   "outputs": [],
   "execution_count": 202
  },
  {
   "metadata": {
    "ExecuteTime": {
     "end_time": "2024-10-24T02:08:00.057318Z",
     "start_time": "2024-10-24T02:08:00.001052Z"
    }
   },
   "cell_type": "code",
   "source": [
    "input_ = Input(shape=(maxlen,))\n",
    "\n",
    "x = Embedding(input_dim=10000, output_dim=128, input_length=maxlen)(input_)\n",
    "\n",
    "x = LSTM(256, return_sequences=True)(x)\n",
    "x = Dropout(0.5)(x)\n",
    "x = LSTM(128, return_sequences=True)(x)\n",
    "x = Dropout(0.5)(x)\n",
    "x = LSTM(64, return_sequences=False)(x)\n",
    "x = Dense(64, activation='relu')(x)\n",
    "x = Dropout(0.5)(x)\n",
    "x = Dense(32, activation='relu')(x)"
   ],
   "id": "481ee8e748cf23d4",
   "outputs": [
    {
     "name": "stderr",
     "output_type": "stream",
     "text": [
      "C:\\Users\\marka\\anaconda3\\envs\\DataMining11\\Lib\\site-packages\\keras\\src\\layers\\core\\embedding.py:90: UserWarning: Argument `input_length` is deprecated. Just remove it.\n",
      "  warnings.warn(\n"
     ]
    }
   ],
   "execution_count": 203
  },
  {
   "metadata": {
    "ExecuteTime": {
     "end_time": "2024-10-24T02:08:00.140016Z",
     "start_time": "2024-10-24T02:08:00.127067Z"
    }
   },
   "cell_type": "code",
   "source": [
    "# Predicción de content\n",
    "content_output = Dense(1, activation='linear', name='content')(x)\n",
    "\n",
    "# Predicción de wording\n",
    "wording_output = Dense(1, activation='linear', name='wording')(x)"
   ],
   "id": "6d59c81b315c82da",
   "outputs": [],
   "execution_count": 204
  },
  {
   "metadata": {
    "ExecuteTime": {
     "end_time": "2024-10-24T02:08:00.168899Z",
     "start_time": "2024-10-24T02:08:00.164674Z"
    }
   },
   "cell_type": "code",
   "source": [
    "optimizer = 'adam'\n",
    "loss = 'mean_squared_error'\n",
    "metrics = ['mse', 'mse']\n",
    "epochs = 15\n",
    "batch_size = 256"
   ],
   "id": "ae8ca111801ec0f0",
   "outputs": [],
   "execution_count": 205
  },
  {
   "metadata": {
    "ExecuteTime": {
     "end_time": "2024-10-24T02:08:00.200269Z",
     "start_time": "2024-10-24T02:08:00.192088Z"
    }
   },
   "cell_type": "code",
   "source": [
    "model = Model(inputs=input_, outputs=[content_output, wording_output])\n",
    "model.compile(optimizer=optimizer, loss=loss, metrics=metrics)"
   ],
   "id": "316122613939525e",
   "outputs": [],
   "execution_count": 206
  },
  {
   "metadata": {
    "ExecuteTime": {
     "end_time": "2024-10-24T02:08:00.236277Z",
     "start_time": "2024-10-24T02:08:00.222226Z"
    }
   },
   "cell_type": "code",
   "source": "model.summary()",
   "id": "8d9f7efbfc6ae07",
   "outputs": [
    {
     "data": {
      "text/plain": [
       "\u001B[1mModel: \"functional_15\"\u001B[0m\n"
      ],
      "text/html": [
       "<pre style=\"white-space:pre;overflow-x:auto;line-height:normal;font-family:Menlo,'DejaVu Sans Mono',consolas,'Courier New',monospace\"><span style=\"font-weight: bold\">Model: \"functional_15\"</span>\n",
       "</pre>\n"
      ]
     },
     "metadata": {},
     "output_type": "display_data"
    },
    {
     "data": {
      "text/plain": [
       "┏━━━━━━━━━━━━━━━━━━━━━┳━━━━━━━━━━━━━━━━━━━┳━━━━━━━━━━━━┳━━━━━━━━━━━━━━━━━━━┓\n",
       "┃\u001B[1m \u001B[0m\u001B[1mLayer (type)       \u001B[0m\u001B[1m \u001B[0m┃\u001B[1m \u001B[0m\u001B[1mOutput Shape     \u001B[0m\u001B[1m \u001B[0m┃\u001B[1m \u001B[0m\u001B[1m   Param #\u001B[0m\u001B[1m \u001B[0m┃\u001B[1m \u001B[0m\u001B[1mConnected to     \u001B[0m\u001B[1m \u001B[0m┃\n",
       "┡━━━━━━━━━━━━━━━━━━━━━╇━━━━━━━━━━━━━━━━━━━╇━━━━━━━━━━━━╇━━━━━━━━━━━━━━━━━━━┩\n",
       "│ input_layer_11      │ (\u001B[38;5;45mNone\u001B[0m, \u001B[38;5;34m200\u001B[0m)       │          \u001B[38;5;34m0\u001B[0m │ -                 │\n",
       "│ (\u001B[38;5;33mInputLayer\u001B[0m)        │                   │            │                   │\n",
       "├─────────────────────┼───────────────────┼────────────┼───────────────────┤\n",
       "│ embedding_11        │ (\u001B[38;5;45mNone\u001B[0m, \u001B[38;5;34m200\u001B[0m, \u001B[38;5;34m128\u001B[0m)  │  \u001B[38;5;34m1,280,000\u001B[0m │ input_layer_11[\u001B[38;5;34m0\u001B[0m… │\n",
       "│ (\u001B[38;5;33mEmbedding\u001B[0m)         │                   │            │                   │\n",
       "├─────────────────────┼───────────────────┼────────────┼───────────────────┤\n",
       "│ lstm_23 (\u001B[38;5;33mLSTM\u001B[0m)      │ (\u001B[38;5;45mNone\u001B[0m, \u001B[38;5;34m200\u001B[0m, \u001B[38;5;34m256\u001B[0m)  │    \u001B[38;5;34m394,240\u001B[0m │ embedding_11[\u001B[38;5;34m0\u001B[0m][\u001B[38;5;34m…\u001B[0m │\n",
       "├─────────────────────┼───────────────────┼────────────┼───────────────────┤\n",
       "│ dropout_19          │ (\u001B[38;5;45mNone\u001B[0m, \u001B[38;5;34m200\u001B[0m, \u001B[38;5;34m256\u001B[0m)  │          \u001B[38;5;34m0\u001B[0m │ lstm_23[\u001B[38;5;34m0\u001B[0m][\u001B[38;5;34m0\u001B[0m]     │\n",
       "│ (\u001B[38;5;33mDropout\u001B[0m)           │                   │            │                   │\n",
       "├─────────────────────┼───────────────────┼────────────┼───────────────────┤\n",
       "│ lstm_24 (\u001B[38;5;33mLSTM\u001B[0m)      │ (\u001B[38;5;45mNone\u001B[0m, \u001B[38;5;34m200\u001B[0m, \u001B[38;5;34m128\u001B[0m)  │    \u001B[38;5;34m197,120\u001B[0m │ dropout_19[\u001B[38;5;34m0\u001B[0m][\u001B[38;5;34m0\u001B[0m]  │\n",
       "├─────────────────────┼───────────────────┼────────────┼───────────────────┤\n",
       "│ dropout_20          │ (\u001B[38;5;45mNone\u001B[0m, \u001B[38;5;34m200\u001B[0m, \u001B[38;5;34m128\u001B[0m)  │          \u001B[38;5;34m0\u001B[0m │ lstm_24[\u001B[38;5;34m0\u001B[0m][\u001B[38;5;34m0\u001B[0m]     │\n",
       "│ (\u001B[38;5;33mDropout\u001B[0m)           │                   │            │                   │\n",
       "├─────────────────────┼───────────────────┼────────────┼───────────────────┤\n",
       "│ lstm_25 (\u001B[38;5;33mLSTM\u001B[0m)      │ (\u001B[38;5;45mNone\u001B[0m, \u001B[38;5;34m64\u001B[0m)        │     \u001B[38;5;34m49,408\u001B[0m │ dropout_20[\u001B[38;5;34m0\u001B[0m][\u001B[38;5;34m0\u001B[0m]  │\n",
       "├─────────────────────┼───────────────────┼────────────┼───────────────────┤\n",
       "│ dense_14 (\u001B[38;5;33mDense\u001B[0m)    │ (\u001B[38;5;45mNone\u001B[0m, \u001B[38;5;34m64\u001B[0m)        │      \u001B[38;5;34m4,160\u001B[0m │ lstm_25[\u001B[38;5;34m0\u001B[0m][\u001B[38;5;34m0\u001B[0m]     │\n",
       "├─────────────────────┼───────────────────┼────────────┼───────────────────┤\n",
       "│ dropout_21          │ (\u001B[38;5;45mNone\u001B[0m, \u001B[38;5;34m64\u001B[0m)        │          \u001B[38;5;34m0\u001B[0m │ dense_14[\u001B[38;5;34m0\u001B[0m][\u001B[38;5;34m0\u001B[0m]    │\n",
       "│ (\u001B[38;5;33mDropout\u001B[0m)           │                   │            │                   │\n",
       "├─────────────────────┼───────────────────┼────────────┼───────────────────┤\n",
       "│ dense_15 (\u001B[38;5;33mDense\u001B[0m)    │ (\u001B[38;5;45mNone\u001B[0m, \u001B[38;5;34m32\u001B[0m)        │      \u001B[38;5;34m2,080\u001B[0m │ dropout_21[\u001B[38;5;34m0\u001B[0m][\u001B[38;5;34m0\u001B[0m]  │\n",
       "├─────────────────────┼───────────────────┼────────────┼───────────────────┤\n",
       "│ content (\u001B[38;5;33mDense\u001B[0m)     │ (\u001B[38;5;45mNone\u001B[0m, \u001B[38;5;34m1\u001B[0m)         │         \u001B[38;5;34m33\u001B[0m │ dense_15[\u001B[38;5;34m0\u001B[0m][\u001B[38;5;34m0\u001B[0m]    │\n",
       "├─────────────────────┼───────────────────┼────────────┼───────────────────┤\n",
       "│ wording (\u001B[38;5;33mDense\u001B[0m)     │ (\u001B[38;5;45mNone\u001B[0m, \u001B[38;5;34m1\u001B[0m)         │         \u001B[38;5;34m33\u001B[0m │ dense_15[\u001B[38;5;34m0\u001B[0m][\u001B[38;5;34m0\u001B[0m]    │\n",
       "└─────────────────────┴───────────────────┴────────────┴───────────────────┘\n"
      ],
      "text/html": [
       "<pre style=\"white-space:pre;overflow-x:auto;line-height:normal;font-family:Menlo,'DejaVu Sans Mono',consolas,'Courier New',monospace\">┏━━━━━━━━━━━━━━━━━━━━━┳━━━━━━━━━━━━━━━━━━━┳━━━━━━━━━━━━┳━━━━━━━━━━━━━━━━━━━┓\n",
       "┃<span style=\"font-weight: bold\"> Layer (type)        </span>┃<span style=\"font-weight: bold\"> Output Shape      </span>┃<span style=\"font-weight: bold\">    Param # </span>┃<span style=\"font-weight: bold\"> Connected to      </span>┃\n",
       "┡━━━━━━━━━━━━━━━━━━━━━╇━━━━━━━━━━━━━━━━━━━╇━━━━━━━━━━━━╇━━━━━━━━━━━━━━━━━━━┩\n",
       "│ input_layer_11      │ (<span style=\"color: #00d7ff; text-decoration-color: #00d7ff\">None</span>, <span style=\"color: #00af00; text-decoration-color: #00af00\">200</span>)       │          <span style=\"color: #00af00; text-decoration-color: #00af00\">0</span> │ -                 │\n",
       "│ (<span style=\"color: #0087ff; text-decoration-color: #0087ff\">InputLayer</span>)        │                   │            │                   │\n",
       "├─────────────────────┼───────────────────┼────────────┼───────────────────┤\n",
       "│ embedding_11        │ (<span style=\"color: #00d7ff; text-decoration-color: #00d7ff\">None</span>, <span style=\"color: #00af00; text-decoration-color: #00af00\">200</span>, <span style=\"color: #00af00; text-decoration-color: #00af00\">128</span>)  │  <span style=\"color: #00af00; text-decoration-color: #00af00\">1,280,000</span> │ input_layer_11[<span style=\"color: #00af00; text-decoration-color: #00af00\">0</span>… │\n",
       "│ (<span style=\"color: #0087ff; text-decoration-color: #0087ff\">Embedding</span>)         │                   │            │                   │\n",
       "├─────────────────────┼───────────────────┼────────────┼───────────────────┤\n",
       "│ lstm_23 (<span style=\"color: #0087ff; text-decoration-color: #0087ff\">LSTM</span>)      │ (<span style=\"color: #00d7ff; text-decoration-color: #00d7ff\">None</span>, <span style=\"color: #00af00; text-decoration-color: #00af00\">200</span>, <span style=\"color: #00af00; text-decoration-color: #00af00\">256</span>)  │    <span style=\"color: #00af00; text-decoration-color: #00af00\">394,240</span> │ embedding_11[<span style=\"color: #00af00; text-decoration-color: #00af00\">0</span>][<span style=\"color: #00af00; text-decoration-color: #00af00\">…</span> │\n",
       "├─────────────────────┼───────────────────┼────────────┼───────────────────┤\n",
       "│ dropout_19          │ (<span style=\"color: #00d7ff; text-decoration-color: #00d7ff\">None</span>, <span style=\"color: #00af00; text-decoration-color: #00af00\">200</span>, <span style=\"color: #00af00; text-decoration-color: #00af00\">256</span>)  │          <span style=\"color: #00af00; text-decoration-color: #00af00\">0</span> │ lstm_23[<span style=\"color: #00af00; text-decoration-color: #00af00\">0</span>][<span style=\"color: #00af00; text-decoration-color: #00af00\">0</span>]     │\n",
       "│ (<span style=\"color: #0087ff; text-decoration-color: #0087ff\">Dropout</span>)           │                   │            │                   │\n",
       "├─────────────────────┼───────────────────┼────────────┼───────────────────┤\n",
       "│ lstm_24 (<span style=\"color: #0087ff; text-decoration-color: #0087ff\">LSTM</span>)      │ (<span style=\"color: #00d7ff; text-decoration-color: #00d7ff\">None</span>, <span style=\"color: #00af00; text-decoration-color: #00af00\">200</span>, <span style=\"color: #00af00; text-decoration-color: #00af00\">128</span>)  │    <span style=\"color: #00af00; text-decoration-color: #00af00\">197,120</span> │ dropout_19[<span style=\"color: #00af00; text-decoration-color: #00af00\">0</span>][<span style=\"color: #00af00; text-decoration-color: #00af00\">0</span>]  │\n",
       "├─────────────────────┼───────────────────┼────────────┼───────────────────┤\n",
       "│ dropout_20          │ (<span style=\"color: #00d7ff; text-decoration-color: #00d7ff\">None</span>, <span style=\"color: #00af00; text-decoration-color: #00af00\">200</span>, <span style=\"color: #00af00; text-decoration-color: #00af00\">128</span>)  │          <span style=\"color: #00af00; text-decoration-color: #00af00\">0</span> │ lstm_24[<span style=\"color: #00af00; text-decoration-color: #00af00\">0</span>][<span style=\"color: #00af00; text-decoration-color: #00af00\">0</span>]     │\n",
       "│ (<span style=\"color: #0087ff; text-decoration-color: #0087ff\">Dropout</span>)           │                   │            │                   │\n",
       "├─────────────────────┼───────────────────┼────────────┼───────────────────┤\n",
       "│ lstm_25 (<span style=\"color: #0087ff; text-decoration-color: #0087ff\">LSTM</span>)      │ (<span style=\"color: #00d7ff; text-decoration-color: #00d7ff\">None</span>, <span style=\"color: #00af00; text-decoration-color: #00af00\">64</span>)        │     <span style=\"color: #00af00; text-decoration-color: #00af00\">49,408</span> │ dropout_20[<span style=\"color: #00af00; text-decoration-color: #00af00\">0</span>][<span style=\"color: #00af00; text-decoration-color: #00af00\">0</span>]  │\n",
       "├─────────────────────┼───────────────────┼────────────┼───────────────────┤\n",
       "│ dense_14 (<span style=\"color: #0087ff; text-decoration-color: #0087ff\">Dense</span>)    │ (<span style=\"color: #00d7ff; text-decoration-color: #00d7ff\">None</span>, <span style=\"color: #00af00; text-decoration-color: #00af00\">64</span>)        │      <span style=\"color: #00af00; text-decoration-color: #00af00\">4,160</span> │ lstm_25[<span style=\"color: #00af00; text-decoration-color: #00af00\">0</span>][<span style=\"color: #00af00; text-decoration-color: #00af00\">0</span>]     │\n",
       "├─────────────────────┼───────────────────┼────────────┼───────────────────┤\n",
       "│ dropout_21          │ (<span style=\"color: #00d7ff; text-decoration-color: #00d7ff\">None</span>, <span style=\"color: #00af00; text-decoration-color: #00af00\">64</span>)        │          <span style=\"color: #00af00; text-decoration-color: #00af00\">0</span> │ dense_14[<span style=\"color: #00af00; text-decoration-color: #00af00\">0</span>][<span style=\"color: #00af00; text-decoration-color: #00af00\">0</span>]    │\n",
       "│ (<span style=\"color: #0087ff; text-decoration-color: #0087ff\">Dropout</span>)           │                   │            │                   │\n",
       "├─────────────────────┼───────────────────┼────────────┼───────────────────┤\n",
       "│ dense_15 (<span style=\"color: #0087ff; text-decoration-color: #0087ff\">Dense</span>)    │ (<span style=\"color: #00d7ff; text-decoration-color: #00d7ff\">None</span>, <span style=\"color: #00af00; text-decoration-color: #00af00\">32</span>)        │      <span style=\"color: #00af00; text-decoration-color: #00af00\">2,080</span> │ dropout_21[<span style=\"color: #00af00; text-decoration-color: #00af00\">0</span>][<span style=\"color: #00af00; text-decoration-color: #00af00\">0</span>]  │\n",
       "├─────────────────────┼───────────────────┼────────────┼───────────────────┤\n",
       "│ content (<span style=\"color: #0087ff; text-decoration-color: #0087ff\">Dense</span>)     │ (<span style=\"color: #00d7ff; text-decoration-color: #00d7ff\">None</span>, <span style=\"color: #00af00; text-decoration-color: #00af00\">1</span>)         │         <span style=\"color: #00af00; text-decoration-color: #00af00\">33</span> │ dense_15[<span style=\"color: #00af00; text-decoration-color: #00af00\">0</span>][<span style=\"color: #00af00; text-decoration-color: #00af00\">0</span>]    │\n",
       "├─────────────────────┼───────────────────┼────────────┼───────────────────┤\n",
       "│ wording (<span style=\"color: #0087ff; text-decoration-color: #0087ff\">Dense</span>)     │ (<span style=\"color: #00d7ff; text-decoration-color: #00d7ff\">None</span>, <span style=\"color: #00af00; text-decoration-color: #00af00\">1</span>)         │         <span style=\"color: #00af00; text-decoration-color: #00af00\">33</span> │ dense_15[<span style=\"color: #00af00; text-decoration-color: #00af00\">0</span>][<span style=\"color: #00af00; text-decoration-color: #00af00\">0</span>]    │\n",
       "└─────────────────────┴───────────────────┴────────────┴───────────────────┘\n",
       "</pre>\n"
      ]
     },
     "metadata": {},
     "output_type": "display_data"
    },
    {
     "data": {
      "text/plain": [
       "\u001B[1m Total params: \u001B[0m\u001B[38;5;34m1,927,074\u001B[0m (7.35 MB)\n"
      ],
      "text/html": [
       "<pre style=\"white-space:pre;overflow-x:auto;line-height:normal;font-family:Menlo,'DejaVu Sans Mono',consolas,'Courier New',monospace\"><span style=\"font-weight: bold\"> Total params: </span><span style=\"color: #00af00; text-decoration-color: #00af00\">1,927,074</span> (7.35 MB)\n",
       "</pre>\n"
      ]
     },
     "metadata": {},
     "output_type": "display_data"
    },
    {
     "data": {
      "text/plain": [
       "\u001B[1m Trainable params: \u001B[0m\u001B[38;5;34m1,927,074\u001B[0m (7.35 MB)\n"
      ],
      "text/html": [
       "<pre style=\"white-space:pre;overflow-x:auto;line-height:normal;font-family:Menlo,'DejaVu Sans Mono',consolas,'Courier New',monospace\"><span style=\"font-weight: bold\"> Trainable params: </span><span style=\"color: #00af00; text-decoration-color: #00af00\">1,927,074</span> (7.35 MB)\n",
       "</pre>\n"
      ]
     },
     "metadata": {},
     "output_type": "display_data"
    },
    {
     "data": {
      "text/plain": [
       "\u001B[1m Non-trainable params: \u001B[0m\u001B[38;5;34m0\u001B[0m (0.00 B)\n"
      ],
      "text/html": [
       "<pre style=\"white-space:pre;overflow-x:auto;line-height:normal;font-family:Menlo,'DejaVu Sans Mono',consolas,'Courier New',monospace\"><span style=\"font-weight: bold\"> Non-trainable params: </span><span style=\"color: #00af00; text-decoration-color: #00af00\">0</span> (0.00 B)\n",
       "</pre>\n"
      ]
     },
     "metadata": {},
     "output_type": "display_data"
    }
   ],
   "execution_count": 207
  },
  {
   "metadata": {
    "ExecuteTime": {
     "end_time": "2024-10-24T02:14:37.408237Z",
     "start_time": "2024-10-24T02:08:00.261175Z"
    }
   },
   "cell_type": "code",
   "source": [
    "history = model.fit(\n",
    "    X_train, \n",
    "    [y_content_train, y_wording_train], \n",
    "    validation_data=(X_test, [y_content_test, y_wording_test]), \n",
    "    epochs=epochs,\n",
    "    batch_size=batch_size,\n",
    "    verbose=2\n",
    ")"
   ],
   "id": "f9a5dc831d140084",
   "outputs": [
    {
     "name": "stdout",
     "output_type": "stream",
     "text": [
      "Epoch 1/15\n",
      "23/23 - 30s - 1s/step - content_mse: 0.7153 - loss: 1.5767 - wording_mse: 0.8614 - val_content_mse: 0.3673 - val_loss: 1.0184 - val_wording_mse: 0.6512\n",
      "Epoch 2/15\n",
      "23/23 - 27s - 1s/step - content_mse: 0.3651 - loss: 0.9584 - wording_mse: 0.5933 - val_content_mse: 0.2937 - val_loss: 0.7999 - val_wording_mse: 0.5062\n",
      "Epoch 3/15\n",
      "23/23 - 25s - 1s/step - content_mse: 0.3018 - loss: 0.7919 - wording_mse: 0.4901 - val_content_mse: 0.2591 - val_loss: 0.7005 - val_wording_mse: 0.4414\n",
      "Epoch 4/15\n",
      "23/23 - 25s - 1s/step - content_mse: 0.2670 - loss: 0.6879 - wording_mse: 0.4209 - val_content_mse: 0.2784 - val_loss: 0.7357 - val_wording_mse: 0.4573\n",
      "Epoch 5/15\n",
      "23/23 - 25s - 1s/step - content_mse: 0.2731 - loss: 0.6774 - wording_mse: 0.4044 - val_content_mse: 0.2843 - val_loss: 0.7434 - val_wording_mse: 0.4591\n",
      "Epoch 6/15\n",
      "23/23 - 26s - 1s/step - content_mse: 0.2510 - loss: 0.6061 - wording_mse: 0.3552 - val_content_mse: 0.2399 - val_loss: 0.6550 - val_wording_mse: 0.4151\n",
      "Epoch 7/15\n",
      "23/23 - 26s - 1s/step - content_mse: 0.2174 - loss: 0.5171 - wording_mse: 0.2997 - val_content_mse: 0.2338 - val_loss: 0.6438 - val_wording_mse: 0.4100\n",
      "Epoch 8/15\n",
      "23/23 - 26s - 1s/step - content_mse: 0.2009 - loss: 0.4666 - wording_mse: 0.2658 - val_content_mse: 0.2284 - val_loss: 0.6454 - val_wording_mse: 0.4170\n",
      "Epoch 9/15\n",
      "23/23 - 26s - 1s/step - content_mse: 0.1832 - loss: 0.4423 - wording_mse: 0.2592 - val_content_mse: 0.2308 - val_loss: 0.6618 - val_wording_mse: 0.4310\n",
      "Epoch 10/15\n",
      "23/23 - 26s - 1s/step - content_mse: 0.1801 - loss: 0.4177 - wording_mse: 0.2376 - val_content_mse: 0.2279 - val_loss: 0.6722 - val_wording_mse: 0.4443\n",
      "Epoch 11/15\n",
      "23/23 - 26s - 1s/step - content_mse: 0.1612 - loss: 0.3747 - wording_mse: 0.2135 - val_content_mse: 0.2495 - val_loss: 0.7167 - val_wording_mse: 0.4672\n",
      "Epoch 12/15\n",
      "23/23 - 26s - 1s/step - content_mse: 0.1639 - loss: 0.3734 - wording_mse: 0.2096 - val_content_mse: 0.2359 - val_loss: 0.6847 - val_wording_mse: 0.4488\n",
      "Epoch 13/15\n",
      "23/23 - 26s - 1s/step - content_mse: 0.1548 - loss: 0.3473 - wording_mse: 0.1925 - val_content_mse: 0.2424 - val_loss: 0.6958 - val_wording_mse: 0.4535\n",
      "Epoch 14/15\n",
      "23/23 - 27s - 1s/step - content_mse: 0.1431 - loss: 0.3218 - wording_mse: 0.1787 - val_content_mse: 0.2377 - val_loss: 0.6926 - val_wording_mse: 0.4548\n",
      "Epoch 15/15\n",
      "23/23 - 27s - 1s/step - content_mse: 0.1369 - loss: 0.3096 - wording_mse: 0.1727 - val_content_mse: 0.2668 - val_loss: 0.7461 - val_wording_mse: 0.4793\n"
     ]
    }
   ],
   "execution_count": 208
  },
  {
   "metadata": {
    "ExecuteTime": {
     "end_time": "2024-10-24T02:14:40.999083Z",
     "start_time": "2024-10-24T02:14:37.432154Z"
    }
   },
   "cell_type": "code",
   "source": [
    "from sklearn.metrics import mean_absolute_error, mean_squared_error, r2_score\n",
    "\n",
    "y_content_pred, y_wording_pred = model.predict(X_test)\n",
    "\n",
    "print('MAE content:', mean_absolute_error(y_content_test, y_content_pred))\n",
    "print('MSE content:', mean_squared_error(y_content_test, y_content_pred))\n",
    "print('R2 content:', r2_score(y_content_test, y_content_pred))\n",
    "\n",
    "print('\\nMAE wording:', mean_absolute_error(y_wording_test, y_wording_pred))\n",
    "print('MSE wording:', mean_squared_error(y_wording_test, y_wording_pred))\n",
    "print('R2 wording:', r2_score(y_wording_test, y_wording_pred))"
   ],
   "id": "2510069cf3548ff5",
   "outputs": [
    {
     "name": "stdout",
     "output_type": "stream",
     "text": [
      "\u001B[1m45/45\u001B[0m \u001B[32m━━━━━━━━━━━━━━━━━━━━\u001B[0m\u001B[37m\u001B[0m \u001B[1m4s\u001B[0m 74ms/step\n",
      "MAE content: 0.3866062588006639\n",
      "MSE content: 0.2668106966599793\n",
      "R2 content: 0.7505815573340355\n",
      "\n",
      "MAE wording: 0.523816956362072\n",
      "MSE wording: 0.4792820808934037\n",
      "R2 wording: 0.5644477790713032\n"
     ]
    }
   ],
   "execution_count": 209
  },
  {
   "metadata": {
    "ExecuteTime": {
     "end_time": "2024-10-24T02:14:41.026804Z",
     "start_time": "2024-10-24T02:14:41.022876Z"
    }
   },
   "cell_type": "code",
   "source": "import matplotlib.pyplot as plt",
   "id": "a2aff7fe0661b72d",
   "outputs": [],
   "execution_count": 210
  },
  {
   "metadata": {
    "ExecuteTime": {
     "end_time": "2024-10-24T02:14:41.117570Z",
     "start_time": "2024-10-24T02:14:41.047842Z"
    }
   },
   "cell_type": "code",
   "source": [
    "plt.plot(history.history['loss'])\n",
    "plt.plot(history.history['val_loss'])\n",
    "plt.title('Loss')\n",
    "plt.show()"
   ],
   "id": "8d4dc17c3413a10e",
   "outputs": [
    {
     "data": {
      "text/plain": [
       "<Figure size 640x480 with 1 Axes>"
      ],
      "image/png": "[encoded data removed]"
     },
     "metadata": {},
     "output_type": "display_data"
    }
   ],
   "execution_count": 211
  },
  {
   "metadata": {
    "ExecuteTime": {
     "end_time": "2024-10-24T02:14:41.212170Z",
     "start_time": "2024-10-24T02:14:41.141726Z"
    }
   },
   "cell_type": "code",
   "source": [
    "plt.plot(history.history['content_mse'])\n",
    "plt.plot(history.history['val_content_mse'])\n",
    "plt.title('Content MSE')\n",
    "plt.show()"
   ],
   "id": "68530c73651230bb",
   "outputs": [
    {
     "data": {
      "text/plain": [
       "<Figure size 640x480 with 1 Axes>"
      ],
      "image/png": "[encoded data removed]"
     },
     "metadata": {},
     "output_type": "display_data"
    }
   ],
   "execution_count": 212
  },
  {
   "metadata": {
    "ExecuteTime": {
     "end_time": "2024-10-24T02:14:41.308619Z",
     "start_time": "2024-10-24T02:14:41.235777Z"
    }
   },
   "cell_type": "code",
   "source": [
    "plt.plot(history.history['wording_mse'])\n",
    "plt.plot(history.history['val_wording_mse'])\n",
    "plt.title('Wording MSE')\n",
    "plt.show()"
   ],
   "id": "b63a5b888f5aa96a",
   "outputs": [
    {
     "data": {
      "text/plain": [
       "<Figure size 640x480 with 1 Axes>"
      ],
      "image/png": "[encoded data removed]"
     },
     "metadata": {},
     "output_type": "display_data"
    }
   ],
   "execution_count": 213
  },
  {
   "metadata": {
    "ExecuteTime": {
     "end_time": "2024-10-24T02:14:41.334477Z",
     "start_time": "2024-10-24T02:14:41.331145Z"
    }
   },
   "cell_type": "code",
   "source": "",
   "id": "c86d65717e93c8d0",
   "outputs": [],
   "execution_count": null
  }
 ],
 "metadata": {
  "kernelspec": {
   "display_name": "Python 3",
   "language": "python",
   "name": "python3"
  },
  "language_info": {
   "codemirror_mode": {
    "name": "ipython",
    "version": 2
   },
   "file_extension": ".py",
   "mimetype": "text/x-python",
   "name": "python",
   "nbconvert_exporter": "python",
   "pygments_lexer": "ipython2",
   "version": "2.7.6"
  }
 },
 "nbformat": 4,
 "nbformat_minor": 5
}
