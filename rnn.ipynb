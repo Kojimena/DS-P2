{
 "cells": [
  {
   "cell_type": "code",
   "execution_count": 1,
   "id": "initial_id",
   "metadata": {
    "ExecuteTime": {
     "end_time": "2024-10-24T02:23:31.031884Z",
     "start_time": "2024-10-24T02:23:31.027562Z"
    },
    "collapsed": true
   },
   "outputs": [],
   "source": [
    "import numpy as np\n",
    "import pandas as pd\n",
    "\n",
    "from sklearn.model_selection import train_test_split"
   ]
  },
  {
   "cell_type": "code",
   "execution_count": 2,
   "id": "f39e8e46aabfd718",
   "metadata": {
    "ExecuteTime": {
     "end_time": "2024-10-24T02:23:31.044660Z",
     "start_time": "2024-10-24T02:23:31.031884Z"
    }
   },
   "outputs": [],
   "source": [
    "from tensorflow.keras.preprocessing.text import Tokenizer\n",
    "from tensorflow.keras.preprocessing.sequence import pad_sequences"
   ]
  },
  {
   "cell_type": "code",
   "execution_count": 3,
   "id": "661eba0922649bb9",
   "metadata": {
    "ExecuteTime": {
     "end_time": "2024-10-24T02:23:31.118434Z",
     "start_time": "2024-10-24T02:23:31.067697Z"
    }
   },
   "outputs": [
    {
     "data": {
      "text/html": [
       "<div>\n",
       "<style scoped>\n",
       "    .dataframe tbody tr th:only-of-type {\n",
       "        vertical-align: middle;\n",
       "    }\n",
       "\n",
       "    .dataframe tbody tr th {\n",
       "        vertical-align: top;\n",
       "    }\n",
       "\n",
       "    .dataframe thead th {\n",
       "        text-align: right;\n",
       "    }\n",
       "</style>\n",
       "<table border=\"1\" class=\"dataframe\">\n",
       "  <thead>\n",
       "    <tr style=\"text-align: right;\">\n",
       "      <th></th>\n",
       "      <th>student_id</th>\n",
       "      <th>prompt_id</th>\n",
       "      <th>text</th>\n",
       "      <th>content</th>\n",
       "      <th>wording</th>\n",
       "      <th>prompt_question</th>\n",
       "      <th>prompt_title</th>\n",
       "      <th>prompt_text</th>\n",
       "      <th>text_length</th>\n",
       "      <th>word_count</th>\n",
       "      <th>number_count</th>\n",
       "      <th>punctuation_count</th>\n",
       "      <th>stopword_count</th>\n",
       "    </tr>\n",
       "  </thead>\n",
       "  <tbody>\n",
       "    <tr>\n",
       "      <th>0</th>\n",
       "      <td>000e8c3c7ddb</td>\n",
       "      <td>814d6b</td>\n",
       "      <td>The third wave was an experimentto see how peo...</td>\n",
       "      <td>0.205683</td>\n",
       "      <td>0.380538</td>\n",
       "      <td>Summarize how the Third Wave developed over su...</td>\n",
       "      <td>The Third Wave</td>\n",
       "      <td>Background \\r\\nThe Third Wave ex...</td>\n",
       "      <td>346</td>\n",
       "      <td>61</td>\n",
       "      <td>0</td>\n",
       "      <td>3</td>\n",
       "      <td>21</td>\n",
       "    </tr>\n",
       "    <tr>\n",
       "      <th>1</th>\n",
       "      <td>0070c9e7af47</td>\n",
       "      <td>814d6b</td>\n",
       "      <td>The Third Wave developed  rapidly because the ...</td>\n",
       "      <td>3.272894</td>\n",
       "      <td>3.219757</td>\n",
       "      <td>Summarize how the Third Wave developed over su...</td>\n",
       "      <td>The Third Wave</td>\n",
       "      <td>Background \\r\\nThe Third Wave ex...</td>\n",
       "      <td>1225</td>\n",
       "      <td>203</td>\n",
       "      <td>3</td>\n",
       "      <td>29</td>\n",
       "      <td>79</td>\n",
       "    </tr>\n",
       "    <tr>\n",
       "      <th>2</th>\n",
       "      <td>0095993991fe</td>\n",
       "      <td>814d6b</td>\n",
       "      <td>The third wave only started as an experiment w...</td>\n",
       "      <td>0.205683</td>\n",
       "      <td>0.380538</td>\n",
       "      <td>Summarize how the Third Wave developed over su...</td>\n",
       "      <td>The Third Wave</td>\n",
       "      <td>Background \\r\\nThe Third Wave ex...</td>\n",
       "      <td>345</td>\n",
       "      <td>60</td>\n",
       "      <td>0</td>\n",
       "      <td>9</td>\n",
       "      <td>24</td>\n",
       "    </tr>\n",
       "    <tr>\n",
       "      <th>3</th>\n",
       "      <td>00c20c6ddd23</td>\n",
       "      <td>814d6b</td>\n",
       "      <td>The experimen was orginally about how even whe...</td>\n",
       "      <td>0.567975</td>\n",
       "      <td>0.969062</td>\n",
       "      <td>Summarize how the Third Wave developed over su...</td>\n",
       "      <td>The Third Wave</td>\n",
       "      <td>Background \\r\\nThe Third Wave ex...</td>\n",
       "      <td>451</td>\n",
       "      <td>76</td>\n",
       "      <td>0</td>\n",
       "      <td>10</td>\n",
       "      <td>33</td>\n",
       "    </tr>\n",
       "    <tr>\n",
       "      <th>4</th>\n",
       "      <td>00d40ad10dc9</td>\n",
       "      <td>814d6b</td>\n",
       "      <td>The third wave developed so quickly due to the...</td>\n",
       "      <td>-0.910596</td>\n",
       "      <td>-0.081769</td>\n",
       "      <td>Summarize how the Third Wave developed over su...</td>\n",
       "      <td>The Third Wave</td>\n",
       "      <td>Background \\r\\nThe Third Wave ex...</td>\n",
       "      <td>145</td>\n",
       "      <td>27</td>\n",
       "      <td>0</td>\n",
       "      <td>2</td>\n",
       "      <td>10</td>\n",
       "    </tr>\n",
       "  </tbody>\n",
       "</table>\n",
       "</div>"
      ],
      "text/plain": [
       "     student_id prompt_id                                               text  \\\n",
       "0  000e8c3c7ddb    814d6b  The third wave was an experimentto see how peo...   \n",
       "1  0070c9e7af47    814d6b  The Third Wave developed  rapidly because the ...   \n",
       "2  0095993991fe    814d6b  The third wave only started as an experiment w...   \n",
       "3  00c20c6ddd23    814d6b  The experimen was orginally about how even whe...   \n",
       "4  00d40ad10dc9    814d6b  The third wave developed so quickly due to the...   \n",
       "\n",
       "    content   wording                                    prompt_question  \\\n",
       "0  0.205683  0.380538  Summarize how the Third Wave developed over su...   \n",
       "1  3.272894  3.219757  Summarize how the Third Wave developed over su...   \n",
       "2  0.205683  0.380538  Summarize how the Third Wave developed over su...   \n",
       "3  0.567975  0.969062  Summarize how the Third Wave developed over su...   \n",
       "4 -0.910596 -0.081769  Summarize how the Third Wave developed over su...   \n",
       "\n",
       "     prompt_title                          prompt_text  text_length  \\\n",
       "0  The Third Wave  Background \\r\\nThe Third Wave ex...          346   \n",
       "1  The Third Wave  Background \\r\\nThe Third Wave ex...         1225   \n",
       "2  The Third Wave  Background \\r\\nThe Third Wave ex...          345   \n",
       "3  The Third Wave  Background \\r\\nThe Third Wave ex...          451   \n",
       "4  The Third Wave  Background \\r\\nThe Third Wave ex...          145   \n",
       "\n",
       "   word_count  number_count  punctuation_count  stopword_count  \n",
       "0          61             0                  3              21  \n",
       "1         203             3                 29              79  \n",
       "2          60             0                  9              24  \n",
       "3          76             0                 10              33  \n",
       "4          27             0                  2              10  "
      ]
     },
     "execution_count": 3,
     "metadata": {},
     "output_type": "execute_result"
    }
   ],
   "source": [
    "data = pd.read_csv('data/Finaltrain.csv')\n",
    "data.head()"
   ]
  },
  {
   "cell_type": "code",
   "execution_count": 4,
   "id": "b04d5a0f2c2bb168",
   "metadata": {
    "ExecuteTime": {
     "end_time": "2024-10-24T02:23:31.175681Z",
     "start_time": "2024-10-24T02:23:31.167766Z"
    }
   },
   "outputs": [
    {
     "data": {
      "text/html": [
       "<div>\n",
       "<style scoped>\n",
       "    .dataframe tbody tr th:only-of-type {\n",
       "        vertical-align: middle;\n",
       "    }\n",
       "\n",
       "    .dataframe tbody tr th {\n",
       "        vertical-align: top;\n",
       "    }\n",
       "\n",
       "    .dataframe thead th {\n",
       "        text-align: right;\n",
       "    }\n",
       "</style>\n",
       "<table border=\"1\" class=\"dataframe\">\n",
       "  <thead>\n",
       "    <tr style=\"text-align: right;\">\n",
       "      <th></th>\n",
       "      <th>student_id</th>\n",
       "      <th>prompt_id</th>\n",
       "      <th>text</th>\n",
       "      <th>content</th>\n",
       "      <th>wording</th>\n",
       "      <th>prompt_question</th>\n",
       "      <th>prompt_title</th>\n",
       "      <th>prompt_text</th>\n",
       "      <th>text_length</th>\n",
       "      <th>word_count</th>\n",
       "      <th>number_count</th>\n",
       "      <th>punctuation_count</th>\n",
       "      <th>stopword_count</th>\n",
       "    </tr>\n",
       "  </thead>\n",
       "  <tbody>\n",
       "    <tr>\n",
       "      <th>0</th>\n",
       "      <td>a2f227aaba7c</td>\n",
       "      <td>3b9047</td>\n",
       "      <td>the article by USthistory.org, \"egyptian socia...</td>\n",
       "      <td>0.985008</td>\n",
       "      <td>0.623245</td>\n",
       "      <td>In complete sentences, summarize the structure...</td>\n",
       "      <td>Egyptian Social Structure</td>\n",
       "      <td>Egyptian society was structure...</td>\n",
       "      <td>584</td>\n",
       "      <td>87</td>\n",
       "      <td>0</td>\n",
       "      <td>29</td>\n",
       "      <td>38</td>\n",
       "    </tr>\n",
       "    <tr>\n",
       "      <th>1</th>\n",
       "      <td>55c7b370c59c</td>\n",
       "      <td>3b9047</td>\n",
       "      <td>Egyptian society had different social classes ...</td>\n",
       "      <td>0.376374</td>\n",
       "      <td>0.463619</td>\n",
       "      <td>In complete sentences, summarize the structure...</td>\n",
       "      <td>Egyptian Social Structure</td>\n",
       "      <td>Egyptian society was structure...</td>\n",
       "      <td>497</td>\n",
       "      <td>81</td>\n",
       "      <td>0</td>\n",
       "      <td>10</td>\n",
       "      <td>39</td>\n",
       "    </tr>\n",
       "    <tr>\n",
       "      <th>2</th>\n",
       "      <td>bd686f1a1833</td>\n",
       "      <td>3b9047</td>\n",
       "      <td>The structure of the ancient Egyptain system o...</td>\n",
       "      <td>1.648853</td>\n",
       "      <td>1.171598</td>\n",
       "      <td>In complete sentences, summarize the structure...</td>\n",
       "      <td>Egyptian Social Structure</td>\n",
       "      <td>Egyptian society was structure...</td>\n",
       "      <td>1324</td>\n",
       "      <td>248</td>\n",
       "      <td>0</td>\n",
       "      <td>35</td>\n",
       "      <td>128</td>\n",
       "    </tr>\n",
       "    <tr>\n",
       "      <th>3</th>\n",
       "      <td>fd3f139ec5d2</td>\n",
       "      <td>3b9047</td>\n",
       "      <td>Egytian society was structured like a pyramid....</td>\n",
       "      <td>-0.093814</td>\n",
       "      <td>0.503833</td>\n",
       "      <td>In complete sentences, summarize the structure...</td>\n",
       "      <td>Egyptian Social Structure</td>\n",
       "      <td>Egyptian society was structure...</td>\n",
       "      <td>269</td>\n",
       "      <td>43</td>\n",
       "      <td>0</td>\n",
       "      <td>5</td>\n",
       "      <td>18</td>\n",
       "    </tr>\n",
       "    <tr>\n",
       "      <th>4</th>\n",
       "      <td>129d44b40916</td>\n",
       "      <td>3b9047</td>\n",
       "      <td>because acient eygpt fought for there country ...</td>\n",
       "      <td>-1.547163</td>\n",
       "      <td>-1.461245</td>\n",
       "      <td>In complete sentences, summarize the structure...</td>\n",
       "      <td>Egyptian Social Structure</td>\n",
       "      <td>Egyptian society was structure...</td>\n",
       "      <td>171</td>\n",
       "      <td>27</td>\n",
       "      <td>0</td>\n",
       "      <td>0</td>\n",
       "      <td>12</td>\n",
       "    </tr>\n",
       "  </tbody>\n",
       "</table>\n",
       "</div>"
      ],
      "text/plain": [
       "     student_id prompt_id                                               text  \\\n",
       "0  a2f227aaba7c    3b9047  the article by USthistory.org, \"egyptian socia...   \n",
       "1  55c7b370c59c    3b9047  Egyptian society had different social classes ...   \n",
       "2  bd686f1a1833    3b9047  The structure of the ancient Egyptain system o...   \n",
       "3  fd3f139ec5d2    3b9047  Egytian society was structured like a pyramid....   \n",
       "4  129d44b40916    3b9047  because acient eygpt fought for there country ...   \n",
       "\n",
       "    content   wording                                    prompt_question  \\\n",
       "0  0.985008  0.623245  In complete sentences, summarize the structure...   \n",
       "1  0.376374  0.463619  In complete sentences, summarize the structure...   \n",
       "2  1.648853  1.171598  In complete sentences, summarize the structure...   \n",
       "3 -0.093814  0.503833  In complete sentences, summarize the structure...   \n",
       "4 -1.547163 -1.461245  In complete sentences, summarize the structure...   \n",
       "\n",
       "                prompt_title                        prompt_text  text_length  \\\n",
       "0  Egyptian Social Structure  Egyptian society was structure...          584   \n",
       "1  Egyptian Social Structure  Egyptian society was structure...          497   \n",
       "2  Egyptian Social Structure  Egyptian society was structure...         1324   \n",
       "3  Egyptian Social Structure  Egyptian society was structure...          269   \n",
       "4  Egyptian Social Structure  Egyptian society was structure...          171   \n",
       "\n",
       "   word_count  number_count  punctuation_count  stopword_count  \n",
       "0          87             0                 29              38  \n",
       "1          81             0                 10              39  \n",
       "2         248             0                 35             128  \n",
       "3          43             0                  5              18  \n",
       "4          27             0                  0              12  "
      ]
     },
     "execution_count": 4,
     "metadata": {},
     "output_type": "execute_result"
    }
   ],
   "source": [
    "# randomize data\n",
    "data = data.sample(frac=1).reset_index(drop=True) # Mezclar los datos\n",
    "\n",
    "data.head()"
   ]
  },
  {
   "cell_type": "markdown",
   "id": "8da3a2a8a8271049",
   "metadata": {},
   "source": [
    "## Preprocesamiento"
   ]
  },
  {
   "cell_type": "code",
   "execution_count": 5,
   "id": "72e3c21973aecca2",
   "metadata": {
    "ExecuteTime": {
     "end_time": "2024-10-24T02:23:31.238240Z",
     "start_time": "2024-10-24T02:23:31.227131Z"
    }
   },
   "outputs": [
    {
     "data": {
      "text/html": [
       "<div>\n",
       "<style scoped>\n",
       "    .dataframe tbody tr th:only-of-type {\n",
       "        vertical-align: middle;\n",
       "    }\n",
       "\n",
       "    .dataframe tbody tr th {\n",
       "        vertical-align: top;\n",
       "    }\n",
       "\n",
       "    .dataframe thead th {\n",
       "        text-align: right;\n",
       "    }\n",
       "</style>\n",
       "<table border=\"1\" class=\"dataframe\">\n",
       "  <thead>\n",
       "    <tr style=\"text-align: right;\">\n",
       "      <th></th>\n",
       "      <th>student_id</th>\n",
       "      <th>prompt_id</th>\n",
       "      <th>text</th>\n",
       "      <th>content</th>\n",
       "      <th>wording</th>\n",
       "      <th>prompt_question</th>\n",
       "      <th>prompt_title</th>\n",
       "      <th>prompt_text</th>\n",
       "      <th>text_length</th>\n",
       "      <th>word_count</th>\n",
       "      <th>number_count</th>\n",
       "      <th>punctuation_count</th>\n",
       "      <th>stopword_count</th>\n",
       "    </tr>\n",
       "  </thead>\n",
       "  <tbody>\n",
       "    <tr>\n",
       "      <th>0</th>\n",
       "      <td>a2f227aaba7c</td>\n",
       "      <td>3b9047</td>\n",
       "      <td>the article by USthistory.org, \"egyptian socia...</td>\n",
       "      <td>0.985008</td>\n",
       "      <td>0.623245</td>\n",
       "      <td>In complete sentences, summarize the structure...</td>\n",
       "      <td>Egyptian Social Structure</td>\n",
       "      <td>Egyptian society was structure...</td>\n",
       "      <td>0.122844</td>\n",
       "      <td>0.1040</td>\n",
       "      <td>0.0</td>\n",
       "      <td>0.184713</td>\n",
       "      <td>0.127517</td>\n",
       "    </tr>\n",
       "    <tr>\n",
       "      <th>1</th>\n",
       "      <td>55c7b370c59c</td>\n",
       "      <td>3b9047</td>\n",
       "      <td>Egyptian society had different social classes ...</td>\n",
       "      <td>0.376374</td>\n",
       "      <td>0.463619</td>\n",
       "      <td>In complete sentences, summarize the structure...</td>\n",
       "      <td>Egyptian Social Structure</td>\n",
       "      <td>Egyptian society was structure...</td>\n",
       "      <td>0.100105</td>\n",
       "      <td>0.0944</td>\n",
       "      <td>0.0</td>\n",
       "      <td>0.063694</td>\n",
       "      <td>0.130872</td>\n",
       "    </tr>\n",
       "    <tr>\n",
       "      <th>2</th>\n",
       "      <td>bd686f1a1833</td>\n",
       "      <td>3b9047</td>\n",
       "      <td>The structure of the ancient Egyptain system o...</td>\n",
       "      <td>1.648853</td>\n",
       "      <td>1.171598</td>\n",
       "      <td>In complete sentences, summarize the structure...</td>\n",
       "      <td>Egyptian Social Structure</td>\n",
       "      <td>Egyptian society was structure...</td>\n",
       "      <td>0.316257</td>\n",
       "      <td>0.3616</td>\n",
       "      <td>0.0</td>\n",
       "      <td>0.222930</td>\n",
       "      <td>0.429530</td>\n",
       "    </tr>\n",
       "    <tr>\n",
       "      <th>3</th>\n",
       "      <td>fd3f139ec5d2</td>\n",
       "      <td>3b9047</td>\n",
       "      <td>Egytian society was structured like a pyramid....</td>\n",
       "      <td>-0.093814</td>\n",
       "      <td>0.503833</td>\n",
       "      <td>In complete sentences, summarize the structure...</td>\n",
       "      <td>Egyptian Social Structure</td>\n",
       "      <td>Egyptian society was structure...</td>\n",
       "      <td>0.040512</td>\n",
       "      <td>0.0336</td>\n",
       "      <td>0.0</td>\n",
       "      <td>0.031847</td>\n",
       "      <td>0.060403</td>\n",
       "    </tr>\n",
       "    <tr>\n",
       "      <th>4</th>\n",
       "      <td>129d44b40916</td>\n",
       "      <td>3b9047</td>\n",
       "      <td>because acient eygpt fought for there country ...</td>\n",
       "      <td>-1.547163</td>\n",
       "      <td>-1.461245</td>\n",
       "      <td>In complete sentences, summarize the structure...</td>\n",
       "      <td>Egyptian Social Structure</td>\n",
       "      <td>Egyptian society was structure...</td>\n",
       "      <td>0.014898</td>\n",
       "      <td>0.0080</td>\n",
       "      <td>0.0</td>\n",
       "      <td>0.000000</td>\n",
       "      <td>0.040268</td>\n",
       "    </tr>\n",
       "  </tbody>\n",
       "</table>\n",
       "</div>"
      ],
      "text/plain": [
       "     student_id prompt_id                                               text  \\\n",
       "0  a2f227aaba7c    3b9047  the article by USthistory.org, \"egyptian socia...   \n",
       "1  55c7b370c59c    3b9047  Egyptian society had different social classes ...   \n",
       "2  bd686f1a1833    3b9047  The structure of the ancient Egyptain system o...   \n",
       "3  fd3f139ec5d2    3b9047  Egytian society was structured like a pyramid....   \n",
       "4  129d44b40916    3b9047  because acient eygpt fought for there country ...   \n",
       "\n",
       "    content   wording                                    prompt_question  \\\n",
       "0  0.985008  0.623245  In complete sentences, summarize the structure...   \n",
       "1  0.376374  0.463619  In complete sentences, summarize the structure...   \n",
       "2  1.648853  1.171598  In complete sentences, summarize the structure...   \n",
       "3 -0.093814  0.503833  In complete sentences, summarize the structure...   \n",
       "4 -1.547163 -1.461245  In complete sentences, summarize the structure...   \n",
       "\n",
       "                prompt_title                        prompt_text  text_length  \\\n",
       "0  Egyptian Social Structure  Egyptian society was structure...     0.122844   \n",
       "1  Egyptian Social Structure  Egyptian society was structure...     0.100105   \n",
       "2  Egyptian Social Structure  Egyptian society was structure...     0.316257   \n",
       "3  Egyptian Social Structure  Egyptian society was structure...     0.040512   \n",
       "4  Egyptian Social Structure  Egyptian society was structure...     0.014898   \n",
       "\n",
       "   word_count  number_count  punctuation_count  stopword_count  \n",
       "0      0.1040           0.0           0.184713        0.127517  \n",
       "1      0.0944           0.0           0.063694        0.130872  \n",
       "2      0.3616           0.0           0.222930        0.429530  \n",
       "3      0.0336           0.0           0.031847        0.060403  \n",
       "4      0.0080           0.0           0.000000        0.040268  "
      ]
     },
     "execution_count": 5,
     "metadata": {},
     "output_type": "execute_result"
    }
   ],
   "source": [
    "# normalizar variables numéricas\n",
    "from sklearn.preprocessing import MinMaxScaler\n",
    "\n",
    "scaler = MinMaxScaler()\n",
    "data[['text_length', 'word_count', 'number_count', 'punctuation_count', 'stopword_count']] = scaler.fit_transform(data[['text_length', 'word_count', 'number_count', 'punctuation_count', 'stopword_count']])\n",
    "\n",
    "data.head()"
   ]
  },
  {
   "cell_type": "code",
   "execution_count": 6,
   "id": "92933c854c485bc4",
   "metadata": {
    "ExecuteTime": {
     "end_time": "2024-10-24T02:23:31.588010Z",
     "start_time": "2024-10-24T02:23:31.333570Z"
    }
   },
   "outputs": [],
   "source": [
    "tokenizer = Tokenizer(num_words=10000)  # Limitar a las 10,000 palabras más comunes\n",
    "tokenizer.fit_on_texts(data['text'] + ' ' + data['prompt_text'])"
   ]
  },
  {
   "cell_type": "code",
   "execution_count": 7,
   "id": "d73b624270e1e5",
   "metadata": {
    "ExecuteTime": {
     "end_time": "2024-10-24T02:23:31.784728Z",
     "start_time": "2024-10-24T02:23:31.613429Z"
    }
   },
   "outputs": [],
   "source": [
    "sequences = tokenizer.texts_to_sequences(data['text'] + ' ' + data['prompt_text'])"
   ]
  },
  {
   "cell_type": "code",
   "execution_count": 8,
   "id": "e4cbb7cf0f66eef1",
   "metadata": {
    "ExecuteTime": {
     "end_time": "2024-10-24T02:23:31.841849Z",
     "start_time": "2024-10-24T02:23:31.815385Z"
    }
   },
   "outputs": [],
   "source": [
    "maxlen = 200  # Puedes ajustar este valor según la longitud promedio\n",
    "X = pad_sequences(sequences, maxlen=maxlen)"
   ]
  },
  {
   "cell_type": "code",
   "execution_count": 9,
   "id": "68b936b668663865",
   "metadata": {
    "ExecuteTime": {
     "end_time": "2024-10-24T02:23:31.850074Z",
     "start_time": "2024-10-24T02:23:31.841849Z"
    }
   },
   "outputs": [],
   "source": [
    "# Combinar las etiquetas en una matriz\n",
    "y = data[['content', 'wording']].values\n",
    "\n",
    "# Dividir los datos en entrenamiento y prueba\n",
    "X_train, X_test, y_train, y_test = train_test_split(X, y, test_size=0.2, random_state=42)"
   ]
  },
  {
   "cell_type": "code",
   "execution_count": 10,
   "id": "1331bf5d4844055d",
   "metadata": {
    "ExecuteTime": {
     "end_time": "2024-10-24T02:23:31.876348Z",
     "start_time": "2024-10-24T02:23:31.872382Z"
    }
   },
   "outputs": [],
   "source": [
    "# Separar las etiquetas después de la división\n",
    "y_content_train = y_train[:, 0]\n",
    "y_wording_train = y_train[:, 1]\n",
    "y_content_test = y_test[:, 0]\n",
    "y_wording_test = y_test[:,1]"
   ]
  },
  {
   "cell_type": "markdown",
   "id": "428a02fad50d9e68",
   "metadata": {},
   "source": [
    "## RNN"
   ]
  },
  {
   "cell_type": "code",
   "execution_count": 11,
   "id": "733c12f5c9ba4e24",
   "metadata": {
    "ExecuteTime": {
     "end_time": "2024-10-24T02:23:31.900973Z",
     "start_time": "2024-10-24T02:23:31.898221Z"
    }
   },
   "outputs": [],
   "source": [
    "from tensorflow.keras.models import Model\n",
    "from tensorflow.keras.layers import Input, Embedding, LSTM, Dense, Dropout\n"
   ]
  },
  {
   "cell_type": "code",
   "execution_count": 12,
   "id": "481ee8e748cf23d4",
   "metadata": {
    "ExecuteTime": {
     "end_time": "2024-10-24T02:23:31.985090Z",
     "start_time": "2024-10-24T02:23:31.925851Z"
    }
   },
   "outputs": [],
   "source": [
    "input_ = Input(shape=(maxlen,))\n",
    "\n",
    "x = Embedding(input_dim=10000, output_dim=128, input_length=maxlen)(input_)\n",
    "\n",
    "x = LSTM(256, return_sequences=True)(x)\n",
    "x = Dropout(0.5)(x)\n",
    "x = LSTM(128, return_sequences=True)(x)\n",
    "x = Dropout(0.5)(x)\n",
    "x = LSTM(64, return_sequences=False)(x)\n",
    "x = Dense(64, activation='relu')(x)\n",
    "x = Dropout(0.5)(x)\n",
    "x = Dense(32, activation='relu')(x)"
   ]
  },
  {
   "cell_type": "code",
   "execution_count": 13,
   "id": "6d59c81b315c82da",
   "metadata": {
    "ExecuteTime": {
     "end_time": "2024-10-24T02:23:32.019148Z",
     "start_time": "2024-10-24T02:23:32.009983Z"
    }
   },
   "outputs": [],
   "source": [
    "# Predicción de content\n",
    "content_output = Dense(1, activation='linear', name='content')(x)\n",
    "\n",
    "# Predicción de wording\n",
    "wording_output = Dense(1, activation='linear', name='wording')(x)"
   ]
  },
  {
   "cell_type": "code",
   "execution_count": null,
   "id": "ae8ca111801ec0f0",
   "metadata": {
    "ExecuteTime": {
     "end_time": "2024-10-24T02:23:32.044817Z",
     "start_time": "2024-10-24T02:23:32.041771Z"
    }
   },
   "outputs": [],
   "source": [
    "optimizer = 'adam'\n",
    "loss = 'mean_squared_error'\n",
    "metrics = {\n",
    "    'content': ['mae'],   # Métrica para la salida 'content'\n",
    "    'wording': ['mae']    # Métrica para la salida 'wording'\n",
    "}\n",
    "epochs = 15\n",
    "batch_size = 256\n"
   ]
  },
  {
   "cell_type": "code",
   "execution_count": 15,
   "id": "fb53f9f3baf2a741",
   "metadata": {
    "ExecuteTime": {
     "end_time": "2024-10-24T02:23:32.071275Z",
     "start_time": "2024-10-24T02:23:32.067118Z"
    }
   },
   "outputs": [],
   "source": [
    "from tensorflow.keras.callbacks import EarlyStopping\n",
    "\n",
    "early_stopping = EarlyStopping(\n",
    "    monitor='val_loss',\n",
    "    patience=3,\n",
    "    restore_best_weights=True\n",
    ")"
   ]
  },
  {
   "cell_type": "code",
   "execution_count": 16,
   "id": "316122613939525e",
   "metadata": {
    "ExecuteTime": {
     "end_time": "2024-10-24T02:23:32.100619Z",
     "start_time": "2024-10-24T02:23:32.093874Z"
    }
   },
   "outputs": [],
   "source": [
    "model = Model(inputs=input_, outputs=[content_output, wording_output])\n",
    "model.compile(optimizer=optimizer, loss=loss, metrics=metrics)"
   ]
  },
  {
   "cell_type": "code",
   "execution_count": 17,
   "id": "8d9f7efbfc6ae07",
   "metadata": {
    "ExecuteTime": {
     "end_time": "2024-10-24T02:23:32.136879Z",
     "start_time": "2024-10-24T02:23:32.124219Z"
    }
   },
   "outputs": [
    {
     "name": "stdout",
     "output_type": "stream",
     "text": [
      "Model: \"model\"\n",
      "__________________________________________________________________________________________________\n",
      " Layer (type)                   Output Shape         Param #     Connected to                     \n",
      "==================================================================================================\n",
      " input_1 (InputLayer)           [(None, 200)]        0           []                               \n",
      "                                                                                                  \n",
      " embedding (Embedding)          (None, 200, 128)     1280000     ['input_1[0][0]']                \n",
      "                                                                                                  \n",
      " lstm (LSTM)                    (None, 200, 256)     394240      ['embedding[0][0]']              \n",
      "                                                                                                  \n",
      " dropout (Dropout)              (None, 200, 256)     0           ['lstm[0][0]']                   \n",
      "                                                                                                  \n",
      " lstm_1 (LSTM)                  (None, 200, 128)     197120      ['dropout[0][0]']                \n",
      "                                                                                                  \n",
      " dropout_1 (Dropout)            (None, 200, 128)     0           ['lstm_1[0][0]']                 \n",
      "                                                                                                  \n",
      " lstm_2 (LSTM)                  (None, 64)           49408       ['dropout_1[0][0]']              \n",
      "                                                                                                  \n",
      " dense (Dense)                  (None, 64)           4160        ['lstm_2[0][0]']                 \n",
      "                                                                                                  \n",
      " dropout_2 (Dropout)            (None, 64)           0           ['dense[0][0]']                  \n",
      "                                                                                                  \n",
      " dense_1 (Dense)                (None, 32)           2080        ['dropout_2[0][0]']              \n",
      "                                                                                                  \n",
      " content (Dense)                (None, 1)            33          ['dense_1[0][0]']                \n",
      "                                                                                                  \n",
      " wording (Dense)                (None, 1)            33          ['dense_1[0][0]']                \n",
      "                                                                                                  \n",
      "==================================================================================================\n",
      "Total params: 1,927,074\n",
      "Trainable params: 1,927,074\n",
      "Non-trainable params: 0\n",
      "__________________________________________________________________________________________________\n"
     ]
    }
   ],
   "source": [
    "model.summary()"
   ]
  },
  {
   "cell_type": "code",
   "execution_count": 18,
   "id": "f9a5dc831d140084",
   "metadata": {
    "ExecuteTime": {
     "end_time": "2024-10-24T02:29:57.630091Z",
     "start_time": "2024-10-24T02:23:32.161507Z"
    }
   },
   "outputs": [
    {
     "name": "stdout",
     "output_type": "stream",
     "text": [
      "Epoch 1/15\n"
     ]
    },
    {
     "ename": "ValueError",
     "evalue": "in user code:\n\n    File \"c:\\Users\\Alejandro\\.conda\\envs\\tf\\lib\\site-packages\\keras\\engine\\training.py\", line 1160, in train_function  *\n        return step_function(self, iterator)\n    File \"c:\\Users\\Alejandro\\.conda\\envs\\tf\\lib\\site-packages\\keras\\engine\\training.py\", line 1146, in step_function  **\n        outputs = model.distribute_strategy.run(run_step, args=(data,))\n    File \"c:\\Users\\Alejandro\\.conda\\envs\\tf\\lib\\site-packages\\keras\\engine\\training.py\", line 1135, in run_step  **\n        outputs = model.train_step(data)\n    File \"c:\\Users\\Alejandro\\.conda\\envs\\tf\\lib\\site-packages\\keras\\engine\\training.py\", line 998, in train_step\n        return self.compute_metrics(x, y, y_pred, sample_weight)\n    File \"c:\\Users\\Alejandro\\.conda\\envs\\tf\\lib\\site-packages\\keras\\engine\\training.py\", line 1092, in compute_metrics\n        self.compiled_metrics.update_state(y, y_pred, sample_weight)\n    File \"c:\\Users\\Alejandro\\.conda\\envs\\tf\\lib\\site-packages\\keras\\engine\\compile_utils.py\", line 577, in update_state\n        self.build(y_pred, y_true)\n    File \"c:\\Users\\Alejandro\\.conda\\envs\\tf\\lib\\site-packages\\keras\\engine\\compile_utils.py\", line 506, in build\n        self._set_metric_names()\n    File \"c:\\Users\\Alejandro\\.conda\\envs\\tf\\lib\\site-packages\\keras\\engine\\compile_utils.py\", line 532, in _set_metric_names\n        raise ValueError(\n\n    ValueError: Found two metrics with the same name: content_mae. All the metrics added to the model need to have unique names.\n",
     "output_type": "error",
     "traceback": [
      "\u001b[1;31m---------------------------------------------------------------------------\u001b[0m",
      "\u001b[1;31mValueError\u001b[0m                                Traceback (most recent call last)",
      "Cell \u001b[1;32mIn[18], line 1\u001b[0m\n\u001b[1;32m----> 1\u001b[0m history \u001b[38;5;241m=\u001b[39m \u001b[43mmodel\u001b[49m\u001b[38;5;241;43m.\u001b[39;49m\u001b[43mfit\u001b[49m\u001b[43m(\u001b[49m\n\u001b[0;32m      2\u001b[0m \u001b[43m    \u001b[49m\u001b[43mX_train\u001b[49m\u001b[43m,\u001b[49m\u001b[43m \u001b[49m\n\u001b[0;32m      3\u001b[0m \u001b[43m    \u001b[49m\u001b[43m[\u001b[49m\u001b[43my_content_train\u001b[49m\u001b[43m,\u001b[49m\u001b[43m \u001b[49m\u001b[43my_wording_train\u001b[49m\u001b[43m]\u001b[49m\u001b[43m,\u001b[49m\u001b[43m \u001b[49m\n\u001b[0;32m      4\u001b[0m \u001b[43m    \u001b[49m\u001b[43mvalidation_data\u001b[49m\u001b[38;5;241;43m=\u001b[39;49m\u001b[43m(\u001b[49m\u001b[43mX_test\u001b[49m\u001b[43m,\u001b[49m\u001b[43m \u001b[49m\u001b[43m[\u001b[49m\u001b[43my_content_test\u001b[49m\u001b[43m,\u001b[49m\u001b[43m \u001b[49m\u001b[43my_wording_test\u001b[49m\u001b[43m]\u001b[49m\u001b[43m)\u001b[49m\u001b[43m,\u001b[49m\u001b[43m \u001b[49m\n\u001b[0;32m      5\u001b[0m \u001b[43m    \u001b[49m\u001b[43mepochs\u001b[49m\u001b[38;5;241;43m=\u001b[39;49m\u001b[43mepochs\u001b[49m\u001b[43m,\u001b[49m\n\u001b[0;32m      6\u001b[0m \u001b[43m    \u001b[49m\u001b[43mbatch_size\u001b[49m\u001b[38;5;241;43m=\u001b[39;49m\u001b[43mbatch_size\u001b[49m\u001b[43m,\u001b[49m\n\u001b[0;32m      7\u001b[0m \u001b[43m    \u001b[49m\u001b[43mcallbacks\u001b[49m\u001b[38;5;241;43m=\u001b[39;49m\u001b[43m[\u001b[49m\u001b[43mearly_stopping\u001b[49m\u001b[43m]\u001b[49m\u001b[43m,\u001b[49m\n\u001b[0;32m      8\u001b[0m \u001b[43m    \u001b[49m\u001b[43mverbose\u001b[49m\u001b[38;5;241;43m=\u001b[39;49m\u001b[38;5;241;43m2\u001b[39;49m\n\u001b[0;32m      9\u001b[0m \u001b[43m)\u001b[49m\n",
      "File \u001b[1;32mc:\\Users\\Alejandro\\.conda\\envs\\tf\\lib\\site-packages\\keras\\utils\\traceback_utils.py:70\u001b[0m, in \u001b[0;36mfilter_traceback.<locals>.error_handler\u001b[1;34m(*args, **kwargs)\u001b[0m\n\u001b[0;32m     67\u001b[0m     filtered_tb \u001b[38;5;241m=\u001b[39m _process_traceback_frames(e\u001b[38;5;241m.\u001b[39m__traceback__)\n\u001b[0;32m     68\u001b[0m     \u001b[38;5;66;03m# To get the full stack trace, call:\u001b[39;00m\n\u001b[0;32m     69\u001b[0m     \u001b[38;5;66;03m# `tf.debugging.disable_traceback_filtering()`\u001b[39;00m\n\u001b[1;32m---> 70\u001b[0m     \u001b[38;5;28;01mraise\u001b[39;00m e\u001b[38;5;241m.\u001b[39mwith_traceback(filtered_tb) \u001b[38;5;28;01mfrom\u001b[39;00m \u001b[38;5;28;01mNone\u001b[39;00m\n\u001b[0;32m     71\u001b[0m \u001b[38;5;28;01mfinally\u001b[39;00m:\n\u001b[0;32m     72\u001b[0m     \u001b[38;5;28;01mdel\u001b[39;00m filtered_tb\n",
      "File \u001b[1;32mC:\\Users\\ALEJAN~1\\AppData\\Local\\Temp\\__autograph_generated_file9wgio5e9.py:15\u001b[0m, in \u001b[0;36mouter_factory.<locals>.inner_factory.<locals>.tf__train_function\u001b[1;34m(iterator)\u001b[0m\n\u001b[0;32m     13\u001b[0m \u001b[38;5;28;01mtry\u001b[39;00m:\n\u001b[0;32m     14\u001b[0m     do_return \u001b[38;5;241m=\u001b[39m \u001b[38;5;28;01mTrue\u001b[39;00m\n\u001b[1;32m---> 15\u001b[0m     retval_ \u001b[38;5;241m=\u001b[39m ag__\u001b[38;5;241m.\u001b[39mconverted_call(ag__\u001b[38;5;241m.\u001b[39mld(step_function), (ag__\u001b[38;5;241m.\u001b[39mld(\u001b[38;5;28mself\u001b[39m), ag__\u001b[38;5;241m.\u001b[39mld(iterator)), \u001b[38;5;28;01mNone\u001b[39;00m, fscope)\n\u001b[0;32m     16\u001b[0m \u001b[38;5;28;01mexcept\u001b[39;00m:\n\u001b[0;32m     17\u001b[0m     do_return \u001b[38;5;241m=\u001b[39m \u001b[38;5;28;01mFalse\u001b[39;00m\n",
      "\u001b[1;31mValueError\u001b[0m: in user code:\n\n    File \"c:\\Users\\Alejandro\\.conda\\envs\\tf\\lib\\site-packages\\keras\\engine\\training.py\", line 1160, in train_function  *\n        return step_function(self, iterator)\n    File \"c:\\Users\\Alejandro\\.conda\\envs\\tf\\lib\\site-packages\\keras\\engine\\training.py\", line 1146, in step_function  **\n        outputs = model.distribute_strategy.run(run_step, args=(data,))\n    File \"c:\\Users\\Alejandro\\.conda\\envs\\tf\\lib\\site-packages\\keras\\engine\\training.py\", line 1135, in run_step  **\n        outputs = model.train_step(data)\n    File \"c:\\Users\\Alejandro\\.conda\\envs\\tf\\lib\\site-packages\\keras\\engine\\training.py\", line 998, in train_step\n        return self.compute_metrics(x, y, y_pred, sample_weight)\n    File \"c:\\Users\\Alejandro\\.conda\\envs\\tf\\lib\\site-packages\\keras\\engine\\training.py\", line 1092, in compute_metrics\n        self.compiled_metrics.update_state(y, y_pred, sample_weight)\n    File \"c:\\Users\\Alejandro\\.conda\\envs\\tf\\lib\\site-packages\\keras\\engine\\compile_utils.py\", line 577, in update_state\n        self.build(y_pred, y_true)\n    File \"c:\\Users\\Alejandro\\.conda\\envs\\tf\\lib\\site-packages\\keras\\engine\\compile_utils.py\", line 506, in build\n        self._set_metric_names()\n    File \"c:\\Users\\Alejandro\\.conda\\envs\\tf\\lib\\site-packages\\keras\\engine\\compile_utils.py\", line 532, in _set_metric_names\n        raise ValueError(\n\n    ValueError: Found two metrics with the same name: content_mae. All the metrics added to the model need to have unique names.\n"
     ]
    }
   ],
   "source": [
    "history = model.fit(\n",
    "    X_train, \n",
    "    [y_content_train, y_wording_train], \n",
    "    validation_data=(X_test, [y_content_test, y_wording_test]), \n",
    "    epochs=epochs,\n",
    "    batch_size=batch_size,\n",
    "    callbacks=[early_stopping],\n",
    "    verbose=2\n",
    ")"
   ]
  },
  {
   "cell_type": "code",
   "execution_count": null,
   "id": "2510069cf3548ff5",
   "metadata": {
    "ExecuteTime": {
     "end_time": "2024-10-24T02:30:01.456355Z",
     "start_time": "2024-10-24T02:29:57.654422Z"
    }
   },
   "outputs": [
    {
     "name": "stdout",
     "output_type": "stream",
     "text": [
      "\u001b[1m45/45\u001b[0m \u001b[32m━━━━━━━━━━━━━━━━━━━━\u001b[0m\u001b[37m\u001b[0m \u001b[1m4s\u001b[0m 79ms/step\n",
      "MAE content: 0.36914957907679663\n",
      "MSE content: 0.21968992671798276\n",
      "R2 content: 0.7986475444412678\n",
      "\n",
      "MAE wording: 0.5117254107471297\n",
      "MSE wording: 0.4383053175930052\n",
      "R2 wording: 0.6029726999776077\n"
     ]
    }
   ],
   "source": [
    "from sklearn.metrics import mean_absolute_error, mean_squared_error, r2_score\n",
    "\n",
    "y_content_pred, y_wording_pred = model.predict(X_test)\n",
    "\n",
    "print('MAE content:', mean_absolute_error(y_content_test, y_content_pred))\n",
    "print('MSE content:', mean_squared_error(y_content_test, y_content_pred))\n",
    "print('R2 content:', r2_score(y_content_test, y_content_pred))\n",
    "\n",
    "print('\\nMAE wording:', mean_absolute_error(y_wording_test, y_wording_pred))\n",
    "print('MSE wording:', mean_squared_error(y_wording_test, y_wording_pred))\n",
    "print('R2 wording:', r2_score(y_wording_test, y_wording_pred))"
   ]
  },
  {
   "cell_type": "markdown",
   "id": "d65110d8",
   "metadata": {},
   "source": [
    "# Guardando el modelo"
   ]
  },
  {
   "cell_type": "code",
   "execution_count": null,
   "id": "0b7aef4e",
   "metadata": {},
   "outputs": [],
   "source": [
    "model.save('rnn')"
   ]
  },
  {
   "cell_type": "code",
   "execution_count": null,
   "id": "a2aff7fe0661b72d",
   "metadata": {
    "ExecuteTime": {
     "end_time": "2024-10-24T02:30:01.487049Z",
     "start_time": "2024-10-24T02:30:01.482454Z"
    }
   },
   "outputs": [],
   "source": [
    "import matplotlib.pyplot as plt"
   ]
  },
  {
   "cell_type": "code",
   "execution_count": null,
   "id": "8d4dc17c3413a10e",
   "metadata": {
    "ExecuteTime": {
     "end_time": "2024-10-24T02:30:01.580329Z",
     "start_time": "2024-10-24T02:30:01.512076Z"
    }
   },
   "outputs": [
    {
     "data": {
      "image/png": "[encoded data removed]",
      "text/plain": [
       "<Figure size 640x480 with 1 Axes>"
      ]
     },
     "metadata": {},
     "output_type": "display_data"
    }
   ],
   "source": [
    "plt.plot(history.history['loss'])\n",
    "plt.plot(history.history['val_loss'])\n",
    "plt.title('Loss')\n",
    "plt.show()"
   ]
  },
  {
   "cell_type": "code",
   "execution_count": null,
   "id": "68530c73651230bb",
   "metadata": {
    "ExecuteTime": {
     "end_time": "2024-10-24T02:30:01.674649Z",
     "start_time": "2024-10-24T02:30:01.604867Z"
    }
   },
   "outputs": [
    {
     "data": {
      "image/png": "[encoded data removed]",
      "text/plain": [
       "<Figure size 640x480 with 1 Axes>"
      ]
     },
     "metadata": {},
     "output_type": "display_data"
    }
   ],
   "source": [
    "plt.plot(history.history['content_mae'])\n",
    "plt.plot(history.history['val_content_mae'])\n",
    "plt.title('Content MAE')\n",
    "plt.show()"
   ]
  },
  {
   "cell_type": "code",
   "execution_count": null,
   "id": "b63a5b888f5aa96a",
   "metadata": {
    "ExecuteTime": {
     "end_time": "2024-10-24T02:30:01.769082Z",
     "start_time": "2024-10-24T02:30:01.700564Z"
    }
   },
   "outputs": [
    {
     "data": {
      "image/png": "[encoded data removed]",
      "text/plain": [
       "<Figure size 640x480 with 1 Axes>"
      ]
     },
     "metadata": {},
     "output_type": "display_data"
    }
   ],
   "source": [
    "plt.plot(history.history['wording_mae'])\n",
    "plt.plot(history.history['val_wording_mae'])\n",
    "plt.title('Wording MAE')\n",
    "plt.show()"
   ]
  },
  {
   "cell_type": "markdown",
   "id": "daf391cc",
   "metadata": {},
   "source": [
    "# Cargando el modelo"
   ]
  },
  {
   "cell_type": "code",
   "execution_count": null,
   "id": "c86d65717e93c8d0",
   "metadata": {
    "ExecuteTime": {
     "end_time": "2024-10-24T02:30:01.796965Z",
     "start_time": "2024-10-24T02:30:01.794776Z"
    }
   },
   "outputs": [],
   "source": [
    "from tensorflow.keras.models import load_model\n",
    "\n",
    "model = load_model('rnn')"
   ]
  }
 ],
 "metadata": {
  "kernelspec": {
   "display_name": "tf",
   "language": "python",
   "name": "python3"
  },
  "language_info": {
   "codemirror_mode": {
    "name": "ipython",
    "version": 3
   },
   "file_extension": ".py",
   "mimetype": "text/x-python",
   "name": "python",
   "nbconvert_exporter": "python",
   "pygments_lexer": "ipython3",
   "version": "3.10.13"
  }
 },
 "nbformat": 4,
 "nbformat_minor": 5
}
