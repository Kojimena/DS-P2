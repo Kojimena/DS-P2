{
 "cells": [
  {
   "cell_type": "code",
   "id": "initial_id",
   "metadata": {
    "collapsed": true,
    "ExecuteTime": {
     "end_time": "2024-11-16T21:59:58.980805Z",
     "start_time": "2024-11-16T21:59:57.871540Z"
    }
   },
   "source": [
    "import numpy as np\n",
    "import pandas as pd\n",
    "\n",
    "from sklearn.model_selection import train_test_split"
   ],
   "outputs": [],
   "execution_count": 1
  },
  {
   "cell_type": "code",
   "id": "f39e8e46aabfd718",
   "metadata": {
    "ExecuteTime": {
     "end_time": "2024-11-16T22:00:02.589720Z",
     "start_time": "2024-11-16T21:59:58.992899Z"
    }
   },
   "source": [
    "from tensorflow.keras.preprocessing.text import Tokenizer\n",
    "from tensorflow.keras.preprocessing.sequence import pad_sequences"
   ],
   "outputs": [],
   "execution_count": 2
  },
  {
   "cell_type": "code",
   "id": "661eba0922649bb9",
   "metadata": {
    "ExecuteTime": {
     "end_time": "2024-11-16T22:00:02.922569Z",
     "start_time": "2024-11-16T22:00:02.864785Z"
    }
   },
   "source": [
    "data = pd.read_csv('data/Finaltrain.csv')\n",
    "data.head()"
   ],
   "outputs": [
    {
     "data": {
      "text/plain": [
       "     student_id prompt_id                                               text  \\\n",
       "0  000e8c3c7ddb    814d6b  The third wave was an experimentto see how peo...   \n",
       "1  0070c9e7af47    814d6b  The Third Wave developed  rapidly because the ...   \n",
       "2  0095993991fe    814d6b  The third wave only started as an experiment w...   \n",
       "3  00c20c6ddd23    814d6b  The experimen was orginally about how even whe...   \n",
       "4  00d40ad10dc9    814d6b  The third wave developed so quickly due to the...   \n",
       "\n",
       "    content   wording                                    prompt_question  \\\n",
       "0  0.205683  0.380538  Summarize how the Third Wave developed over su...   \n",
       "1  3.272894  3.219757  Summarize how the Third Wave developed over su...   \n",
       "2  0.205683  0.380538  Summarize how the Third Wave developed over su...   \n",
       "3  0.567975  0.969062  Summarize how the Third Wave developed over su...   \n",
       "4 -0.910596 -0.081769  Summarize how the Third Wave developed over su...   \n",
       "\n",
       "     prompt_title                          prompt_text  text_length  \\\n",
       "0  The Third Wave  Background \\r\\nThe Third Wave ex...          346   \n",
       "1  The Third Wave  Background \\r\\nThe Third Wave ex...         1225   \n",
       "2  The Third Wave  Background \\r\\nThe Third Wave ex...          345   \n",
       "3  The Third Wave  Background \\r\\nThe Third Wave ex...          451   \n",
       "4  The Third Wave  Background \\r\\nThe Third Wave ex...          145   \n",
       "\n",
       "   word_count  number_count  punctuation_count  stopword_count  \n",
       "0          61             0                  3              21  \n",
       "1         203             3                 29              79  \n",
       "2          60             0                  9              24  \n",
       "3          76             0                 10              33  \n",
       "4          27             0                  2              10  "
      ],
      "text/html": [
       "<div>\n",
       "<style scoped>\n",
       "    .dataframe tbody tr th:only-of-type {\n",
       "        vertical-align: middle;\n",
       "    }\n",
       "\n",
       "    .dataframe tbody tr th {\n",
       "        vertical-align: top;\n",
       "    }\n",
       "\n",
       "    .dataframe thead th {\n",
       "        text-align: right;\n",
       "    }\n",
       "</style>\n",
       "<table border=\"1\" class=\"dataframe\">\n",
       "  <thead>\n",
       "    <tr style=\"text-align: right;\">\n",
       "      <th></th>\n",
       "      <th>student_id</th>\n",
       "      <th>prompt_id</th>\n",
       "      <th>text</th>\n",
       "      <th>content</th>\n",
       "      <th>wording</th>\n",
       "      <th>prompt_question</th>\n",
       "      <th>prompt_title</th>\n",
       "      <th>prompt_text</th>\n",
       "      <th>text_length</th>\n",
       "      <th>word_count</th>\n",
       "      <th>number_count</th>\n",
       "      <th>punctuation_count</th>\n",
       "      <th>stopword_count</th>\n",
       "    </tr>\n",
       "  </thead>\n",
       "  <tbody>\n",
       "    <tr>\n",
       "      <th>0</th>\n",
       "      <td>000e8c3c7ddb</td>\n",
       "      <td>814d6b</td>\n",
       "      <td>The third wave was an experimentto see how peo...</td>\n",
       "      <td>0.205683</td>\n",
       "      <td>0.380538</td>\n",
       "      <td>Summarize how the Third Wave developed over su...</td>\n",
       "      <td>The Third Wave</td>\n",
       "      <td>Background \\r\\nThe Third Wave ex...</td>\n",
       "      <td>346</td>\n",
       "      <td>61</td>\n",
       "      <td>0</td>\n",
       "      <td>3</td>\n",
       "      <td>21</td>\n",
       "    </tr>\n",
       "    <tr>\n",
       "      <th>1</th>\n",
       "      <td>0070c9e7af47</td>\n",
       "      <td>814d6b</td>\n",
       "      <td>The Third Wave developed  rapidly because the ...</td>\n",
       "      <td>3.272894</td>\n",
       "      <td>3.219757</td>\n",
       "      <td>Summarize how the Third Wave developed over su...</td>\n",
       "      <td>The Third Wave</td>\n",
       "      <td>Background \\r\\nThe Third Wave ex...</td>\n",
       "      <td>1225</td>\n",
       "      <td>203</td>\n",
       "      <td>3</td>\n",
       "      <td>29</td>\n",
       "      <td>79</td>\n",
       "    </tr>\n",
       "    <tr>\n",
       "      <th>2</th>\n",
       "      <td>0095993991fe</td>\n",
       "      <td>814d6b</td>\n",
       "      <td>The third wave only started as an experiment w...</td>\n",
       "      <td>0.205683</td>\n",
       "      <td>0.380538</td>\n",
       "      <td>Summarize how the Third Wave developed over su...</td>\n",
       "      <td>The Third Wave</td>\n",
       "      <td>Background \\r\\nThe Third Wave ex...</td>\n",
       "      <td>345</td>\n",
       "      <td>60</td>\n",
       "      <td>0</td>\n",
       "      <td>9</td>\n",
       "      <td>24</td>\n",
       "    </tr>\n",
       "    <tr>\n",
       "      <th>3</th>\n",
       "      <td>00c20c6ddd23</td>\n",
       "      <td>814d6b</td>\n",
       "      <td>The experimen was orginally about how even whe...</td>\n",
       "      <td>0.567975</td>\n",
       "      <td>0.969062</td>\n",
       "      <td>Summarize how the Third Wave developed over su...</td>\n",
       "      <td>The Third Wave</td>\n",
       "      <td>Background \\r\\nThe Third Wave ex...</td>\n",
       "      <td>451</td>\n",
       "      <td>76</td>\n",
       "      <td>0</td>\n",
       "      <td>10</td>\n",
       "      <td>33</td>\n",
       "    </tr>\n",
       "    <tr>\n",
       "      <th>4</th>\n",
       "      <td>00d40ad10dc9</td>\n",
       "      <td>814d6b</td>\n",
       "      <td>The third wave developed so quickly due to the...</td>\n",
       "      <td>-0.910596</td>\n",
       "      <td>-0.081769</td>\n",
       "      <td>Summarize how the Third Wave developed over su...</td>\n",
       "      <td>The Third Wave</td>\n",
       "      <td>Background \\r\\nThe Third Wave ex...</td>\n",
       "      <td>145</td>\n",
       "      <td>27</td>\n",
       "      <td>0</td>\n",
       "      <td>2</td>\n",
       "      <td>10</td>\n",
       "    </tr>\n",
       "  </tbody>\n",
       "</table>\n",
       "</div>"
      ]
     },
     "execution_count": 3,
     "metadata": {},
     "output_type": "execute_result"
    }
   ],
   "execution_count": 3
  },
  {
   "cell_type": "code",
   "id": "b04d5a0f2c2bb168",
   "metadata": {
    "ExecuteTime": {
     "end_time": "2024-11-16T22:00:02.965535Z",
     "start_time": "2024-11-16T22:00:02.955350Z"
    }
   },
   "source": [
    "# randomize data\n",
    "data = data.sample(frac=1).reset_index(drop=True) # Mezclar los datos\n",
    "\n",
    "data.head()"
   ],
   "outputs": [
    {
     "data": {
      "text/plain": [
       "     student_id prompt_id                                               text  \\\n",
       "0  184dca7e24ee    3b9047   At the top were pharaohs, viziers, and scribe...   \n",
       "1  e09048fbddf2    ebad26  Workers would prepare rotten meat with better ...   \n",
       "2  b204a168d0a7    814d6b  Jones started it as an xperiment then added in...   \n",
       "3  95c8b1d33694    3b9047  In the ancient Egyptian system of government, ...   \n",
       "4  2fb4be37709b    814d6b  The purpose of the expieriment was to to show ...   \n",
       "\n",
       "    content   wording                                    prompt_question  \\\n",
       "0  0.088882 -0.594710  In complete sentences, summarize the structure...   \n",
       "1  0.205683  0.380538  Summarize the various ways the factory would u...   \n",
       "2  0.205683  0.380538  Summarize how the Third Wave developed over su...   \n",
       "3 -0.066112 -0.715083  In complete sentences, summarize the structure...   \n",
       "4 -0.782641 -0.245970  Summarize how the Third Wave developed over su...   \n",
       "\n",
       "                prompt_title                          prompt_text  \\\n",
       "0  Egyptian Social Structure    Egyptian society was structure...   \n",
       "1    Excerpt from The Jungle    With one member trimming beef ...   \n",
       "2             The Third Wave  Background \\r\\nThe Third Wave ex...   \n",
       "3  Egyptian Social Structure    Egyptian society was structure...   \n",
       "4             The Third Wave  Background \\r\\nThe Third Wave ex...   \n",
       "\n",
       "   text_length  word_count  number_count  punctuation_count  stopword_count  \n",
       "0          332          51             0                 15              20  \n",
       "1          419          78             0                 12              32  \n",
       "2          347          68             0                  4              36  \n",
       "3          403          64             0                 10              26  \n",
       "4          226          39             0                  2              17  "
      ],
      "text/html": [
       "<div>\n",
       "<style scoped>\n",
       "    .dataframe tbody tr th:only-of-type {\n",
       "        vertical-align: middle;\n",
       "    }\n",
       "\n",
       "    .dataframe tbody tr th {\n",
       "        vertical-align: top;\n",
       "    }\n",
       "\n",
       "    .dataframe thead th {\n",
       "        text-align: right;\n",
       "    }\n",
       "</style>\n",
       "<table border=\"1\" class=\"dataframe\">\n",
       "  <thead>\n",
       "    <tr style=\"text-align: right;\">\n",
       "      <th></th>\n",
       "      <th>student_id</th>\n",
       "      <th>prompt_id</th>\n",
       "      <th>text</th>\n",
       "      <th>content</th>\n",
       "      <th>wording</th>\n",
       "      <th>prompt_question</th>\n",
       "      <th>prompt_title</th>\n",
       "      <th>prompt_text</th>\n",
       "      <th>text_length</th>\n",
       "      <th>word_count</th>\n",
       "      <th>number_count</th>\n",
       "      <th>punctuation_count</th>\n",
       "      <th>stopword_count</th>\n",
       "    </tr>\n",
       "  </thead>\n",
       "  <tbody>\n",
       "    <tr>\n",
       "      <th>0</th>\n",
       "      <td>184dca7e24ee</td>\n",
       "      <td>3b9047</td>\n",
       "      <td>At the top were pharaohs, viziers, and scribe...</td>\n",
       "      <td>0.088882</td>\n",
       "      <td>-0.594710</td>\n",
       "      <td>In complete sentences, summarize the structure...</td>\n",
       "      <td>Egyptian Social Structure</td>\n",
       "      <td>Egyptian society was structure...</td>\n",
       "      <td>332</td>\n",
       "      <td>51</td>\n",
       "      <td>0</td>\n",
       "      <td>15</td>\n",
       "      <td>20</td>\n",
       "    </tr>\n",
       "    <tr>\n",
       "      <th>1</th>\n",
       "      <td>e09048fbddf2</td>\n",
       "      <td>ebad26</td>\n",
       "      <td>Workers would prepare rotten meat with better ...</td>\n",
       "      <td>0.205683</td>\n",
       "      <td>0.380538</td>\n",
       "      <td>Summarize the various ways the factory would u...</td>\n",
       "      <td>Excerpt from The Jungle</td>\n",
       "      <td>With one member trimming beef ...</td>\n",
       "      <td>419</td>\n",
       "      <td>78</td>\n",
       "      <td>0</td>\n",
       "      <td>12</td>\n",
       "      <td>32</td>\n",
       "    </tr>\n",
       "    <tr>\n",
       "      <th>2</th>\n",
       "      <td>b204a168d0a7</td>\n",
       "      <td>814d6b</td>\n",
       "      <td>Jones started it as an xperiment then added in...</td>\n",
       "      <td>0.205683</td>\n",
       "      <td>0.380538</td>\n",
       "      <td>Summarize how the Third Wave developed over su...</td>\n",
       "      <td>The Third Wave</td>\n",
       "      <td>Background \\r\\nThe Third Wave ex...</td>\n",
       "      <td>347</td>\n",
       "      <td>68</td>\n",
       "      <td>0</td>\n",
       "      <td>4</td>\n",
       "      <td>36</td>\n",
       "    </tr>\n",
       "    <tr>\n",
       "      <th>3</th>\n",
       "      <td>95c8b1d33694</td>\n",
       "      <td>3b9047</td>\n",
       "      <td>In the ancient Egyptian system of government, ...</td>\n",
       "      <td>-0.066112</td>\n",
       "      <td>-0.715083</td>\n",
       "      <td>In complete sentences, summarize the structure...</td>\n",
       "      <td>Egyptian Social Structure</td>\n",
       "      <td>Egyptian society was structure...</td>\n",
       "      <td>403</td>\n",
       "      <td>64</td>\n",
       "      <td>0</td>\n",
       "      <td>10</td>\n",
       "      <td>26</td>\n",
       "    </tr>\n",
       "    <tr>\n",
       "      <th>4</th>\n",
       "      <td>2fb4be37709b</td>\n",
       "      <td>814d6b</td>\n",
       "      <td>The purpose of the expieriment was to to show ...</td>\n",
       "      <td>-0.782641</td>\n",
       "      <td>-0.245970</td>\n",
       "      <td>Summarize how the Third Wave developed over su...</td>\n",
       "      <td>The Third Wave</td>\n",
       "      <td>Background \\r\\nThe Third Wave ex...</td>\n",
       "      <td>226</td>\n",
       "      <td>39</td>\n",
       "      <td>0</td>\n",
       "      <td>2</td>\n",
       "      <td>17</td>\n",
       "    </tr>\n",
       "  </tbody>\n",
       "</table>\n",
       "</div>"
      ]
     },
     "execution_count": 4,
     "metadata": {},
     "output_type": "execute_result"
    }
   ],
   "execution_count": 4
  },
  {
   "cell_type": "markdown",
   "id": "8da3a2a8a8271049",
   "metadata": {},
   "source": [
    "## Preprocesamiento"
   ]
  },
  {
   "cell_type": "code",
   "id": "72e3c21973aecca2",
   "metadata": {
    "ExecuteTime": {
     "end_time": "2024-11-16T22:00:03.002049Z",
     "start_time": "2024-11-16T22:00:02.990772Z"
    }
   },
   "source": [
    "# normalizar variables numéricas\n",
    "from sklearn.preprocessing import MinMaxScaler\n",
    "\n",
    "scaler = MinMaxScaler()\n",
    "data[['text_length', 'word_count', 'number_count', 'punctuation_count', 'stopword_count']] = scaler.fit_transform(data[['text_length', 'word_count', 'number_count', 'punctuation_count', 'stopword_count']])\n",
    "\n",
    "data.head()"
   ],
   "outputs": [
    {
     "data": {
      "text/plain": [
       "     student_id prompt_id                                               text  \\\n",
       "0  184dca7e24ee    3b9047   At the top were pharaohs, viziers, and scribe...   \n",
       "1  e09048fbddf2    ebad26  Workers would prepare rotten meat with better ...   \n",
       "2  b204a168d0a7    814d6b  Jones started it as an xperiment then added in...   \n",
       "3  95c8b1d33694    3b9047  In the ancient Egyptian system of government, ...   \n",
       "4  2fb4be37709b    814d6b  The purpose of the expieriment was to to show ...   \n",
       "\n",
       "    content   wording                                    prompt_question  \\\n",
       "0  0.088882 -0.594710  In complete sentences, summarize the structure...   \n",
       "1  0.205683  0.380538  Summarize the various ways the factory would u...   \n",
       "2  0.205683  0.380538  Summarize how the Third Wave developed over su...   \n",
       "3 -0.066112 -0.715083  In complete sentences, summarize the structure...   \n",
       "4 -0.782641 -0.245970  Summarize how the Third Wave developed over su...   \n",
       "\n",
       "                prompt_title                          prompt_text  \\\n",
       "0  Egyptian Social Structure    Egyptian society was structure...   \n",
       "1    Excerpt from The Jungle    With one member trimming beef ...   \n",
       "2             The Third Wave  Background \\r\\nThe Third Wave ex...   \n",
       "3  Egyptian Social Structure    Egyptian society was structure...   \n",
       "4             The Third Wave  Background \\r\\nThe Third Wave ex...   \n",
       "\n",
       "   text_length  word_count  number_count  punctuation_count  stopword_count  \n",
       "0     0.056979      0.0464           0.0           0.095541        0.067114  \n",
       "1     0.079718      0.0896           0.0           0.076433        0.107383  \n",
       "2     0.060899      0.0736           0.0           0.025478        0.120805  \n",
       "3     0.075536      0.0672           0.0           0.063694        0.087248  \n",
       "4     0.029273      0.0272           0.0           0.012739        0.057047  "
      ],
      "text/html": [
       "<div>\n",
       "<style scoped>\n",
       "    .dataframe tbody tr th:only-of-type {\n",
       "        vertical-align: middle;\n",
       "    }\n",
       "\n",
       "    .dataframe tbody tr th {\n",
       "        vertical-align: top;\n",
       "    }\n",
       "\n",
       "    .dataframe thead th {\n",
       "        text-align: right;\n",
       "    }\n",
       "</style>\n",
       "<table border=\"1\" class=\"dataframe\">\n",
       "  <thead>\n",
       "    <tr style=\"text-align: right;\">\n",
       "      <th></th>\n",
       "      <th>student_id</th>\n",
       "      <th>prompt_id</th>\n",
       "      <th>text</th>\n",
       "      <th>content</th>\n",
       "      <th>wording</th>\n",
       "      <th>prompt_question</th>\n",
       "      <th>prompt_title</th>\n",
       "      <th>prompt_text</th>\n",
       "      <th>text_length</th>\n",
       "      <th>word_count</th>\n",
       "      <th>number_count</th>\n",
       "      <th>punctuation_count</th>\n",
       "      <th>stopword_count</th>\n",
       "    </tr>\n",
       "  </thead>\n",
       "  <tbody>\n",
       "    <tr>\n",
       "      <th>0</th>\n",
       "      <td>184dca7e24ee</td>\n",
       "      <td>3b9047</td>\n",
       "      <td>At the top were pharaohs, viziers, and scribe...</td>\n",
       "      <td>0.088882</td>\n",
       "      <td>-0.594710</td>\n",
       "      <td>In complete sentences, summarize the structure...</td>\n",
       "      <td>Egyptian Social Structure</td>\n",
       "      <td>Egyptian society was structure...</td>\n",
       "      <td>0.056979</td>\n",
       "      <td>0.0464</td>\n",
       "      <td>0.0</td>\n",
       "      <td>0.095541</td>\n",
       "      <td>0.067114</td>\n",
       "    </tr>\n",
       "    <tr>\n",
       "      <th>1</th>\n",
       "      <td>e09048fbddf2</td>\n",
       "      <td>ebad26</td>\n",
       "      <td>Workers would prepare rotten meat with better ...</td>\n",
       "      <td>0.205683</td>\n",
       "      <td>0.380538</td>\n",
       "      <td>Summarize the various ways the factory would u...</td>\n",
       "      <td>Excerpt from The Jungle</td>\n",
       "      <td>With one member trimming beef ...</td>\n",
       "      <td>0.079718</td>\n",
       "      <td>0.0896</td>\n",
       "      <td>0.0</td>\n",
       "      <td>0.076433</td>\n",
       "      <td>0.107383</td>\n",
       "    </tr>\n",
       "    <tr>\n",
       "      <th>2</th>\n",
       "      <td>b204a168d0a7</td>\n",
       "      <td>814d6b</td>\n",
       "      <td>Jones started it as an xperiment then added in...</td>\n",
       "      <td>0.205683</td>\n",
       "      <td>0.380538</td>\n",
       "      <td>Summarize how the Third Wave developed over su...</td>\n",
       "      <td>The Third Wave</td>\n",
       "      <td>Background \\r\\nThe Third Wave ex...</td>\n",
       "      <td>0.060899</td>\n",
       "      <td>0.0736</td>\n",
       "      <td>0.0</td>\n",
       "      <td>0.025478</td>\n",
       "      <td>0.120805</td>\n",
       "    </tr>\n",
       "    <tr>\n",
       "      <th>3</th>\n",
       "      <td>95c8b1d33694</td>\n",
       "      <td>3b9047</td>\n",
       "      <td>In the ancient Egyptian system of government, ...</td>\n",
       "      <td>-0.066112</td>\n",
       "      <td>-0.715083</td>\n",
       "      <td>In complete sentences, summarize the structure...</td>\n",
       "      <td>Egyptian Social Structure</td>\n",
       "      <td>Egyptian society was structure...</td>\n",
       "      <td>0.075536</td>\n",
       "      <td>0.0672</td>\n",
       "      <td>0.0</td>\n",
       "      <td>0.063694</td>\n",
       "      <td>0.087248</td>\n",
       "    </tr>\n",
       "    <tr>\n",
       "      <th>4</th>\n",
       "      <td>2fb4be37709b</td>\n",
       "      <td>814d6b</td>\n",
       "      <td>The purpose of the expieriment was to to show ...</td>\n",
       "      <td>-0.782641</td>\n",
       "      <td>-0.245970</td>\n",
       "      <td>Summarize how the Third Wave developed over su...</td>\n",
       "      <td>The Third Wave</td>\n",
       "      <td>Background \\r\\nThe Third Wave ex...</td>\n",
       "      <td>0.029273</td>\n",
       "      <td>0.0272</td>\n",
       "      <td>0.0</td>\n",
       "      <td>0.012739</td>\n",
       "      <td>0.057047</td>\n",
       "    </tr>\n",
       "  </tbody>\n",
       "</table>\n",
       "</div>"
      ]
     },
     "execution_count": 5,
     "metadata": {},
     "output_type": "execute_result"
    }
   ],
   "execution_count": 5
  },
  {
   "cell_type": "code",
   "id": "92933c854c485bc4",
   "metadata": {
    "ExecuteTime": {
     "end_time": "2024-11-16T22:00:03.399247Z",
     "start_time": "2024-11-16T22:00:03.094315Z"
    }
   },
   "source": [
    "tokenizer = Tokenizer(num_words=10000)  # Limitar a las 10,000 palabras más comunes\n",
    "tokenizer.fit_on_texts(data['text'] + ' ' + data['prompt_text'])"
   ],
   "outputs": [],
   "execution_count": 6
  },
  {
   "cell_type": "code",
   "id": "d73b624270e1e5",
   "metadata": {
    "ExecuteTime": {
     "end_time": "2024-11-16T22:00:03.623306Z",
     "start_time": "2024-11-16T22:00:03.408798Z"
    }
   },
   "source": [
    "sequences = tokenizer.texts_to_sequences(data['text'] + ' ' + data['prompt_text'])"
   ],
   "outputs": [],
   "execution_count": 7
  },
  {
   "cell_type": "code",
   "id": "e4cbb7cf0f66eef1",
   "metadata": {
    "ExecuteTime": {
     "end_time": "2024-11-16T22:00:03.717220Z",
     "start_time": "2024-11-16T22:00:03.688497Z"
    }
   },
   "source": [
    "maxlen = 200  # Puedes ajustar este valor según la longitud promedio\n",
    "X = pad_sequences(sequences, maxlen=maxlen)"
   ],
   "outputs": [],
   "execution_count": 8
  },
  {
   "cell_type": "code",
   "id": "68b936b668663865",
   "metadata": {
    "ExecuteTime": {
     "end_time": "2024-11-16T22:00:03.781402Z",
     "start_time": "2024-11-16T22:00:03.773992Z"
    }
   },
   "source": [
    "# Combinar las etiquetas en una matriz\n",
    "y = data[['content', 'wording']].values\n",
    "\n",
    "# Dividir los datos en entrenamiento y prueba\n",
    "X_train, X_test, y_train, y_test = train_test_split(X, y, test_size=0.2, random_state=42)"
   ],
   "outputs": [],
   "execution_count": 9
  },
  {
   "cell_type": "code",
   "id": "1331bf5d4844055d",
   "metadata": {
    "ExecuteTime": {
     "end_time": "2024-11-16T22:00:03.818261Z",
     "start_time": "2024-11-16T22:00:03.815324Z"
    }
   },
   "source": [
    "# Separar las etiquetas después de la división\n",
    "y_content_train = y_train[:, 0]\n",
    "y_wording_train = y_train[:, 1]\n",
    "y_content_test = y_test[:, 0]\n",
    "y_wording_test = y_test[:,1]"
   ],
   "outputs": [],
   "execution_count": 10
  },
  {
   "cell_type": "markdown",
   "id": "428a02fad50d9e68",
   "metadata": {},
   "source": [
    "## RNN"
   ]
  },
  {
   "cell_type": "code",
   "id": "733c12f5c9ba4e24",
   "metadata": {
    "ExecuteTime": {
     "end_time": "2024-11-16T22:00:03.852550Z",
     "start_time": "2024-11-16T22:00:03.847084Z"
    }
   },
   "source": [
    "from tensorflow.keras.models import Model\n",
    "from tensorflow.keras.layers import Input, Embedding, LSTM, Dense, Dropout\n"
   ],
   "outputs": [],
   "execution_count": 11
  },
  {
   "cell_type": "code",
   "id": "481ee8e748cf23d4",
   "metadata": {
    "ExecuteTime": {
     "end_time": "2024-11-16T22:00:04.034885Z",
     "start_time": "2024-11-16T22:00:03.870802Z"
    }
   },
   "source": [
    "input_ = Input(shape=(maxlen,))\n",
    "\n",
    "x = Embedding(input_dim=10000, output_dim=128, input_length=maxlen)(input_)\n",
    "\n",
    "x = LSTM(256, return_sequences=True)(x)\n",
    "x = Dropout(0.5)(x)\n",
    "x = LSTM(128, return_sequences=True)(x)\n",
    "x = Dropout(0.5)(x)\n",
    "x = LSTM(64, return_sequences=False)(x)\n",
    "x = Dense(64, activation='relu')(x)\n",
    "x = Dropout(0.5)(x)\n",
    "x = Dense(32, activation='relu')(x)"
   ],
   "outputs": [
    {
     "name": "stderr",
     "output_type": "stream",
     "text": [
      "C:\\Users\\marka\\anaconda3\\envs\\DataMining11\\Lib\\site-packages\\keras\\src\\layers\\core\\embedding.py:90: UserWarning: Argument `input_length` is deprecated. Just remove it.\n",
      "  warnings.warn(\n"
     ]
    }
   ],
   "execution_count": 12
  },
  {
   "cell_type": "code",
   "id": "6d59c81b315c82da",
   "metadata": {
    "ExecuteTime": {
     "end_time": "2024-11-16T22:00:04.067895Z",
     "start_time": "2024-11-16T22:00:04.054771Z"
    }
   },
   "source": [
    "# Predicción de content\n",
    "content_output = Dense(1, activation='linear', name='content')(x)\n",
    "\n",
    "# Predicción de wording\n",
    "wording_output = Dense(1, activation='linear', name='wording')(x)"
   ],
   "outputs": [],
   "execution_count": 13
  },
  {
   "cell_type": "code",
   "id": "ae8ca111801ec0f0",
   "metadata": {
    "ExecuteTime": {
     "end_time": "2024-11-16T22:00:04.089343Z",
     "start_time": "2024-11-16T22:00:04.086441Z"
    }
   },
   "source": [
    "optimizer = 'adam'\n",
    "loss = 'mean_squared_error'\n",
    "metrics = {\n",
    "    'content': ['mae'],   # Métrica para la salida 'content'\n",
    "    'wording': ['mae']    # Métrica para la salida 'wording'\n",
    "}\n",
    "epochs = 15\n",
    "batch_size = 256\n"
   ],
   "outputs": [],
   "execution_count": 14
  },
  {
   "cell_type": "code",
   "id": "fb53f9f3baf2a741",
   "metadata": {
    "ExecuteTime": {
     "end_time": "2024-11-16T22:00:04.113933Z",
     "start_time": "2024-11-16T22:00:04.109524Z"
    }
   },
   "source": [
    "from tensorflow.keras.callbacks import EarlyStopping\n",
    "\n",
    "early_stopping = EarlyStopping(\n",
    "    monitor='val_loss',\n",
    "    patience=3,\n",
    "    restore_best_weights=True\n",
    ")"
   ],
   "outputs": [],
   "execution_count": 15
  },
  {
   "cell_type": "code",
   "id": "316122613939525e",
   "metadata": {
    "ExecuteTime": {
     "end_time": "2024-11-16T22:00:04.145233Z",
     "start_time": "2024-11-16T22:00:04.131746Z"
    }
   },
   "source": [
    "model = Model(inputs=input_, outputs=[content_output, wording_output])\n",
    "model.compile(optimizer=optimizer, loss=loss, metrics=metrics)"
   ],
   "outputs": [],
   "execution_count": 16
  },
  {
   "cell_type": "code",
   "id": "8d9f7efbfc6ae07",
   "metadata": {
    "ExecuteTime": {
     "end_time": "2024-11-16T22:00:04.181967Z",
     "start_time": "2024-11-16T22:00:04.163844Z"
    }
   },
   "source": [
    "model.summary()"
   ],
   "outputs": [
    {
     "data": {
      "text/plain": [
       "\u001B[1mModel: \"functional_1\"\u001B[0m\n"
      ],
      "text/html": [
       "<pre style=\"white-space:pre;overflow-x:auto;line-height:normal;font-family:Menlo,'DejaVu Sans Mono',consolas,'Courier New',monospace\"><span style=\"font-weight: bold\">Model: \"functional_1\"</span>\n",
       "</pre>\n"
      ]
     },
     "metadata": {},
     "output_type": "display_data"
    },
    {
     "data": {
      "text/plain": [
       "┏━━━━━━━━━━━━━━━━━━━━━┳━━━━━━━━━━━━━━━━━━━┳━━━━━━━━━━━━┳━━━━━━━━━━━━━━━━━━━┓\n",
       "┃\u001B[1m \u001B[0m\u001B[1mLayer (type)       \u001B[0m\u001B[1m \u001B[0m┃\u001B[1m \u001B[0m\u001B[1mOutput Shape     \u001B[0m\u001B[1m \u001B[0m┃\u001B[1m \u001B[0m\u001B[1m   Param #\u001B[0m\u001B[1m \u001B[0m┃\u001B[1m \u001B[0m\u001B[1mConnected to     \u001B[0m\u001B[1m \u001B[0m┃\n",
       "┡━━━━━━━━━━━━━━━━━━━━━╇━━━━━━━━━━━━━━━━━━━╇━━━━━━━━━━━━╇━━━━━━━━━━━━━━━━━━━┩\n",
       "│ input_layer         │ (\u001B[38;5;45mNone\u001B[0m, \u001B[38;5;34m200\u001B[0m)       │          \u001B[38;5;34m0\u001B[0m │ -                 │\n",
       "│ (\u001B[38;5;33mInputLayer\u001B[0m)        │                   │            │                   │\n",
       "├─────────────────────┼───────────────────┼────────────┼───────────────────┤\n",
       "│ embedding           │ (\u001B[38;5;45mNone\u001B[0m, \u001B[38;5;34m200\u001B[0m, \u001B[38;5;34m128\u001B[0m)  │  \u001B[38;5;34m1,280,000\u001B[0m │ input_layer[\u001B[38;5;34m0\u001B[0m][\u001B[38;5;34m0\u001B[0m] │\n",
       "│ (\u001B[38;5;33mEmbedding\u001B[0m)         │                   │            │                   │\n",
       "├─────────────────────┼───────────────────┼────────────┼───────────────────┤\n",
       "│ lstm (\u001B[38;5;33mLSTM\u001B[0m)         │ (\u001B[38;5;45mNone\u001B[0m, \u001B[38;5;34m200\u001B[0m, \u001B[38;5;34m256\u001B[0m)  │    \u001B[38;5;34m394,240\u001B[0m │ embedding[\u001B[38;5;34m0\u001B[0m][\u001B[38;5;34m0\u001B[0m]   │\n",
       "├─────────────────────┼───────────────────┼────────────┼───────────────────┤\n",
       "│ dropout (\u001B[38;5;33mDropout\u001B[0m)   │ (\u001B[38;5;45mNone\u001B[0m, \u001B[38;5;34m200\u001B[0m, \u001B[38;5;34m256\u001B[0m)  │          \u001B[38;5;34m0\u001B[0m │ lstm[\u001B[38;5;34m0\u001B[0m][\u001B[38;5;34m0\u001B[0m]        │\n",
       "├─────────────────────┼───────────────────┼────────────┼───────────────────┤\n",
       "│ lstm_1 (\u001B[38;5;33mLSTM\u001B[0m)       │ (\u001B[38;5;45mNone\u001B[0m, \u001B[38;5;34m200\u001B[0m, \u001B[38;5;34m128\u001B[0m)  │    \u001B[38;5;34m197,120\u001B[0m │ dropout[\u001B[38;5;34m0\u001B[0m][\u001B[38;5;34m0\u001B[0m]     │\n",
       "├─────────────────────┼───────────────────┼────────────┼───────────────────┤\n",
       "│ dropout_1 (\u001B[38;5;33mDropout\u001B[0m) │ (\u001B[38;5;45mNone\u001B[0m, \u001B[38;5;34m200\u001B[0m, \u001B[38;5;34m128\u001B[0m)  │          \u001B[38;5;34m0\u001B[0m │ lstm_1[\u001B[38;5;34m0\u001B[0m][\u001B[38;5;34m0\u001B[0m]      │\n",
       "├─────────────────────┼───────────────────┼────────────┼───────────────────┤\n",
       "│ lstm_2 (\u001B[38;5;33mLSTM\u001B[0m)       │ (\u001B[38;5;45mNone\u001B[0m, \u001B[38;5;34m64\u001B[0m)        │     \u001B[38;5;34m49,408\u001B[0m │ dropout_1[\u001B[38;5;34m0\u001B[0m][\u001B[38;5;34m0\u001B[0m]   │\n",
       "├─────────────────────┼───────────────────┼────────────┼───────────────────┤\n",
       "│ dense (\u001B[38;5;33mDense\u001B[0m)       │ (\u001B[38;5;45mNone\u001B[0m, \u001B[38;5;34m64\u001B[0m)        │      \u001B[38;5;34m4,160\u001B[0m │ lstm_2[\u001B[38;5;34m0\u001B[0m][\u001B[38;5;34m0\u001B[0m]      │\n",
       "├─────────────────────┼───────────────────┼────────────┼───────────────────┤\n",
       "│ dropout_2 (\u001B[38;5;33mDropout\u001B[0m) │ (\u001B[38;5;45mNone\u001B[0m, \u001B[38;5;34m64\u001B[0m)        │          \u001B[38;5;34m0\u001B[0m │ dense[\u001B[38;5;34m0\u001B[0m][\u001B[38;5;34m0\u001B[0m]       │\n",
       "├─────────────────────┼───────────────────┼────────────┼───────────────────┤\n",
       "│ dense_1 (\u001B[38;5;33mDense\u001B[0m)     │ (\u001B[38;5;45mNone\u001B[0m, \u001B[38;5;34m32\u001B[0m)        │      \u001B[38;5;34m2,080\u001B[0m │ dropout_2[\u001B[38;5;34m0\u001B[0m][\u001B[38;5;34m0\u001B[0m]   │\n",
       "├─────────────────────┼───────────────────┼────────────┼───────────────────┤\n",
       "│ content (\u001B[38;5;33mDense\u001B[0m)     │ (\u001B[38;5;45mNone\u001B[0m, \u001B[38;5;34m1\u001B[0m)         │         \u001B[38;5;34m33\u001B[0m │ dense_1[\u001B[38;5;34m0\u001B[0m][\u001B[38;5;34m0\u001B[0m]     │\n",
       "├─────────────────────┼───────────────────┼────────────┼───────────────────┤\n",
       "│ wording (\u001B[38;5;33mDense\u001B[0m)     │ (\u001B[38;5;45mNone\u001B[0m, \u001B[38;5;34m1\u001B[0m)         │         \u001B[38;5;34m33\u001B[0m │ dense_1[\u001B[38;5;34m0\u001B[0m][\u001B[38;5;34m0\u001B[0m]     │\n",
       "└─────────────────────┴───────────────────┴────────────┴───────────────────┘\n"
      ],
      "text/html": [
       "<pre style=\"white-space:pre;overflow-x:auto;line-height:normal;font-family:Menlo,'DejaVu Sans Mono',consolas,'Courier New',monospace\">┏━━━━━━━━━━━━━━━━━━━━━┳━━━━━━━━━━━━━━━━━━━┳━━━━━━━━━━━━┳━━━━━━━━━━━━━━━━━━━┓\n",
       "┃<span style=\"font-weight: bold\"> Layer (type)        </span>┃<span style=\"font-weight: bold\"> Output Shape      </span>┃<span style=\"font-weight: bold\">    Param # </span>┃<span style=\"font-weight: bold\"> Connected to      </span>┃\n",
       "┡━━━━━━━━━━━━━━━━━━━━━╇━━━━━━━━━━━━━━━━━━━╇━━━━━━━━━━━━╇━━━━━━━━━━━━━━━━━━━┩\n",
       "│ input_layer         │ (<span style=\"color: #00d7ff; text-decoration-color: #00d7ff\">None</span>, <span style=\"color: #00af00; text-decoration-color: #00af00\">200</span>)       │          <span style=\"color: #00af00; text-decoration-color: #00af00\">0</span> │ -                 │\n",
       "│ (<span style=\"color: #0087ff; text-decoration-color: #0087ff\">InputLayer</span>)        │                   │            │                   │\n",
       "├─────────────────────┼───────────────────┼────────────┼───────────────────┤\n",
       "│ embedding           │ (<span style=\"color: #00d7ff; text-decoration-color: #00d7ff\">None</span>, <span style=\"color: #00af00; text-decoration-color: #00af00\">200</span>, <span style=\"color: #00af00; text-decoration-color: #00af00\">128</span>)  │  <span style=\"color: #00af00; text-decoration-color: #00af00\">1,280,000</span> │ input_layer[<span style=\"color: #00af00; text-decoration-color: #00af00\">0</span>][<span style=\"color: #00af00; text-decoration-color: #00af00\">0</span>] │\n",
       "│ (<span style=\"color: #0087ff; text-decoration-color: #0087ff\">Embedding</span>)         │                   │            │                   │\n",
       "├─────────────────────┼───────────────────┼────────────┼───────────────────┤\n",
       "│ lstm (<span style=\"color: #0087ff; text-decoration-color: #0087ff\">LSTM</span>)         │ (<span style=\"color: #00d7ff; text-decoration-color: #00d7ff\">None</span>, <span style=\"color: #00af00; text-decoration-color: #00af00\">200</span>, <span style=\"color: #00af00; text-decoration-color: #00af00\">256</span>)  │    <span style=\"color: #00af00; text-decoration-color: #00af00\">394,240</span> │ embedding[<span style=\"color: #00af00; text-decoration-color: #00af00\">0</span>][<span style=\"color: #00af00; text-decoration-color: #00af00\">0</span>]   │\n",
       "├─────────────────────┼───────────────────┼────────────┼───────────────────┤\n",
       "│ dropout (<span style=\"color: #0087ff; text-decoration-color: #0087ff\">Dropout</span>)   │ (<span style=\"color: #00d7ff; text-decoration-color: #00d7ff\">None</span>, <span style=\"color: #00af00; text-decoration-color: #00af00\">200</span>, <span style=\"color: #00af00; text-decoration-color: #00af00\">256</span>)  │          <span style=\"color: #00af00; text-decoration-color: #00af00\">0</span> │ lstm[<span style=\"color: #00af00; text-decoration-color: #00af00\">0</span>][<span style=\"color: #00af00; text-decoration-color: #00af00\">0</span>]        │\n",
       "├─────────────────────┼───────────────────┼────────────┼───────────────────┤\n",
       "│ lstm_1 (<span style=\"color: #0087ff; text-decoration-color: #0087ff\">LSTM</span>)       │ (<span style=\"color: #00d7ff; text-decoration-color: #00d7ff\">None</span>, <span style=\"color: #00af00; text-decoration-color: #00af00\">200</span>, <span style=\"color: #00af00; text-decoration-color: #00af00\">128</span>)  │    <span style=\"color: #00af00; text-decoration-color: #00af00\">197,120</span> │ dropout[<span style=\"color: #00af00; text-decoration-color: #00af00\">0</span>][<span style=\"color: #00af00; text-decoration-color: #00af00\">0</span>]     │\n",
       "├─────────────────────┼───────────────────┼────────────┼───────────────────┤\n",
       "│ dropout_1 (<span style=\"color: #0087ff; text-decoration-color: #0087ff\">Dropout</span>) │ (<span style=\"color: #00d7ff; text-decoration-color: #00d7ff\">None</span>, <span style=\"color: #00af00; text-decoration-color: #00af00\">200</span>, <span style=\"color: #00af00; text-decoration-color: #00af00\">128</span>)  │          <span style=\"color: #00af00; text-decoration-color: #00af00\">0</span> │ lstm_1[<span style=\"color: #00af00; text-decoration-color: #00af00\">0</span>][<span style=\"color: #00af00; text-decoration-color: #00af00\">0</span>]      │\n",
       "├─────────────────────┼───────────────────┼────────────┼───────────────────┤\n",
       "│ lstm_2 (<span style=\"color: #0087ff; text-decoration-color: #0087ff\">LSTM</span>)       │ (<span style=\"color: #00d7ff; text-decoration-color: #00d7ff\">None</span>, <span style=\"color: #00af00; text-decoration-color: #00af00\">64</span>)        │     <span style=\"color: #00af00; text-decoration-color: #00af00\">49,408</span> │ dropout_1[<span style=\"color: #00af00; text-decoration-color: #00af00\">0</span>][<span style=\"color: #00af00; text-decoration-color: #00af00\">0</span>]   │\n",
       "├─────────────────────┼───────────────────┼────────────┼───────────────────┤\n",
       "│ dense (<span style=\"color: #0087ff; text-decoration-color: #0087ff\">Dense</span>)       │ (<span style=\"color: #00d7ff; text-decoration-color: #00d7ff\">None</span>, <span style=\"color: #00af00; text-decoration-color: #00af00\">64</span>)        │      <span style=\"color: #00af00; text-decoration-color: #00af00\">4,160</span> │ lstm_2[<span style=\"color: #00af00; text-decoration-color: #00af00\">0</span>][<span style=\"color: #00af00; text-decoration-color: #00af00\">0</span>]      │\n",
       "├─────────────────────┼───────────────────┼────────────┼───────────────────┤\n",
       "│ dropout_2 (<span style=\"color: #0087ff; text-decoration-color: #0087ff\">Dropout</span>) │ (<span style=\"color: #00d7ff; text-decoration-color: #00d7ff\">None</span>, <span style=\"color: #00af00; text-decoration-color: #00af00\">64</span>)        │          <span style=\"color: #00af00; text-decoration-color: #00af00\">0</span> │ dense[<span style=\"color: #00af00; text-decoration-color: #00af00\">0</span>][<span style=\"color: #00af00; text-decoration-color: #00af00\">0</span>]       │\n",
       "├─────────────────────┼───────────────────┼────────────┼───────────────────┤\n",
       "│ dense_1 (<span style=\"color: #0087ff; text-decoration-color: #0087ff\">Dense</span>)     │ (<span style=\"color: #00d7ff; text-decoration-color: #00d7ff\">None</span>, <span style=\"color: #00af00; text-decoration-color: #00af00\">32</span>)        │      <span style=\"color: #00af00; text-decoration-color: #00af00\">2,080</span> │ dropout_2[<span style=\"color: #00af00; text-decoration-color: #00af00\">0</span>][<span style=\"color: #00af00; text-decoration-color: #00af00\">0</span>]   │\n",
       "├─────────────────────┼───────────────────┼────────────┼───────────────────┤\n",
       "│ content (<span style=\"color: #0087ff; text-decoration-color: #0087ff\">Dense</span>)     │ (<span style=\"color: #00d7ff; text-decoration-color: #00d7ff\">None</span>, <span style=\"color: #00af00; text-decoration-color: #00af00\">1</span>)         │         <span style=\"color: #00af00; text-decoration-color: #00af00\">33</span> │ dense_1[<span style=\"color: #00af00; text-decoration-color: #00af00\">0</span>][<span style=\"color: #00af00; text-decoration-color: #00af00\">0</span>]     │\n",
       "├─────────────────────┼───────────────────┼────────────┼───────────────────┤\n",
       "│ wording (<span style=\"color: #0087ff; text-decoration-color: #0087ff\">Dense</span>)     │ (<span style=\"color: #00d7ff; text-decoration-color: #00d7ff\">None</span>, <span style=\"color: #00af00; text-decoration-color: #00af00\">1</span>)         │         <span style=\"color: #00af00; text-decoration-color: #00af00\">33</span> │ dense_1[<span style=\"color: #00af00; text-decoration-color: #00af00\">0</span>][<span style=\"color: #00af00; text-decoration-color: #00af00\">0</span>]     │\n",
       "└─────────────────────┴───────────────────┴────────────┴───────────────────┘\n",
       "</pre>\n"
      ]
     },
     "metadata": {},
     "output_type": "display_data"
    },
    {
     "data": {
      "text/plain": [
       "\u001B[1m Total params: \u001B[0m\u001B[38;5;34m1,927,074\u001B[0m (7.35 MB)\n"
      ],
      "text/html": [
       "<pre style=\"white-space:pre;overflow-x:auto;line-height:normal;font-family:Menlo,'DejaVu Sans Mono',consolas,'Courier New',monospace\"><span style=\"font-weight: bold\"> Total params: </span><span style=\"color: #00af00; text-decoration-color: #00af00\">1,927,074</span> (7.35 MB)\n",
       "</pre>\n"
      ]
     },
     "metadata": {},
     "output_type": "display_data"
    },
    {
     "data": {
      "text/plain": [
       "\u001B[1m Trainable params: \u001B[0m\u001B[38;5;34m1,927,074\u001B[0m (7.35 MB)\n"
      ],
      "text/html": [
       "<pre style=\"white-space:pre;overflow-x:auto;line-height:normal;font-family:Menlo,'DejaVu Sans Mono',consolas,'Courier New',monospace\"><span style=\"font-weight: bold\"> Trainable params: </span><span style=\"color: #00af00; text-decoration-color: #00af00\">1,927,074</span> (7.35 MB)\n",
       "</pre>\n"
      ]
     },
     "metadata": {},
     "output_type": "display_data"
    },
    {
     "data": {
      "text/plain": [
       "\u001B[1m Non-trainable params: \u001B[0m\u001B[38;5;34m0\u001B[0m (0.00 B)\n"
      ],
      "text/html": [
       "<pre style=\"white-space:pre;overflow-x:auto;line-height:normal;font-family:Menlo,'DejaVu Sans Mono',consolas,'Courier New',monospace\"><span style=\"font-weight: bold\"> Non-trainable params: </span><span style=\"color: #00af00; text-decoration-color: #00af00\">0</span> (0.00 B)\n",
       "</pre>\n"
      ]
     },
     "metadata": {},
     "output_type": "display_data"
    }
   ],
   "execution_count": 17
  },
  {
   "cell_type": "code",
   "id": "f9a5dc831d140084",
   "metadata": {
    "ExecuteTime": {
     "end_time": "2024-11-16T22:02:54.896329Z",
     "start_time": "2024-11-16T22:00:04.202772Z"
    }
   },
   "source": [
    "history = model.fit(\n",
    "    X_train, \n",
    "    [y_content_train, y_wording_train], \n",
    "    validation_data=(X_test, [y_content_test, y_wording_test]), \n",
    "    epochs=epochs,\n",
    "    batch_size=batch_size,\n",
    "    callbacks=[early_stopping],\n",
    "    verbose=2\n",
    ")"
   ],
   "outputs": [
    {
     "name": "stdout",
     "output_type": "stream",
     "text": [
      "Epoch 1/15\n",
      "23/23 - 26s - 1s/step - content_mae: 0.6351 - loss: 1.5209 - wording_mae: 0.7193 - val_content_mae: 0.4737 - val_loss: 1.0411 - val_wording_mae: 0.6382\n",
      "Epoch 2/15\n",
      "23/23 - 23s - 1s/step - content_mae: 0.4464 - loss: 0.8843 - wording_mae: 0.5813 - val_content_mae: 0.4037 - val_loss: 0.8352 - val_wording_mae: 0.5746\n",
      "Epoch 3/15\n",
      "23/23 - 24s - 1s/step - content_mae: 0.4244 - loss: 0.7741 - wording_mae: 0.5382 - val_content_mae: 0.3868 - val_loss: 0.7646 - val_wording_mae: 0.5438\n",
      "Epoch 4/15\n",
      "23/23 - 24s - 1s/step - content_mae: 0.3848 - loss: 0.6419 - wording_mae: 0.4881 - val_content_mae: 0.3703 - val_loss: 0.7173 - val_wording_mae: 0.5300\n",
      "Epoch 5/15\n",
      "23/23 - 23s - 995ms/step - content_mae: 0.3709 - loss: 0.5718 - wording_mae: 0.4531 - val_content_mae: 0.4037 - val_loss: 0.7860 - val_wording_mae: 0.5476\n",
      "Epoch 6/15\n",
      "23/23 - 25s - 1s/step - content_mae: 0.3523 - loss: 0.5155 - wording_mae: 0.4295 - val_content_mae: 0.3809 - val_loss: 0.7429 - val_wording_mae: 0.5470\n",
      "Epoch 7/15\n",
      "23/23 - 26s - 1s/step - content_mae: 0.3377 - loss: 0.4511 - wording_mae: 0.3929 - val_content_mae: 0.3845 - val_loss: 0.7790 - val_wording_mae: 0.5510\n"
     ]
    }
   ],
   "execution_count": 18
  },
  {
   "cell_type": "code",
   "id": "2510069cf3548ff5",
   "metadata": {
    "ExecuteTime": {
     "end_time": "2024-11-16T22:02:57.945548Z",
     "start_time": "2024-11-16T22:02:54.934727Z"
    }
   },
   "source": [
    "from sklearn.metrics import mean_absolute_error, mean_squared_error, r2_score\n",
    "\n",
    "y_content_pred, y_wording_pred = model.predict(X_test)\n",
    "\n",
    "print('MAE content:', mean_absolute_error(y_content_test, y_content_pred))\n",
    "print('MSE content:', mean_squared_error(y_content_test, y_content_pred))\n",
    "print('R2 content:', r2_score(y_content_test, y_content_pred))\n",
    "\n",
    "print('\\nMAE wording:', mean_absolute_error(y_wording_test, y_wording_pred))\n",
    "print('MSE wording:', mean_squared_error(y_wording_test, y_wording_pred))\n",
    "print('R2 wording:', r2_score(y_wording_test, y_wording_pred))"
   ],
   "outputs": [
    {
     "name": "stdout",
     "output_type": "stream",
     "text": [
      "\u001B[1m45/45\u001B[0m \u001B[32m━━━━━━━━━━━━━━━━━━━━\u001B[0m\u001B[37m\u001B[0m \u001B[1m3s\u001B[0m 59ms/step\n",
      "MAE content: 0.3702878222185503\n",
      "MSE content: 0.24775582701428822\n",
      "R2 content: 0.7923944357085801\n",
      "\n",
      "MAE wording: 0.5299778978436497\n",
      "MSE wording: 0.46954239401188236\n",
      "R2 wording: 0.5929447955491355\n"
     ]
    }
   ],
   "execution_count": 19
  },
  {
   "cell_type": "markdown",
   "id": "d65110d8",
   "metadata": {},
   "source": [
    "# Guardando el modelo"
   ]
  },
  {
   "cell_type": "code",
   "id": "0b7aef4e",
   "metadata": {
    "ExecuteTime": {
     "end_time": "2024-11-16T22:02:58.018633Z",
     "start_time": "2024-11-16T22:02:57.950556Z"
    }
   },
   "source": [
    "import pickle\n",
    "\n",
    "# Guardar el modelo\n",
    "model.save(\"models/rnn.keras\")\n",
    "\n",
    "with open('models/tokenizer.pickle', 'wb') as handle:\n",
    "    pickle.dump(tokenizer, handle, protocol=pickle.HIGHEST_PROTOCOL)"
   ],
   "outputs": [],
   "execution_count": 20
  },
  {
   "cell_type": "code",
   "id": "a2aff7fe0661b72d",
   "metadata": {
    "ExecuteTime": {
     "end_time": "2024-11-16T22:02:58.306161Z",
     "start_time": "2024-11-16T22:02:58.038041Z"
    }
   },
   "source": [
    "import matplotlib.pyplot as plt"
   ],
   "outputs": [],
   "execution_count": 21
  },
  {
   "cell_type": "code",
   "id": "8d4dc17c3413a10e",
   "metadata": {
    "ExecuteTime": {
     "end_time": "2024-11-16T22:02:58.599147Z",
     "start_time": "2024-11-16T22:02:58.499386Z"
    }
   },
   "source": [
    "plt.plot(history.history['loss'])\n",
    "plt.plot(history.history['val_loss'])\n",
    "plt.title('Loss')\n",
    "plt.show()"
   ],
   "outputs": [
    {
     "data": {
      "text/plain": [
       "<Figure size 640x480 with 1 Axes>"
      ],
      "image/png": "[encoded data removed]"
     },
     "metadata": {},
     "output_type": "display_data"
    }
   ],
   "execution_count": 22
  },
  {
   "cell_type": "code",
   "id": "68530c73651230bb",
   "metadata": {
    "ExecuteTime": {
     "end_time": "2024-11-16T22:02:58.685713Z",
     "start_time": "2024-11-16T22:02:58.618295Z"
    }
   },
   "source": [
    "plt.plot(history.history['content_mae'])\n",
    "plt.plot(history.history['val_content_mae'])\n",
    "plt.title('Content MAE')\n",
    "plt.show()"
   ],
   "outputs": [
    {
     "data": {
      "text/plain": [
       "<Figure size 640x480 with 1 Axes>"
      ],
      "image/png": "[encoded data removed]"
     },
     "metadata": {},
     "output_type": "display_data"
    }
   ],
   "execution_count": 23
  },
  {
   "cell_type": "code",
   "id": "b63a5b888f5aa96a",
   "metadata": {
    "ExecuteTime": {
     "end_time": "2024-11-16T22:02:58.775077Z",
     "start_time": "2024-11-16T22:02:58.706025Z"
    }
   },
   "source": [
    "plt.plot(history.history['wording_mae'])\n",
    "plt.plot(history.history['val_wording_mae'])\n",
    "plt.title('Wording MAE')\n",
    "plt.show()"
   ],
   "outputs": [
    {
     "data": {
      "text/plain": [
       "<Figure size 640x480 with 1 Axes>"
      ],
      "image/png": "[encoded data removed]"
     },
     "metadata": {},
     "output_type": "display_data"
    }
   ],
   "execution_count": 24
  },
  {
   "cell_type": "markdown",
   "id": "daf391cc",
   "metadata": {},
   "source": [
    "# Cargando el modelo"
   ]
  },
  {
   "cell_type": "code",
   "id": "c86d65717e93c8d0",
   "metadata": {
    "ExecuteTime": {
     "end_time": "2024-11-16T22:02:59.537989Z",
     "start_time": "2024-11-16T22:02:58.795895Z"
    }
   },
   "source": [
    "from tensorflow.keras.models import load_model\n",
    "\n",
    "model = load_model('rnn')"
   ],
   "outputs": [
    {
     "ename": "ValueError",
     "evalue": "File format not supported: filepath=rnn. Keras 3 only supports V3 `.keras` files and legacy H5 format files (`.h5` extension). Note that the legacy SavedModel format is not supported by `load_model()` in Keras 3. In order to reload a TensorFlow SavedModel as an inference-only layer in Keras 3, use `keras.layers.TFSMLayer(rnn, call_endpoint='serving_default')` (note that your `call_endpoint` might have a different name).",
     "output_type": "error",
     "traceback": [
      "\u001B[1;31m---------------------------------------------------------------------------\u001B[0m",
      "\u001B[1;31mValueError\u001B[0m                                Traceback (most recent call last)",
      "Cell \u001B[1;32mIn[25], line 3\u001B[0m\n\u001B[0;32m      1\u001B[0m \u001B[38;5;28;01mfrom\u001B[39;00m \u001B[38;5;21;01mtensorflow\u001B[39;00m\u001B[38;5;21;01m.\u001B[39;00m\u001B[38;5;21;01mkeras\u001B[39;00m\u001B[38;5;21;01m.\u001B[39;00m\u001B[38;5;21;01mmodels\u001B[39;00m \u001B[38;5;28;01mimport\u001B[39;00m load_model\n\u001B[1;32m----> 3\u001B[0m model \u001B[38;5;241m=\u001B[39m load_model(\u001B[38;5;124m'\u001B[39m\u001B[38;5;124mrnn\u001B[39m\u001B[38;5;124m'\u001B[39m)\n",
      "File \u001B[1;32m~\\anaconda3\\envs\\DataMining11\\Lib\\site-packages\\keras\\src\\saving\\saving_api.py:193\u001B[0m, in \u001B[0;36mload_model\u001B[1;34m(filepath, custom_objects, compile, safe_mode)\u001B[0m\n\u001B[0;32m    187\u001B[0m     \u001B[38;5;28;01mraise\u001B[39;00m \u001B[38;5;167;01mValueError\u001B[39;00m(\n\u001B[0;32m    188\u001B[0m         \u001B[38;5;124mf\u001B[39m\u001B[38;5;124m\"\u001B[39m\u001B[38;5;124mFile not found: filepath=\u001B[39m\u001B[38;5;132;01m{\u001B[39;00mfilepath\u001B[38;5;132;01m}\u001B[39;00m\u001B[38;5;124m. \u001B[39m\u001B[38;5;124m\"\u001B[39m\n\u001B[0;32m    189\u001B[0m         \u001B[38;5;124m\"\u001B[39m\u001B[38;5;124mPlease ensure the file is an accessible `.keras` \u001B[39m\u001B[38;5;124m\"\u001B[39m\n\u001B[0;32m    190\u001B[0m         \u001B[38;5;124m\"\u001B[39m\u001B[38;5;124mzip file.\u001B[39m\u001B[38;5;124m\"\u001B[39m\n\u001B[0;32m    191\u001B[0m     )\n\u001B[0;32m    192\u001B[0m \u001B[38;5;28;01melse\u001B[39;00m:\n\u001B[1;32m--> 193\u001B[0m     \u001B[38;5;28;01mraise\u001B[39;00m \u001B[38;5;167;01mValueError\u001B[39;00m(\n\u001B[0;32m    194\u001B[0m         \u001B[38;5;124mf\u001B[39m\u001B[38;5;124m\"\u001B[39m\u001B[38;5;124mFile format not supported: filepath=\u001B[39m\u001B[38;5;132;01m{\u001B[39;00mfilepath\u001B[38;5;132;01m}\u001B[39;00m\u001B[38;5;124m. \u001B[39m\u001B[38;5;124m\"\u001B[39m\n\u001B[0;32m    195\u001B[0m         \u001B[38;5;124m\"\u001B[39m\u001B[38;5;124mKeras 3 only supports V3 `.keras` files and \u001B[39m\u001B[38;5;124m\"\u001B[39m\n\u001B[0;32m    196\u001B[0m         \u001B[38;5;124m\"\u001B[39m\u001B[38;5;124mlegacy H5 format files (`.h5` extension). \u001B[39m\u001B[38;5;124m\"\u001B[39m\n\u001B[0;32m    197\u001B[0m         \u001B[38;5;124m\"\u001B[39m\u001B[38;5;124mNote that the legacy SavedModel format is not \u001B[39m\u001B[38;5;124m\"\u001B[39m\n\u001B[0;32m    198\u001B[0m         \u001B[38;5;124m\"\u001B[39m\u001B[38;5;124msupported by `load_model()` in Keras 3. In \u001B[39m\u001B[38;5;124m\"\u001B[39m\n\u001B[0;32m    199\u001B[0m         \u001B[38;5;124m\"\u001B[39m\u001B[38;5;124morder to reload a TensorFlow SavedModel as an \u001B[39m\u001B[38;5;124m\"\u001B[39m\n\u001B[0;32m    200\u001B[0m         \u001B[38;5;124m\"\u001B[39m\u001B[38;5;124minference-only layer in Keras 3, use \u001B[39m\u001B[38;5;124m\"\u001B[39m\n\u001B[0;32m    201\u001B[0m         \u001B[38;5;124m\"\u001B[39m\u001B[38;5;124m`keras.layers.TFSMLayer(\u001B[39m\u001B[38;5;124m\"\u001B[39m\n\u001B[0;32m    202\u001B[0m         \u001B[38;5;124mf\u001B[39m\u001B[38;5;124m\"\u001B[39m\u001B[38;5;132;01m{\u001B[39;00mfilepath\u001B[38;5;132;01m}\u001B[39;00m\u001B[38;5;124m, call_endpoint=\u001B[39m\u001B[38;5;124m'\u001B[39m\u001B[38;5;124mserving_default\u001B[39m\u001B[38;5;124m'\u001B[39m\u001B[38;5;124m)` \u001B[39m\u001B[38;5;124m\"\u001B[39m\n\u001B[0;32m    203\u001B[0m         \u001B[38;5;124m\"\u001B[39m\u001B[38;5;124m(note that your `call_endpoint` \u001B[39m\u001B[38;5;124m\"\u001B[39m\n\u001B[0;32m    204\u001B[0m         \u001B[38;5;124m\"\u001B[39m\u001B[38;5;124mmight have a different name).\u001B[39m\u001B[38;5;124m\"\u001B[39m\n\u001B[0;32m    205\u001B[0m     )\n",
      "\u001B[1;31mValueError\u001B[0m: File format not supported: filepath=rnn. Keras 3 only supports V3 `.keras` files and legacy H5 format files (`.h5` extension). Note that the legacy SavedModel format is not supported by `load_model()` in Keras 3. In order to reload a TensorFlow SavedModel as an inference-only layer in Keras 3, use `keras.layers.TFSMLayer(rnn, call_endpoint='serving_default')` (note that your `call_endpoint` might have a different name)."
     ]
    }
   ],
   "execution_count": 25
  }
 ],
 "metadata": {
  "kernelspec": {
   "display_name": "tf",
   "language": "python",
   "name": "python3"
  },
  "language_info": {
   "codemirror_mode": {
    "name": "ipython",
    "version": 3
   },
   "file_extension": ".py",
   "mimetype": "text/x-python",
   "name": "python",
   "nbconvert_exporter": "python",
   "pygments_lexer": "ipython3",
   "version": "3.10.13"
  }
 },
 "nbformat": 4,
 "nbformat_minor": 5
}
